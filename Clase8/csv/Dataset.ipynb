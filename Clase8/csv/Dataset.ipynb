{
  "nbformat": 4,
  "nbformat_minor": 0,
  "metadata": {
    "colab": {
      "provenance": []
    },
    "kernelspec": {
      "name": "python3",
      "display_name": "Python 3"
    },
    "language_info": {
      "name": "python"
    }
  },
  "cells": [
    {
      "cell_type": "markdown",
      "source": [
        "### Importar librerias"
      ],
      "metadata": {
        "id": "5H-nb96D3e_D"
      }
    },
    {
      "cell_type": "markdown",
      "source": [
        "* Numpy: Realizar cálculos numéricos de forma rapida y eficiente.\n",
        "* Pandas: Realizar manipulacion y analisis de datos.\n",
        "* Matplotlib: Realizar graficos"
      ],
      "metadata": {
        "id": "QEQayB0CFQXk"
      }
    },
    {
      "cell_type": "code",
      "source": [
        "import numpy as np\n",
        "import pandas as pd\n",
        "import matplotlib.pyplot as plt\n",
        "\n",
        "%matplotlib inline"
      ],
      "metadata": {
        "id": "ze0HVL6fG2P5"
      },
      "execution_count": null,
      "outputs": []
    },
    {
      "cell_type": "markdown",
      "source": [
        "### Montar drive"
      ],
      "metadata": {
        "id": "oCfKqJXu3jmC"
      }
    },
    {
      "cell_type": "code",
      "source": [
        "from google.colab import drive\n",
        "drive.mount('/content/drive')\n"
      ],
      "metadata": {
        "id": "o_Tmyz6BG44P"
      },
      "execution_count": null,
      "outputs": []
    },
    {
      "cell_type": "markdown",
      "source": [
        "### Cargamos la informacion"
      ],
      "metadata": {
        "id": "21KeOuiy4aIR"
      }
    },
    {
      "cell_type": "code",
      "source": [
        "vuelos = pd.read_csv('/content/drive/MyDrive/Coder-50190/202309_informe_ministerio_resumido.csv', parse_dates=['Fecha UTC'])"
      ],
      "metadata": {
        "id": "0ggv8-ixG8s1"
      },
      "execution_count": null,
      "outputs": []
    },
    {
      "cell_type": "markdown",
      "source": [
        "### Visualizacion rapida"
      ],
      "metadata": {
        "id": "C4iuZY-n4hGF"
      }
    },
    {
      "cell_type": "code",
      "source": [
        "vuelos.head()"
      ],
      "metadata": {
        "id": "bABuRKToJSjU"
      },
      "execution_count": null,
      "outputs": []
    },
    {
      "cell_type": "code",
      "source": [
        "vuelos.shape"
      ],
      "metadata": {
        "id": "zwMJwdiKKdRc"
      },
      "execution_count": null,
      "outputs": []
    },
    {
      "cell_type": "code",
      "source": [
        "vuelos.info()"
      ],
      "metadata": {
        "id": "rTOOEuPZLzDg"
      },
      "execution_count": null,
      "outputs": []
    },
    {
      "cell_type": "markdown",
      "source": [
        "### Aeropuertos"
      ],
      "metadata": {
        "id": "konbxLgi45K6"
      }
    },
    {
      "cell_type": "code",
      "source": [
        "vuelos['Aeropuerto'].describe()"
      ],
      "metadata": {
        "id": "WAD6X3CFL7yU"
      },
      "execution_count": null,
      "outputs": []
    },
    {
      "cell_type": "code",
      "source": [
        "vuelos['Aeropuerto'].value_counts()"
      ],
      "metadata": {
        "id": "-YmGXLH0Qzzh"
      },
      "execution_count": null,
      "outputs": []
    },
    {
      "cell_type": "code",
      "source": [
        "# Filtrar datos\n",
        "vuelos.loc[vuelos['Aeropuerto'] == 'IGU']"
      ],
      "metadata": {
        "id": "srHTGcY6jugT"
      },
      "execution_count": null,
      "outputs": []
    },
    {
      "cell_type": "code",
      "source": [
        "vuelos['Aeropuerto'].value_counts().plot(kind='pie', figsize=(6,6))"
      ],
      "metadata": {
        "id": "f_hJJohjO35r"
      },
      "execution_count": null,
      "outputs": []
    },
    {
      "cell_type": "code",
      "source": [
        "ax = vuelos['Aeropuerto'].value_counts().plot(kind='bar', figsize=(14,6))"
      ],
      "metadata": {
        "id": "GuukcWi3PKaS"
      },
      "execution_count": null,
      "outputs": []
    },
    {
      "cell_type": "markdown",
      "source": [
        "### Pasajeros"
      ],
      "metadata": {
        "id": "TBLRGcLJPRuM"
      }
    },
    {
      "cell_type": "code",
      "source": [
        "vuelos['Pasajeros'].describe()"
      ],
      "metadata": {
        "id": "TG1C8eCRNNze"
      },
      "execution_count": null,
      "outputs": []
    },
    {
      "cell_type": "code",
      "source": [
        "vuelos['Pasajeros'].median()"
      ],
      "metadata": {
        "id": "eGyyCTPYTX7E"
      },
      "execution_count": null,
      "outputs": []
    },
    {
      "cell_type": "code",
      "source": [
        "ax = vuelos['Pasajeros'].plot(kind='density', figsize=(14,6)) # kde\n",
        "ax.axvline(vuelos['Pasajeros'].mean(), color='red')\n",
        "ax.axvline(vuelos['Pasajeros'].median(), color='green')\n",
        "ax.axvline(vuelos['Pasajeros'].max(), color='yellow')\n",
        "ax.axvline(vuelos['Pasajeros'].min(), color='yellow')\n"
      ],
      "metadata": {
        "id": "7nQxVjvGraUo"
      },
      "execution_count": null,
      "outputs": []
    },
    {
      "cell_type": "markdown",
      "source": [
        "### Aerolinea"
      ],
      "metadata": {
        "id": "uSzXKlt1pGcp"
      }
    },
    {
      "cell_type": "code",
      "source": [
        "vuelos['Aerolinea Nombre'].describe()"
      ],
      "metadata": {
        "id": "7zprb6zFN0pk"
      },
      "execution_count": null,
      "outputs": []
    },
    {
      "cell_type": "code",
      "source": [
        "ax = vuelos['Aerolinea Nombre'].value_counts().plot(kind='bar', figsize=(14,6))\n",
        "ax.set_xlabel('Aerolinea')\n",
        "ax.set_ylabel('Cantidad de Vuelos')"
      ],
      "metadata": {
        "id": "mRcRyxQUQ8E7"
      },
      "execution_count": null,
      "outputs": []
    },
    {
      "cell_type": "markdown",
      "source": [
        "### Clasificacion de vuelos"
      ],
      "metadata": {
        "id": "r5iF2L1DINau"
      }
    },
    {
      "cell_type": "code",
      "source": [
        "vuelos['Clasificación Vuelo'].value_counts()"
      ],
      "metadata": {
        "id": "x-TR_zJeHxGg"
      },
      "execution_count": null,
      "outputs": []
    },
    {
      "cell_type": "code",
      "source": [
        "vuelos['Clasificación Vuelo'].value_counts().plot(kind='pie', figsize=(6,6))"
      ],
      "metadata": {
        "id": "EEsWD7d4IBNb"
      },
      "execution_count": null,
      "outputs": []
    },
    {
      "cell_type": "markdown",
      "source": [
        "### Pasajeros x Aerolinea"
      ],
      "metadata": {
        "id": "KGuApFNNpMor"
      }
    },
    {
      "cell_type": "code",
      "source": [
        "ax = vuelos.groupby('Aerolinea Nombre')['Pasajeros'].sum().sort_values(ascending=False).plot(kind='bar', figsize=(14,6))\n",
        "ax.set_xlabel('Aerolinea')\n",
        "ax.set_ylabel('Pasajeros')"
      ],
      "metadata": {
        "id": "FdQODfwQMzyc"
      },
      "execution_count": null,
      "outputs": []
    },
    {
      "cell_type": "markdown",
      "source": [
        "### Filtrar Datos"
      ],
      "metadata": {
        "id": "3cWjnB1XtCIQ"
      }
    },
    {
      "cell_type": "code",
      "source": [
        "vuelos.loc[vuelos['Aerolinea Nombre'] == 'JETSMART AIRLINES S.A.']"
      ],
      "metadata": {
        "id": "-cpEwqYutKS7"
      },
      "execution_count": null,
      "outputs": []
    },
    {
      "cell_type": "markdown",
      "source": [
        "### El promedio de pasajeros de una Aerolinea"
      ],
      "metadata": {
        "id": "PRZXV1qRCsOq"
      }
    },
    {
      "cell_type": "code",
      "source": [
        "vuelos.loc[vuelos['Aerolinea Nombre'] == 'JETSMART AIRLINES S.A.', 'Pasajeros'].mean()"
      ],
      "metadata": {
        "id": "s67mCtz2Csyt"
      },
      "execution_count": null,
      "outputs": []
    }
  ]
}