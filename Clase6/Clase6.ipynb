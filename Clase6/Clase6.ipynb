{
  "nbformat": 4,
  "nbformat_minor": 0,
  "metadata": {
    "colab": {
      "provenance": []
    },
    "kernelspec": {
      "name": "python3",
      "display_name": "Python 3"
    },
    "language_info": {
      "name": "python"
    }
  },
  "cells": [
    {
      "cell_type": "markdown",
      "source": [
        "<font size=\"6\" color=\"rgb(128, 128, 0)\">Conjuntos y Diccionarios</font>"
      ],
      "metadata": {
        "id": "2JBiZNqPZuAL"
      }
    },
    {
      "cell_type": "markdown",
      "source": [
        "* Conjuntos\n",
        "* Diccionarios\n",
        "\n",
        "![purple-divider](https://user-images.githubusercontent.com/7065401/52071927-c1cd7100-2562-11e9-908a-dde91ba14e59.png)"
      ],
      "metadata": {
        "id": "2EBFNAu3dEs7"
      }
    },
    {
      "cell_type": "markdown",
      "source": [
        "### Objetivos de la clase\n",
        "\n",
        "* __Identificar__ un Conjunto\n",
        "* __Reconocer__ similitudes y diferencias entre list y set\n",
        "* __Agregar__ y borrar valores al set\n",
        "* __Identificar__ un Diccionario, agregar y borrar valores al dict"
      ],
      "metadata": {
        "id": "o3_S__CqdTR9"
      }
    },
    {
      "cell_type": "markdown",
      "source": [
        "![purple-divider](https://user-images.githubusercontent.com/7065401/52071927-c1cd7100-2562-11e9-908a-dde91ba14e59.png)\n",
        "\n",
        "### Conjuntos"
      ],
      "metadata": {
        "id": "LMcxSMQ8grna"
      }
    },
    {
      "cell_type": "markdown",
      "source": [
        "Un conjunto o **set** es una colección no ordenada de objetos únicos, es decir, no tiene elementos duplicados. Python provee este tipo de datos por defecto al igual que otras colecciones más convencionales como las **listas, tuplas y diccionarios**."
      ],
      "metadata": {
        "id": "sgVLNxUBgwPy"
      }
    },
    {
      "cell_type": "code",
      "source": [
        "# Conjunto: objetos separados por coma y contenido entre dos llaves\n",
        "# set numeros\n"
      ],
      "metadata": {
        "id": "8Y-RNHqqhflj"
      },
      "execution_count": null,
      "outputs": []
    },
    {
      "cell_type": "code",
      "source": [
        "# set con strings\n"
      ],
      "metadata": {
        "id": "ituBEERPoVj3"
      },
      "execution_count": null,
      "outputs": []
    },
    {
      "cell_type": "code",
      "source": [
        "# Conjunto vacio -- set()\n"
      ],
      "metadata": {
        "id": "7AKg00POh_Dv"
      },
      "execution_count": null,
      "outputs": []
    },
    {
      "cell_type": "code",
      "source": [
        "# Recuerdan como es\n",
        "# string vacio"
      ],
      "metadata": {
        "id": "qBPATga3nY3b"
      },
      "execution_count": null,
      "outputs": []
    },
    {
      "cell_type": "code",
      "source": [
        "# lista vacia\n"
      ],
      "metadata": {
        "id": "9ZZHXMIfqik2"
      },
      "execution_count": null,
      "outputs": []
    },
    {
      "cell_type": "code",
      "source": [
        "# tupla vacia\n"
      ],
      "metadata": {
        "id": "ebJo3ZKpqboP"
      },
      "execution_count": null,
      "outputs": []
    },
    {
      "cell_type": "code",
      "source": [
        "# y entonces un conjunto vacio puede ser {}?\n"
      ],
      "metadata": {
        "id": "4jiN9nQSo61u"
      },
      "execution_count": null,
      "outputs": []
    },
    {
      "cell_type": "code",
      "source": [
        "# type(foo)"
      ],
      "metadata": {
        "id": "Fe5FtF747BQQ"
      },
      "execution_count": null,
      "outputs": []
    },
    {
      "cell_type": "markdown",
      "source": [
        "Los conjuntos son ampliamente utilizados en lógica y matemática, y desde el lenguaje podemos sacar provecho de sus propiedades para crear código más eficiente y legible en menos tiempo."
      ],
      "metadata": {
        "id": "KFeQstT-m7wH"
      }
    },
    {
      "cell_type": "markdown",
      "source": [
        "![green-divider](https://user-images.githubusercontent.com/7065401/52071924-c003ad80-2562-11e9-8297-1c6595f8a7ff.png)\n",
        "\n",
        "#### Heterogeneos"
      ],
      "metadata": {
        "id": "l3YfmMasiFK-"
      }
    },
    {
      "cell_type": "markdown",
      "source": [
        "En otros lenguajes, las colecciones tienen una restricción la cual solo permite tener un tipo de dato. Pero en Python, no tenemos esa restricción. Podemos tener un conjunto heterogéneo que contenga números, variables, strings, o tuplas."
      ],
      "metadata": {
        "id": "4hF5wGfdiM3o"
      }
    },
    {
      "cell_type": "code",
      "source": [
        "# Ejemplo heterogeneo\n",
        "# set heterogeneo int - float - str\n"
      ],
      "metadata": {
        "id": "XU7XZMkciKxQ"
      },
      "execution_count": null,
      "outputs": []
    },
    {
      "cell_type": "code",
      "source": [
        "# Ejemplo heterogeneo con variables"
      ],
      "metadata": {
        "id": "nxW2uQA06MrT"
      },
      "execution_count": null,
      "outputs": []
    },
    {
      "cell_type": "code",
      "source": [
        "# A partir de un iterable\n",
        "# lista\n"
      ],
      "metadata": {
        "id": "nBDzyME7jVr4"
      },
      "execution_count": null,
      "outputs": []
    },
    {
      "cell_type": "code",
      "source": [
        "# y aca???\n",
        "lista = [1,1,2,3,3]\n"
      ],
      "metadata": {
        "id": "RRDRHx67sZJx"
      },
      "execution_count": null,
      "outputs": []
    },
    {
      "cell_type": "code",
      "source": [
        "# tupla\n"
      ],
      "metadata": {
        "id": "j_2ECLsXrtPb"
      },
      "execution_count": null,
      "outputs": []
    },
    {
      "cell_type": "code",
      "source": [
        "#range\n"
      ],
      "metadata": {
        "colab": {
          "base_uri": "https://localhost:8080/"
        },
        "id": "X_XaA8BesSW2",
        "outputId": "0d9ae63d-f5d9-4c97-81dc-54508d7be687"
      },
      "execution_count": null,
      "outputs": [
        {
          "output_type": "execute_result",
          "data": {
            "text/plain": [
              "{20, 40, 60, 80, 100, 120, 140, 160, 180}"
            ]
          },
          "metadata": {},
          "execution_count": 10
        }
      ]
    },
    {
      "cell_type": "code",
      "source": [
        "# Ejemplo con listas"
      ],
      "metadata": {
        "id": "VjGhoiEj8CIE"
      },
      "execution_count": null,
      "outputs": []
    },
    {
      "cell_type": "markdown",
      "source": [
        "Sin embargo, un conjunto no puede incluir objetos mutables como listas, diccionarios, e incluso otros conjuntos o set."
      ],
      "metadata": {
        "id": "mH-9OnL879ju"
      }
    },
    {
      "cell_type": "markdown",
      "source": [
        "![green-divider](https://user-images.githubusercontent.com/7065401/52071924-c003ad80-2562-11e9-8297-1c6595f8a7ff.png)\n",
        "\n",
        "#### Conversiones"
      ],
      "metadata": {
        "id": "9LVZbXSlvGDr"
      }
    },
    {
      "cell_type": "markdown",
      "source": [
        "Un set puede ser convertido a una lista y viceversa. En este último caso, los elementos duplicados son unificados.\n"
      ],
      "metadata": {
        "id": "3IyXdldikXp4"
      }
    },
    {
      "cell_type": "code",
      "source": [
        "# Convertir set a lista list\n"
      ],
      "metadata": {
        "id": "cOyfLZ5ZkSjL"
      },
      "execution_count": null,
      "outputs": []
    },
    {
      "cell_type": "code",
      "source": [
        "# lista a set\n"
      ],
      "metadata": {
        "id": "ClP67BRtvLLY"
      },
      "execution_count": null,
      "outputs": []
    },
    {
      "cell_type": "markdown",
      "source": [
        "![green-divider](https://user-images.githubusercontent.com/7065401/52071924-c003ad80-2562-11e9-8297-1c6595f8a7ff.png)\n",
        "\n",
        "#### Listas vs Sets"
      ],
      "metadata": {
        "id": "WicQMlF_uCWL"
      }
    },
    {
      "cell_type": "markdown",
      "source": [
        "|  Caracteristicas | list  |   set |\n",
        "|:------------- |:---------------:| -------------:|\n",
        "| Mutable/Inmutable         | Mutable          | ?        |\n",
        "| index         | SI          | ?        |\n",
        "| slicing         | SI          | ?        |"
      ],
      "metadata": {
        "id": "ZK-bNK99kekN"
      }
    },
    {
      "cell_type": "code",
      "source": [
        "# indice -- leer y escribir"
      ],
      "metadata": {
        "id": "o_ExPvkYkjXq"
      },
      "execution_count": null,
      "outputs": []
    },
    {
      "cell_type": "code",
      "source": [
        "# slicing -- leer y escribir\n"
      ],
      "metadata": {
        "id": "mSrXu62DpkMp"
      },
      "execution_count": null,
      "outputs": []
    },
    {
      "cell_type": "markdown",
      "source": [
        "![green-divider](https://user-images.githubusercontent.com/7065401/52071924-c003ad80-2562-11e9-8297-1c6595f8a7ff.png)\n",
        "\n",
        "#### Funciones integradas"
      ],
      "metadata": {
        "id": "GRxPm--PmpDI"
      }
    },
    {
      "cell_type": "markdown",
      "source": [
        "En los conjuntos, hay funciones que son muy interesantes e importantes, las funciones integradas."
      ],
      "metadata": {
        "id": "Rs0FOoemmuZ7"
      }
    },
    {
      "cell_type": "code",
      "source": [
        "# set de prueba\n",
        "\n",
        "numeros = set([0,1,2,3,4,5,6,7,8,9])"
      ],
      "metadata": {
        "id": "t6WAURQ0qQ7T"
      },
      "execution_count": null,
      "outputs": []
    },
    {
      "cell_type": "code",
      "source": [
        "## add -- Permite agregar un nuevo item al set\n",
        "## help(set.add)"
      ],
      "metadata": {
        "id": "k0WdVRjUmxCe"
      },
      "execution_count": null,
      "outputs": []
    },
    {
      "cell_type": "code",
      "source": [
        "## add -- con operaciones aritmeticas"
      ],
      "metadata": {
        "id": "7qUm9qcfqn1I"
      },
      "execution_count": null,
      "outputs": []
    },
    {
      "cell_type": "code",
      "source": [
        "## update -- agregar multiples elementos al set -- iterable\n",
        "\n",
        "lista = [10,20,30]\n",
        "tupla = (40,50,60)\n",
        "\n",
        "# Nota: Recordar que esta operacion es sobre el set"
      ],
      "metadata": {
        "id": "NwXbqmYDm0Yq"
      },
      "execution_count": null,
      "outputs": []
    },
    {
      "cell_type": "code",
      "source": [
        "## len"
      ],
      "metadata": {
        "id": "USyiWeURm2_r"
      },
      "execution_count": null,
      "outputs": []
    },
    {
      "cell_type": "code",
      "source": [
        "## discard -- eliminar un elemento del set\n",
        "## help(set.discard)"
      ],
      "metadata": {
        "id": "rj8-2yGem57E"
      },
      "execution_count": null,
      "outputs": []
    },
    {
      "cell_type": "code",
      "source": [
        "## si no esta?"
      ],
      "metadata": {
        "id": "8frLXtq1rpos"
      },
      "execution_count": null,
      "outputs": []
    },
    {
      "cell_type": "code",
      "source": [
        "## remove -- idem discard, cambia cuando item no esta\n",
        "## help(set.remove)"
      ],
      "metadata": {
        "id": "QyQ3P7Olm776"
      },
      "execution_count": null,
      "outputs": []
    },
    {
      "cell_type": "code",
      "source": [
        "## in -- ver si un elemento esta en el conjunto\n"
      ],
      "metadata": {
        "id": "qC9Hs6GOm-PE"
      },
      "execution_count": null,
      "outputs": []
    },
    {
      "cell_type": "code",
      "source": [
        "## clear -- limpia el set"
      ],
      "metadata": {
        "id": "XD7Q2nmNm_LL"
      },
      "execution_count": null,
      "outputs": []
    },
    {
      "cell_type": "code",
      "source": [
        "## pop -- saca un elemento ..el ultimo? el primero?"
      ],
      "metadata": {
        "id": "o5hTw8zlnB_x"
      },
      "execution_count": null,
      "outputs": []
    },
    {
      "cell_type": "code",
      "source": [
        "### dir"
      ],
      "metadata": {
        "id": "vZsXOq5InDNm"
      },
      "execution_count": null,
      "outputs": []
    },
    {
      "cell_type": "code",
      "source": [
        "## help"
      ],
      "metadata": {
        "id": "Q7XdZ75Ot66c"
      },
      "execution_count": null,
      "outputs": []
    },
    {
      "cell_type": "code",
      "source": [
        "# Mutable o inmutable ?"
      ],
      "metadata": {
        "id": "v0PqhcIAw8WD"
      },
      "execution_count": null,
      "outputs": []
    },
    {
      "cell_type": "markdown",
      "source": [
        "![green-divider](https://user-images.githubusercontent.com/7065401/52071924-c003ad80-2562-11e9-8297-1c6595f8a7ff.png)\n",
        "\n",
        "#### Ejercicios"
      ],
      "metadata": {
        "id": "WYhMvm9cnIzA"
      }
    },
    {
      "cell_type": "markdown",
      "source": [
        "**Descripción de la actividad.**\n",
        "\n",
        "Trabajaremos con el notebook de la sesión, específicamente sobre la temática de Sets.\n",
        "\n",
        "1. Crear un conjunto en Python que posea los siguientes elementos:\n",
        "\n",
        "* Colores: Rojo, Blanco, Azul\n",
        "\n",
        "2. Posteriormente, agrega nuestro set de colores, los valores de:\n",
        "\n",
        "* Violeta\n",
        "* Dorado\n",
        "\n",
        "3. Elimina a los colores:\n",
        "\n",
        "* Celeste\n",
        "* Blanco\n",
        "* Dorado\n",
        "\n",
        "4. ¿Qué pasa si queremos eliminar el color Celeste utilizando el método discard?"
      ],
      "metadata": {
        "id": "vf5TOgyRpj3m"
      }
    },
    {
      "cell_type": "code",
      "source": [],
      "metadata": {
        "id": "JqUyry4X_Dnf"
      },
      "execution_count": null,
      "outputs": []
    },
    {
      "cell_type": "markdown",
      "source": [
        "![purple-divider](https://user-images.githubusercontent.com/7065401/52071927-c1cd7100-2562-11e9-908a-dde91ba14e59.png)\n",
        "\n",
        "## Diccionarios"
      ],
      "metadata": {
        "id": "QdkqleunpvLI"
      }
    },
    {
      "cell_type": "markdown",
      "source": [
        "Un diccionario **dict** es una colección no ordenada de objetos. Es por eso que para **identificar** un valor cualquiera dentro de él, especificamos una **clave** (a diferencia de las listas y tuplas, cuyos elementos se identifican por su posición)."
      ],
      "metadata": {
        "id": "8s_dTSCBtLbL"
      }
    },
    {
      "cell_type": "markdown",
      "source": [
        "Las claves suelen ser int o string, aunque cualquier otro objeto inmutable puede actuar como una clave. Los valores, por el contrario, pueden ser de cualquier tipo, incluso otros diccionarios."
      ],
      "metadata": {
        "id": "RSRPFESntNpO"
      }
    },
    {
      "cell_type": "code",
      "source": [
        "### dict vacio"
      ],
      "metadata": {
        "id": "kGYqDbyupizv"
      },
      "execution_count": null,
      "outputs": []
    },
    {
      "cell_type": "code",
      "source": [
        "### con datos -- los pares clave:valor se separan por coma"
      ],
      "metadata": {
        "id": "ltHwRrIh75_p"
      },
      "execution_count": null,
      "outputs": []
    },
    {
      "cell_type": "code",
      "source": [
        "# type"
      ],
      "metadata": {
        "id": "yt0TTTRn8HL0"
      },
      "execution_count": null,
      "outputs": []
    },
    {
      "cell_type": "markdown",
      "source": [
        "![green-divider](https://user-images.githubusercontent.com/7065401/52071924-c003ad80-2562-11e9-8297-1c6595f8a7ff.png)\n",
        "\n",
        "#### Leyendo los valores"
      ],
      "metadata": {
        "id": "fK1lXDSH8KFa"
      }
    },
    {
      "cell_type": "code",
      "source": [
        "# nombre_dict[clave] --\n"
      ],
      "metadata": {
        "id": "xJ0-GTVWo7Jp"
      },
      "execution_count": null,
      "outputs": []
    },
    {
      "cell_type": "markdown",
      "source": [
        "![green-divider](https://user-images.githubusercontent.com/7065401/52071924-c003ad80-2562-11e9-8297-1c6595f8a7ff.png)\n",
        "\n",
        "#### Mutabilidad"
      ],
      "metadata": {
        "id": "9fP5kDpkpb4L"
      }
    },
    {
      "cell_type": "markdown",
      "source": [
        "Los diccionarios al igual que las listas son mutables, es decir, que podemos reasignar sus ítems haciendo referencia con el índice."
      ],
      "metadata": {
        "id": "6H8xA0VypsZx"
      }
    },
    {
      "cell_type": "code",
      "source": [
        "# ejemplo asignacion"
      ],
      "metadata": {
        "id": "dPmhckHBpelC"
      },
      "execution_count": null,
      "outputs": []
    },
    {
      "cell_type": "markdown",
      "source": [
        "![green-divider](https://user-images.githubusercontent.com/7065401/52071924-c003ad80-2562-11e9-8297-1c6595f8a7ff.png)\n",
        "\n",
        "#### Funciones de diccionarios"
      ],
      "metadata": {
        "id": "zIZ11Ta0rDYo"
      }
    },
    {
      "cell_type": "code",
      "source": [
        "# add -- Como agregamos pares clave-valor\n",
        "dir(dict)"
      ],
      "metadata": {
        "id": "UC_mW7ftrbPk"
      },
      "execution_count": null,
      "outputs": []
    },
    {
      "cell_type": "code",
      "source": [
        "# update -- dict"
      ],
      "metadata": {
        "id": "bkqKE2SmrwNr"
      },
      "execution_count": null,
      "outputs": []
    },
    {
      "cell_type": "code",
      "source": [
        "# update -- list"
      ],
      "metadata": {
        "id": "onRk4O8gvVRt"
      },
      "execution_count": null,
      "outputs": []
    },
    {
      "cell_type": "code",
      "source": [
        "# len -- Cantidad de elementos clave-valor"
      ],
      "metadata": {
        "id": "o7LJP7PHtgQi"
      },
      "execution_count": null,
      "outputs": []
    },
    {
      "cell_type": "code",
      "source": [
        "# del -- Elimina el item clave-valor cuya clave se pasa como argumento"
      ],
      "metadata": {
        "id": "VZBVFg5Ttmr8"
      },
      "execution_count": null,
      "outputs": []
    },
    {
      "cell_type": "code",
      "source": [
        "# del -- si la clave no esta?"
      ],
      "metadata": {
        "id": "hQLS7mC3t5ax"
      },
      "execution_count": null,
      "outputs": []
    },
    {
      "cell_type": "code",
      "source": [
        "# in - determinar si una clave esta en un dict"
      ],
      "metadata": {
        "id": "Y9-XZg0ct_T3"
      },
      "execution_count": null,
      "outputs": []
    },
    {
      "cell_type": "code",
      "source": [
        "# clear --"
      ],
      "metadata": {
        "id": "GQGEHY9iuYwb"
      },
      "execution_count": null,
      "outputs": []
    },
    {
      "cell_type": "code",
      "source": [
        "# copy"
      ],
      "metadata": {
        "id": "Twazkl-JB1Ec"
      },
      "execution_count": null,
      "outputs": []
    },
    {
      "cell_type": "markdown",
      "source": [
        "![green-divider](https://user-images.githubusercontent.com/7065401/52071924-c003ad80-2562-11e9-8297-1c6595f8a7ff.png)\n",
        "\n",
        "#### Ejercicios"
      ],
      "metadata": {
        "id": "N-U_Rv-IvjWA"
      }
    },
    {
      "cell_type": "markdown",
      "source": [
        "Deberás crear un diccionario que almacene a los ganadores de la Copa Mundial de la FIFA desde el año 1990 al 2018. Y mostrarlo por pantalla.\n",
        "\n",
        "Datos:\n",
        "\n",
        "* 1990: 'Alemania',\n",
        "* 1994: 'Brasil',\n",
        "* 1998: 'Francia',\n",
        "* 2002: 'Brasil',\n",
        "* 2006: 'Italia',\n",
        "* 2010: 'España',\n",
        "* 2014: 'Alemania'\n",
        "* 2018: 'Francia'\n"
      ],
      "metadata": {
        "id": "3eIKLsHPvsGB"
      }
    },
    {
      "cell_type": "code",
      "source": [],
      "metadata": {
        "id": "rpJuJdNGwqd0"
      },
      "execution_count": null,
      "outputs": []
    },
    {
      "cell_type": "markdown",
      "source": [
        "Escribir un programa que le solicite al usuario su:\n",
        "* nombre\n",
        "* edad\n",
        "* dirección\n",
        "\n",
        "y que, posteriormente, lo muestre por pantalla:\n",
        "\n",
        "Ejemplo del output solicitado:\n",
        "\n",
        "Juan tiene 25 años, y vive en Carrera 7 - Bogotá\n"
      ],
      "metadata": {
        "id": "01i2ur8-xM7G"
      }
    },
    {
      "cell_type": "code",
      "source": [],
      "metadata": {
        "id": "Cq-WlLsgxVmG"
      },
      "execution_count": null,
      "outputs": []
    }
  ]
}