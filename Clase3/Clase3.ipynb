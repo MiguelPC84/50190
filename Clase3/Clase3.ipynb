{
  "nbformat": 4,
  "nbformat_minor": 0,
  "metadata": {
    "colab": {
      "provenance": []
    },
    "kernelspec": {
      "name": "python3",
      "display_name": "Python 3"
    },
    "language_info": {
      "name": "python"
    }
  },
  "cells": [
    {
      "cell_type": "markdown",
      "source": [
        "<font size=\"6\" color=\"rgb(128, 128, 0)\"> Operadores y Expresiones </font>"
      ],
      "metadata": {
        "id": "H2oqpYAvmR13"
      }
    },
    {
      "cell_type": "markdown",
      "source": [
        "## Objetivos de la clase\n",
        "\n",
        "* **Reconocer** un Operador\n",
        "* **Identificar** similitudes y diferencias entre operador y expresion\n",
        "* **Reconocer** expresiones\n"
      ],
      "metadata": {
        "id": "cYnl2T1Km48s"
      }
    },
    {
      "cell_type": "markdown",
      "source": [
        "## Operadores"
      ],
      "metadata": {
        "id": "dWBiDH4T1vx3"
      }
    },
    {
      "cell_type": "markdown",
      "source": [
        "Los operadores son símbolos reservados por el propio lenguaje que se utilizan para llevar a cabo operaciones sobre uno, dos o más elementos llamados operandos. Los operandos pueden ser variables, literales, el valor devuelto por una expresión o el valor devuelto por una función.\n",
        "\n"
      ],
      "metadata": {
        "id": "oi5AUJvY2cxS"
      }
    },
    {
      "cell_type": "markdown",
      "source": [
        "El ejemplo más típico es el operador suma, +, que se utiliza para obtener la suma aritmética de dos valores:"
      ],
      "metadata": {
        "id": "gK_5SXRB2qye"
      }
    },
    {
      "cell_type": "code",
      "execution_count": null,
      "metadata": {
        "id": "N2NuSw_nmCr4"
      },
      "outputs": [],
      "source": [
        "# Operador suma"
      ]
    },
    {
      "cell_type": "markdown",
      "source": [
        "### Expresiones"
      ],
      "metadata": {
        "id": "USJfAIbc3Bp3"
      }
    },
    {
      "cell_type": "markdown",
      "source": [
        "Se denomina expresión al conjunto que forman los operandos y la operación.\n",
        "Sumar, restar, dividir o multiplicar, tienen algo en común, y es que sus operadores son operadores aritméticos que sirven para trabajar con números.\n",
        "\n",
        "Los operadores aritméticos (+, -, /, *) dan lugar a expresiones de distintos tipos:\n",
        "\n",
        "![image.png](data:image/png;base64,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)\n"
      ],
      "metadata": {
        "id": "9YSoAl8l3ElH"
      }
    },
    {
      "cell_type": "code",
      "source": [
        "# Aritmeticas"
      ],
      "metadata": {
        "id": "qO1UYAQD5daT"
      },
      "execution_count": null,
      "outputs": []
    },
    {
      "cell_type": "code",
      "source": [
        "# Algebraicas"
      ],
      "metadata": {
        "id": "LyQuPZx15jpE"
      },
      "execution_count": null,
      "outputs": []
    },
    {
      "cell_type": "markdown",
      "source": [
        "### Booleano -- Nuevo tipo de dato!!!!"
      ],
      "metadata": {
        "id": "CxXFkmeB57Fp"
      }
    },
    {
      "cell_type": "markdown",
      "source": [
        "Tambien conocido como tipo **Logico**\n",
        "\n",
        "El tipo lógico es el tipo de dato más básico de la información racional, y representa únicamente **dos valores**:\n",
        "\n",
        "* Verdadero (True) -- 1 logico\n",
        "* Falso (False) -- 0 logico\n"
      ],
      "metadata": {
        "id": "nHEovhj-6FVa"
      }
    },
    {
      "cell_type": "code",
      "source": [
        "DEBUG = True"
      ],
      "metadata": {
        "id": "ROOUqLe1TUI3"
      },
      "execution_count": null,
      "outputs": []
    },
    {
      "cell_type": "code",
      "source": [
        "FACTURAS = True\n",
        "CLIENTES = False\n",
        "ESTADISTICAS = False"
      ],
      "metadata": {
        "id": "0NEFG-6FVXfx"
      },
      "execution_count": null,
      "outputs": []
    },
    {
      "cell_type": "code",
      "source": [
        "# type"
      ],
      "metadata": {
        "colab": {
          "base_uri": "https://localhost:8080/"
        },
        "id": "rcAYwbOPTbZX",
        "outputId": "aad47552-a275-40f2-9ec5-8f7ed1b65bb0"
      },
      "execution_count": null,
      "outputs": [
        {
          "output_type": "execute_result",
          "data": {
            "text/plain": [
              "bool"
            ]
          },
          "metadata": {},
          "execution_count": 6
        }
      ]
    },
    {
      "cell_type": "markdown",
      "source": [
        "Otra forma\n",
        "\n",
        "![image.png](data:image/png;base64,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)"
      ],
      "metadata": {
        "id": "0bLhxmCylEkl"
      }
    },
    {
      "cell_type": "markdown",
      "source": [
        "### Negacion\n",
        "\n",
        "Si negamos una cosa que es verdad (True), esta se convierte en mentira (False). Por lo tanto, si negamos una cosa que es mentira (False), esta se convierte en verdad (True).\n",
        "\n",
        "* No Verdadero (True) = Falso (False)\n",
        "* No Falso (False) = Verdadero (True)\n"
      ],
      "metadata": {
        "id": "5QPewquhlHzJ"
      }
    },
    {
      "cell_type": "markdown",
      "source": [
        "#### Como lo aplicamos en nuestro programa?"
      ],
      "metadata": {
        "id": "gKd1PrwaXPH4"
      }
    },
    {
      "cell_type": "markdown",
      "source": [
        "Lo aplicamos para procesar el resultados de las expresiones que tienen operadores relacionales.......como por ejemplo el operador de igualdad (==)"
      ],
      "metadata": {
        "id": "o6qvFZACYC8k"
      }
    },
    {
      "cell_type": "code",
      "source": [
        " # Ejemplo igualdad"
      ],
      "metadata": {
        "id": "GBPIzpNLXvyj"
      },
      "execution_count": null,
      "outputs": []
    },
    {
      "cell_type": "code",
      "source": [
        "# Ejemplo negacion"
      ],
      "metadata": {
        "id": "6H69feKfZYXl"
      },
      "execution_count": null,
      "outputs": []
    },
    {
      "cell_type": "code",
      "source": [
        "# ejemplos con variables"
      ],
      "metadata": {
        "id": "VgSi9_Rt1HbE"
      },
      "execution_count": null,
      "outputs": []
    },
    {
      "cell_type": "markdown",
      "source": [
        "### Operadores Relacionales"
      ],
      "metadata": {
        "id": "WShRXla0Yt96"
      }
    },
    {
      "cell_type": "markdown",
      "source": [
        "En programación, los operadores relacionales son símbolos que se usan para comparar dos valores.\n",
        "Si el resultado de la comparación es correcto, la expresión es considerada verdadera (True), y en caso contrario será falsa (False)."
      ],
      "metadata": {
        "id": "B0X2FHQjaWiY"
      }
    },
    {
      "cell_type": "code",
      "source": [
        "# Operador igualdad"
      ],
      "metadata": {
        "id": "FfoycQl4aVld"
      },
      "execution_count": null,
      "outputs": []
    },
    {
      "cell_type": "code",
      "source": [
        "# Ojo Doble ="
      ],
      "metadata": {
        "id": "KGZitp-ydfqt"
      },
      "execution_count": null,
      "outputs": []
    },
    {
      "cell_type": "code",
      "source": [
        "# Operador desigualdad\n"
      ],
      "metadata": {
        "id": "GG0ll8JwdlVB"
      },
      "execution_count": null,
      "outputs": []
    },
    {
      "cell_type": "code",
      "source": [
        "# Operador is"
      ],
      "metadata": {
        "id": "1rlPMjqKxvXS"
      },
      "execution_count": null,
      "outputs": []
    },
    {
      "cell_type": "code",
      "source": [
        "# Operador menor que"
      ],
      "metadata": {
        "id": "yvHLnlS9fxbt"
      },
      "execution_count": null,
      "outputs": []
    },
    {
      "cell_type": "code",
      "source": [
        "# Operador mayor que"
      ],
      "metadata": {
        "id": "ovrqsMqpjLPg"
      },
      "execution_count": null,
      "outputs": []
    },
    {
      "cell_type": "code",
      "source": [
        "# Mayor o igual que"
      ],
      "metadata": {
        "id": "X96i0f0mjQRW"
      },
      "execution_count": null,
      "outputs": []
    },
    {
      "cell_type": "code",
      "source": [
        "# menor o igual que"
      ],
      "metadata": {
        "id": "H5V3y6tsjUQS"
      },
      "execution_count": null,
      "outputs": []
    },
    {
      "cell_type": "code",
      "source": [
        "# Con Strings"
      ],
      "metadata": {
        "id": "jEolSh8VjcM1"
      },
      "execution_count": null,
      "outputs": []
    },
    {
      "cell_type": "code",
      "source": [
        "# Ver decimal de un caracter"
      ],
      "metadata": {
        "id": "bPr8sMoylwrp"
      },
      "execution_count": null,
      "outputs": []
    },
    {
      "cell_type": "markdown",
      "source": [
        "### Tipo Logico o Booleanos\n",
        "\n",
        "Los Booleanos tienen un valor aritmético por defecto. True tiene un valor de 1 y mientras tanto False tiene un valor de 0. Es decir, tienen un valor binario que se utiliza para poder operar entre sí."
      ],
      "metadata": {
        "id": "j8qU4jtanmmI"
      }
    },
    {
      "cell_type": "code",
      "source": [],
      "metadata": {
        "id": "qA-_oKYInuWa"
      },
      "execution_count": null,
      "outputs": []
    },
    {
      "cell_type": "markdown",
      "source": [
        "### Actividad"
      ],
      "metadata": {
        "id": "P6gQjFGWo46W"
      }
    },
    {
      "cell_type": "markdown",
      "source": [
        "expresiones = [\n",
        "  False == True,\n",
        "  10 >= 2*4,\n",
        "  33/3 == 11,\n",
        "  True > False,\n",
        "  True*5 == 2.5*2\n",
        "]\n",
        "\n"
      ],
      "metadata": {
        "id": "ye_ePSZco-E-"
      }
    },
    {
      "cell_type": "code",
      "source": [
        "expresiones = [\n",
        "  False == True,\n",
        "  10 >= 2*4,\n",
        "  33/3 == 11,\n",
        "  True > False,\n",
        "  True*5 == 2.5*2\n",
        "]\n"
      ],
      "metadata": {
        "id": "56FEIii1pDba"
      },
      "execution_count": 16,
      "outputs": []
    },
    {
      "cell_type": "code",
      "source": [
        "expresiones"
      ],
      "metadata": {
        "id": "EM5ak0NppEwa"
      },
      "execution_count": null,
      "outputs": []
    },
    {
      "cell_type": "markdown",
      "source": [
        "### Operadores lógicos"
      ],
      "metadata": {
        "id": "5zoQ4XbKxy66"
      }
    },
    {
      "cell_type": "markdown",
      "source": [
        "Existen varios tipos de operadores lógicos en Python. Pero nos estaremos enfocando en los tres más básicos y utilizados:\n",
        "\n",
        "* NOT (not)\n",
        "* OR (or)\n",
        "* AND (and)"
      ],
      "metadata": {
        "id": "qMVC85MvyCqN"
      }
    },
    {
      "cell_type": "markdown",
      "source": [
        "### NOT\n",
        "\n",
        "El not es la negación o también conocida como el NO. Es un poco especial, ya que solo afecta a los tipos lógicos True y False; solo requiere un operando en una expresión."
      ],
      "metadata": {
        "id": "gNPV8eoz03nK"
      }
    },
    {
      "cell_type": "code",
      "source": [],
      "metadata": {
        "id": "5fLeUPW909nc"
      },
      "execution_count": null,
      "outputs": []
    },
    {
      "cell_type": "markdown",
      "source": [
        "### AND"
      ],
      "metadata": {
        "id": "p3LiuDm-1Orl"
      }
    },
    {
      "cell_type": "markdown",
      "source": [
        "El operador de conjunción, es decir, el que agrupa a través de la unión, es el operador lógico AND, en castellano conocido como Y.\n",
        "\n",
        "Pero, ¿qué es lo que une? **Este operador une una o varias sentencias lógicas**:\n"
      ],
      "metadata": {
        "id": "OQAWVGjM1Qzf"
      }
    },
    {
      "cell_type": "code",
      "source": [
        "# ejemplo dos condiciones\n"
      ],
      "metadata": {
        "id": "UqLSljag2Dn0"
      },
      "execution_count": null,
      "outputs": []
    },
    {
      "cell_type": "code",
      "source": [
        "# Ejemplo 3 condiciones"
      ],
      "metadata": {
        "id": "4da-m6-P6-ok"
      },
      "execution_count": null,
      "outputs": []
    },
    {
      "cell_type": "code",
      "source": [
        "\"\"\"\n",
        "Tabla de la verdad AND\n",
        "\n",
        "# A and B\n",
        "  B      A           Z\n",
        "False  False         ?\n",
        "False  True          ?\n",
        "True   False         ?\n",
        "True   True          ?\n",
        "\n",
        "\"\"\"\n",
        "\n"
      ],
      "metadata": {
        "id": "KLpe9-TI2jxh"
      },
      "execution_count": null,
      "outputs": []
    },
    {
      "cell_type": "markdown",
      "source": [
        "### OR"
      ],
      "metadata": {
        "id": "RQvroQPn3Iz7"
      }
    },
    {
      "cell_type": "markdown",
      "source": [
        "El operador de disyunción denominado Or en castellano O.\n",
        "Si el AND unía, el OR separa. Es decir, si a Python le pregunto por dos afirmaciones, y al menos una es (verdadera)True, Python me dirá que esta afirmación es True.\n",
        "\n"
      ],
      "metadata": {
        "id": "qfCwvPgmRkTr"
      }
    },
    {
      "cell_type": "code",
      "source": [
        "# Ejemplo  dos condiciones"
      ],
      "metadata": {
        "id": "Dn3pL0i_RwqH"
      },
      "execution_count": null,
      "outputs": []
    },
    {
      "cell_type": "code",
      "source": [
        "# ejemplo 3 condiciones"
      ],
      "metadata": {
        "id": "u9Dc8ibH7p4j"
      },
      "execution_count": null,
      "outputs": []
    },
    {
      "cell_type": "code",
      "source": [
        "\"\"\"\n",
        "Tabla de la verdad AND\n",
        "\n",
        "# A and B\n",
        "  B      A           Z\n",
        "False  False         ?\n",
        "False  True          ?\n",
        "True   False         ?\n",
        "True   True          ?\n",
        "\n",
        "\"\"\"\n"
      ],
      "metadata": {
        "id": "KAEOo06TR6O6"
      },
      "execution_count": null,
      "outputs": []
    },
    {
      "cell_type": "markdown",
      "source": [
        "### Ejercicio"
      ],
      "metadata": {
        "id": "pfY97Ie07TLC"
      }
    },
    {
      "cell_type": "markdown",
      "source": [
        " expresiones = [\n",
        "not False,\n",
        "not 3 == 5,\n",
        "33/3 == 11 and 5 > 2,\n",
        "True or False,\n",
        "True*5 == 2.5*2 or 123 >= 23,\n",
        "12 > 7 and True < False\n",
        "]"
      ],
      "metadata": {
        "id": "6XDKjydB72tL"
      }
    },
    {
      "cell_type": "code",
      "source": [
        "expresiones = [\n",
        "not False,\n",
        "not 3 == 5,\n",
        "33/3 == 11 and 5 > 2,\n",
        "True or False,\n",
        "True*5 == 2.5*2 or 123 >= 23,\n",
        "12 > 7 and True < False\n",
        "]"
      ],
      "metadata": {
        "id": "AfTAr_nj76Jk"
      },
      "execution_count": 38,
      "outputs": []
    },
    {
      "cell_type": "code",
      "source": [
        "expresiones"
      ],
      "metadata": {
        "id": "u6R7Arpw79kg"
      },
      "execution_count": null,
      "outputs": []
    },
    {
      "cell_type": "markdown",
      "source": [
        "## Expresiones Anidadas"
      ],
      "metadata": {
        "id": "9o2UJgioVemI"
      }
    },
    {
      "cell_type": "markdown",
      "source": [
        "Hemos visto que existen un montón de expresiones distintas y como pueden suponer, es posible crear combinaciones entre estas.\n",
        "\n",
        "A esto, se lo denomina **expresiones anidadas**.\n"
      ],
      "metadata": {
        "id": "VYZagHxeVhyj"
      }
    },
    {
      "cell_type": "markdown",
      "source": [
        "Si recuerdan, en la clase 1 vimos las procedencias de operadores numéricos:\n",
        "\n",
        "* Términos entre paréntesis.\n",
        "* Potenciación y raíces.\n",
        "* Multiplicación y división.\n",
        "* Suma y resta."
      ],
      "metadata": {
        "id": "gAqltggsWvJd"
      }
    },
    {
      "cell_type": "code",
      "source": [
        "a = 15\n",
        "b = 12\n",
        "\n",
        "# a ** b / 3**a / a * b >= 15 and not (a%b**2) != 0\n"
      ],
      "metadata": {
        "id": "6kMd9Gf9WZNM"
      },
      "execution_count": null,
      "outputs": []
    },
    {
      "cell_type": "markdown",
      "source": [
        "### Ejercicio\n",
        "\n"
      ],
      "metadata": {
        "id": "jIUxMiLEmXI4"
      }
    },
    {
      "cell_type": "markdown",
      "source": [
        "A partir de dos variables llamadas NOMBRE y EDAD, debes crear una variable que almacene si se cumplen todas las siguientes condiciones, encadenando operadores lógicos en una sola línea:\n",
        "\n",
        "* NOMBRE sea diferente de cuatro asteriscos “****”\n",
        "* EDAD sea mayor que 5 y a su vez menor que 20\n",
        "* Que la longitud de NOMBRE sea mayor o igual a 4  pero a la vez menor que 8\n",
        "* EDAD multiplicada por 3 sea mayor que 35\n",
        "\n",
        "\n",
        "Desde un input conseguir las variables:\n",
        "* nombre = INPUT!!!\n",
        "* edad = INPUT"
      ],
      "metadata": {
        "id": "CAKRdTQKmby3"
      }
    },
    {
      "cell_type": "code",
      "source": [
        "#nombre = \"Juan\"\n",
        "#edad = 18\n",
        "\n"
      ],
      "metadata": {
        "id": "gOVSxiPumgFb"
      },
      "execution_count": null,
      "outputs": []
    },
    {
      "cell_type": "markdown",
      "source": [
        "## Operadores en asignación"
      ],
      "metadata": {
        "id": "CM-WxdofmrXY"
      }
    },
    {
      "cell_type": "markdown",
      "source": [
        "Vamos a ver unos tipos de operadores aritméticos que actúan directamente sobre la variable actual modificando su valor. Es decir, no necesitan dos operandos, solamente necesitan una variable numérica.\n",
        "Por eso, se les llama operadores de asignación.\n"
      ],
      "metadata": {
        "id": "cKcZYQGdqSR0"
      }
    },
    {
      "cell_type": "markdown",
      "source": [
        "El operador de asignación más utilizado y el cual hemos utilizado hasta ahora es el signo = .\n",
        "\n",
        "Este operador asigna un valor a una variable:\n",
        "número = 15\n",
        "\n",
        "\n",
        "Además de este operador, existen otros operadores de asignación compuestos, que realizan una operación aritmética básica sobre la variable.\n",
        "\n"
      ],
      "metadata": {
        "id": "U68evSzJqwGN"
      }
    },
    {
      "cell_type": "code",
      "source": [
        "a = 10"
      ],
      "metadata": {
        "id": "1nNrWh1qrUx7"
      },
      "execution_count": 32,
      "outputs": []
    },
    {
      "cell_type": "code",
      "source": [
        "# Ejemplo sin utilizar asignacion\n"
      ],
      "metadata": {
        "id": "B4ibw8Jaq2KI"
      },
      "execution_count": null,
      "outputs": []
    },
    {
      "cell_type": "code",
      "source": [
        "# Suma en asignacion\n"
      ],
      "metadata": {
        "id": "pO98Pi--rQa5"
      },
      "execution_count": null,
      "outputs": []
    },
    {
      "cell_type": "code",
      "source": [
        "# Resta en asignacion\n"
      ],
      "metadata": {
        "id": "8zOLQLqRrtXT"
      },
      "execution_count": null,
      "outputs": []
    },
    {
      "cell_type": "code",
      "source": [
        "# Producto en asignacion"
      ],
      "metadata": {
        "id": "NAXSS5Zbr1kD"
      },
      "execution_count": null,
      "outputs": []
    },
    {
      "cell_type": "code",
      "source": [
        "# Division en asignacion"
      ],
      "metadata": {
        "id": "gE-QUMz0r7m2"
      },
      "execution_count": null,
      "outputs": []
    },
    {
      "cell_type": "code",
      "source": [
        "# Modulo en asignacion\n"
      ],
      "metadata": {
        "id": "vLdYnIkfr-3D"
      },
      "execution_count": null,
      "outputs": []
    },
    {
      "cell_type": "code",
      "source": [
        "# Potencia en asignacion"
      ],
      "metadata": {
        "id": "1ZTCIEFOsGTr"
      },
      "execution_count": null,
      "outputs": []
    },
    {
      "cell_type": "markdown",
      "source": [
        "Operadores en asignacion\n",
        "\n",
        "![image.png](data:image/png;base64,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)"
      ],
      "metadata": {
        "id": "hgwk9twdsLV1"
      }
    }
  ]
}