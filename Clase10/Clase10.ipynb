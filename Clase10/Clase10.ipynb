{
  "nbformat": 4,
  "nbformat_minor": 0,
  "metadata": {
    "colab": {
      "provenance": []
    },
    "kernelspec": {
      "name": "python3",
      "display_name": "Python 3"
    },
    "language_info": {
      "name": "python"
    }
  },
  "cells": [
    {
      "cell_type": "markdown",
      "source": [
        "<font size=\"6\" color=\"rgb(128, 128, 0)\">Funciones II</font>"
      ],
      "metadata": {
        "id": "MWHNrW5n8i-N"
      }
    },
    {
      "cell_type": "markdown",
      "source": [
        "* Argumentos y paŕametros\n",
        "\n",
        "![purple-divider](https://user-images.githubusercontent.com/7065401/52071927-c1cd7100-2562-11e9-908a-dde91ba14e59.png)"
      ],
      "metadata": {
        "id": "MYwVzmVL8qqI"
      }
    },
    {
      "cell_type": "markdown",
      "source": [
        "![green-divider](https://user-images.githubusercontent.com/7065401/52071924-c003ad80-2562-11e9-8297-1c6595f8a7ff.png)\n",
        "\n",
        "### Objetivos"
      ],
      "metadata": {
        "id": "PRnKhZhL8t0f"
      }
    },
    {
      "cell_type": "markdown",
      "source": [
        "* __Reconocer__ los tipos de argumentos y párametros.\n",
        "\n",
        "* __Aplicar__ funciones recursivas e integradas."
      ],
      "metadata": {
        "id": "gNCaWNIBAABZ"
      }
    },
    {
      "cell_type": "markdown",
      "source": [
        "![green-divider](https://user-images.githubusercontent.com/7065401/52071924-c003ad80-2562-11e9-8297-1c6595f8a7ff.png)\n",
        "\n",
        "### Argumentos y Parámetros"
      ],
      "metadata": {
        "id": "Vsti1gNpAliF"
      }
    },
    {
      "cell_type": "markdown",
      "source": [
        "#### Definicion"
      ],
      "metadata": {
        "id": "EH_LHdW17HYk"
      }
    },
    {
      "cell_type": "markdown",
      "source": [
        "En la definición de la función, las variables o valores se denominan parámetros:\n"
      ],
      "metadata": {
        "id": "4ddx2D0DA7tQ"
      }
    },
    {
      "cell_type": "code",
      "execution_count": null,
      "metadata": {
        "id": "1pz7COOk8d6X"
      },
      "outputs": [],
      "source": [
        "# definicion\n",
        "# numero1 y numero2 son los parametros de la función suma\n",
        "\n",
        "def suma(numero1, numero2):\n",
        "  return numero1 + numero2"
      ]
    },
    {
      "cell_type": "markdown",
      "source": [
        "En la llamada se los denomina argumentos."
      ],
      "metadata": {
        "id": "OWJrSohKBSlI"
      }
    },
    {
      "cell_type": "code",
      "source": [
        "# llamada a la función\n",
        "# nro1 y nro2 son los argumentos de la funcion suma\n",
        "\n",
        "nro1 = 23\n",
        "nro2 = 8\n",
        "suma(nro1, nro2)"
      ],
      "metadata": {
        "id": "FNwVYQQsBahU"
      },
      "execution_count": null,
      "outputs": []
    },
    {
      "cell_type": "markdown",
      "source": [
        "![green-divider](https://user-images.githubusercontent.com/7065401/52071924-c003ad80-2562-11e9-8297-1c6595f8a7ff.png)\n",
        "\n",
        "#### Pasando valores -- Argumentos por posición"
      ],
      "metadata": {
        "id": "n6XtTFviBy-Z"
      }
    },
    {
      "cell_type": "markdown",
      "source": [
        "Cuando se envían argumentos a una función, se reciben por orden en los parámetros definidos:"
      ],
      "metadata": {
        "id": "p_lMRYFSCZX8"
      }
    },
    {
      "cell_type": "code",
      "source": [
        "def suma(numero1, numero2):\n",
        "  print(f\"numero1: {numero1}\")\n",
        "  print(f\"numero2: {numero2}\")\n",
        "\n",
        "  return numero1 + numero2\n",
        "\n",
        "\n",
        "resultado = suma(5, 7)\n",
        "print(resultado)"
      ],
      "metadata": {
        "id": "89xsGteWBvdw"
      },
      "execution_count": null,
      "outputs": []
    },
    {
      "cell_type": "code",
      "source": [
        "suma(7,5)"
      ],
      "metadata": {
        "id": "_0x9a6cf5dIU"
      },
      "execution_count": null,
      "outputs": []
    },
    {
      "cell_type": "code",
      "source": [
        "def resta(numero1, numero2):\n",
        "  print(f\"numero1: {numero1}\")\n",
        "  print(f\"numero2: {numero2}\")\n",
        "\n",
        "  return numero1 - numero2\n",
        "\n",
        "\n",
        "resultado = resta(7, 5)\n",
        "print(resultado)"
      ],
      "metadata": {
        "id": "dKUL2_z7DsJx"
      },
      "execution_count": null,
      "outputs": []
    },
    {
      "cell_type": "code",
      "source": [
        "resta(5, 7)"
      ],
      "metadata": {
        "id": "iHPGXdX45oZD"
      },
      "execution_count": null,
      "outputs": []
    },
    {
      "cell_type": "markdown",
      "source": [
        "![green-divider](https://user-images.githubusercontent.com/7065401/52071924-c003ad80-2562-11e9-8297-1c6595f8a7ff.png)\n",
        "\n",
        "#### Argumentos por nombre"
      ],
      "metadata": {
        "id": "8Bv3Jsh8D9ji"
      }
    },
    {
      "cell_type": "code",
      "source": [
        "def resta(numero1, numero2):\n",
        "  print(f\"numero1: {numero1}\")\n",
        "  print(f\"numero2: {numero2}\")\n",
        "\n",
        "  return numero1 - numero2\n",
        "\n",
        "\n",
        "resultado = resta(numero1=7, numero2=5)"
      ],
      "metadata": {
        "id": "hGqLdtlOEAD5"
      },
      "execution_count": null,
      "outputs": []
    },
    {
      "cell_type": "code",
      "source": [
        "def resta(numero1, numero2, numero3):\n",
        "  print(f\"numero1: {numero1}\")\n",
        "  print(f\"numero2: {numero2}\")\n",
        "  print(f\"numero3: {numero3}\")\n",
        "\n",
        "  return numero1 - numero2 - numero3\n",
        "\n",
        "\n",
        "resultado = resta(numero1=7, numero2=5, numero3=100)"
      ],
      "metadata": {
        "id": "xgCDmgWDEf2O"
      },
      "execution_count": null,
      "outputs": []
    },
    {
      "cell_type": "markdown",
      "source": [
        "![green-divider](https://user-images.githubusercontent.com/7065401/52071924-c003ad80-2562-11e9-8297-1c6595f8a7ff.png)\n",
        "\n",
        "#### Llamada sin argumentos"
      ],
      "metadata": {
        "id": "TCzhFTDbFSVR"
      }
    },
    {
      "cell_type": "code",
      "source": [
        "def suma(numero1, numero2):\n",
        "\n",
        "  print(f\"numero1: {numero1}\")\n",
        "  print(f\"numero2: {numero2}\")\n",
        "\n",
        "  return numero1 + numero2\n",
        "\n",
        "# llamamos a la funcion suma sin argumentos\n",
        "resultado = suma()\n",
        "print(resultado)\n"
      ],
      "metadata": {
        "id": "-wh5UcLvFXO5"
      },
      "execution_count": null,
      "outputs": []
    },
    {
      "cell_type": "code",
      "source": [
        "# valores por defecto -- calc"
      ],
      "metadata": {
        "id": "R2mrmWqtFg8N"
      },
      "execution_count": null,
      "outputs": []
    },
    {
      "cell_type": "markdown",
      "source": [
        "__Preguntas??__"
      ],
      "metadata": {
        "id": "_RQbYG_p60Aq"
      }
    },
    {
      "cell_type": "markdown",
      "source": [
        "![green-divider](https://user-images.githubusercontent.com/7065401/52071924-c003ad80-2562-11e9-8297-1c6595f8a7ff.png)\n",
        "\n",
        "#### Argumentos por Valor y Referencia"
      ],
      "metadata": {
        "id": "bhEt83L2Jri8"
      }
    },
    {
      "cell_type": "markdown",
      "source": [
        "Si hablamos de argumentos tenemos que tener algo en cuenta:\n",
        "Cuando **enviamos información a una función** generalmente estos datos se envían por **valor**.\n",
        "Eso significa que **se crea una copia dentro de la función de los valores que enviamos en sus propias variables**.\n"
      ],
      "metadata": {
        "id": "SuR4tWGOJ2Ig"
      }
    },
    {
      "cell_type": "code",
      "source": [
        "def incrementador(numero):\n",
        "  numero += 1\n",
        "\n",
        "  return\n",
        "\n",
        "numero = 50\n",
        "\n",
        "print(f\"El valor de numero antes de la funcion es: {numero}\")\n",
        "print(\"/********/\")\n",
        "\n",
        "incrementador(numero)\n",
        "\n",
        "print(\"/********/\")\n",
        "print(f\"El valor de numero despues del llamado a la funcion es: \")"
      ],
      "metadata": {
        "id": "Y7kfAGKmJ1fR"
      },
      "execution_count": null,
      "outputs": []
    },
    {
      "cell_type": "markdown",
      "source": [
        " **Pero**, hay casos excepcionales, las colecciones, **listas, diccionarios, conjuntos**. Estos datos se envían por **referencia**."
      ],
      "metadata": {
        "id": "SUdJjcHspwmi"
      }
    },
    {
      "cell_type": "markdown",
      "source": [
        "Que significa que se envian por referencia?"
      ],
      "metadata": {
        "id": "nnuuhTahro_m"
      }
    },
    {
      "cell_type": "markdown",
      "source": [
        "Significa que, en lugar de una copia dentro de la función, **estaremos manejando el dato original**, y si lo modificamos también se verá reflejado en el exterior, es decir, en el conjunto original y no en una copia en la función. Esto debido a que hacen referencia a la variable externa, algo así como un acceso directo.\n"
      ],
      "metadata": {
        "id": "bt6BS48MrtPO"
      }
    },
    {
      "cell_type": "code",
      "source": [
        "lista = [0, 1, 2, 3, 4, 5, 6, 7]\n",
        "\n",
        "\n",
        "def agregar_dato(lista, dato):\n",
        "  if len(lista) < 10:\n",
        "    lista.append(dato)\n",
        "  else:\n",
        "    print(\"La lista no tiene mas capacidad\")\n",
        "\n",
        "  return\n",
        "\n",
        "\n",
        "valor = 8\n",
        "\n",
        "print(lista)\n",
        "agregar_dato(lista, valor)\n",
        "print(lista)\n"
      ],
      "metadata": {
        "id": "vOe8ujtJqO7o"
      },
      "execution_count": null,
      "outputs": []
    },
    {
      "cell_type": "code",
      "source": [
        "# Ejemplo con diccionario\n"
      ],
      "metadata": {
        "id": "fCSFYEMT6JSg"
      },
      "execution_count": null,
      "outputs": []
    },
    {
      "cell_type": "markdown",
      "source": [
        "#### Resumen:\n"
      ],
      "metadata": {
        "id": "_woexbfSyuU8"
      }
    },
    {
      "cell_type": "markdown",
      "source": [
        "**Paso por valor**: se crea una copia local de la variable dentro de la función.\n",
        "\n",
        "Los tipos simples **se pasan por valor**: Enteros, flotantes, cadenas, lógicos…"
      ],
      "metadata": {
        "id": "lnnegzY70klX"
      }
    },
    {
      "cell_type": "markdown",
      "source": [
        "**Paso por referencia**: Se maneja directamente la variable, los cambios realizados dentro de la función le afectarán también fuera.\n",
        "\n",
        "Los tipos compuestos **se pasan por referencia**: Listas, diccionarios, tuplas, conjuntos..."
      ],
      "metadata": {
        "id": "PERF79sW1AVf"
      }
    },
    {
      "cell_type": "markdown",
      "source": [
        "__Entonces__:\n",
        "\n",
        "¿Es posible que de alguna forma le digamos a Python cuándo queremos pasar un argumento por referencia o por valor?"
      ],
      "metadata": {
        "id": "f6Wi6vqa10DW"
      }
    },
    {
      "cell_type": "markdown",
      "source": [
        "**Respuesta:**"
      ],
      "metadata": {
        "id": "AFprM56I2D8e"
      }
    },
    {
      "cell_type": "code",
      "source": [
        "# Ejemplo : Argumento valor por referencia"
      ],
      "metadata": {
        "id": "oB8kWDML3NM6"
      },
      "execution_count": null,
      "outputs": []
    },
    {
      "cell_type": "markdown",
      "source": [
        "__Preguntas???__"
      ],
      "metadata": {
        "id": "Tp5IIy0S62Sj"
      }
    },
    {
      "cell_type": "markdown",
      "source": [
        "![green-divider](https://user-images.githubusercontent.com/7065401/52071924-c003ad80-2562-11e9-8297-1c6595f8a7ff.png)\n",
        "\n",
        "#### Argumentos indeterminados"
      ],
      "metadata": {
        "id": "A8v5PUt_3ZLq"
      }
    },
    {
      "cell_type": "markdown",
      "source": [
        "#### *args"
      ],
      "metadata": {
        "id": "UqjfANBI4kXQ"
      }
    },
    {
      "cell_type": "markdown",
      "source": [
        "Permiten definir funciones cuyo número de argumentos es variable. Es decir, podemos definir funciones genéricas que no aceptan un número determinado de parámetros, sino que se “adaptan” al número de argumentos con los que son llamados.\n"
      ],
      "metadata": {
        "id": "NLhfTBYs44YU"
      }
    },
    {
      "cell_type": "code",
      "source": [
        "def suma(*args):\n",
        "  resultado = 0\n",
        "\n",
        "  for valor in args:\n",
        "    resultado += valor\n",
        "\n",
        "  return resultado\n"
      ],
      "metadata": {
        "id": "viCOsWR45Ip7"
      },
      "execution_count": 9,
      "outputs": []
    },
    {
      "cell_type": "code",
      "source": [
        "suma(1,2)"
      ],
      "metadata": {
        "id": "4KyVkGl18dy6"
      },
      "execution_count": null,
      "outputs": []
    },
    {
      "cell_type": "markdown",
      "source": [
        "#### *kwargs"
      ],
      "metadata": {
        "id": "2KLQjV0r4t2j"
      }
    },
    {
      "cell_type": "markdown",
      "source": [
        "Los **kwargs nos permiten dar un nombre a cada argumento de entrada, pudiendo acceder a ellos dentro de la función a través de un diccionario.\n"
      ],
      "metadata": {
        "id": "eCdy1kqZ4sUr"
      }
    },
    {
      "cell_type": "code",
      "source": [
        "def suma(**kwargs):\n",
        "  resultado = 0\n",
        "\n",
        "  for clave, valor in kwargs.items():\n",
        "    print(f\"arg clave: {clave} -- arg valor: {valor}\")\n",
        "    resultado += valor\n",
        "\n",
        "    return resultado\n"
      ],
      "metadata": {
        "id": "mQrf8Jzg_C13"
      },
      "execution_count": 10,
      "outputs": []
    },
    {
      "cell_type": "code",
      "source": [
        "suma(nroA=1,nroB=2)"
      ],
      "metadata": {
        "id": "mnfUHLjE_0vn"
      },
      "execution_count": null,
      "outputs": []
    },
    {
      "cell_type": "markdown",
      "source": [
        "__Nota__: args y kwargs se pueden llaman asi por convencion, pero podrian tener otro nombre"
      ],
      "metadata": {
        "id": "r533XB_e-Mqq"
      }
    },
    {
      "cell_type": "markdown",
      "source": [
        "![green-divider](https://user-images.githubusercontent.com/7065401/52071924-c003ad80-2562-11e9-8297-1c6595f8a7ff.png)\n",
        "\n",
        "### Multiples return"
      ],
      "metadata": {
        "id": "z0_CTaKn49jx"
      }
    },
    {
      "cell_type": "code",
      "source": [
        "def dividir(numero1, numero2):\n",
        "\n",
        "  if numero2 == 0:\n",
        "    return\n",
        "\n",
        "  return numero1 / numero2"
      ],
      "metadata": {
        "id": "DH6Wfqp_5A17"
      },
      "execution_count": null,
      "outputs": []
    },
    {
      "cell_type": "code",
      "source": [
        "nro1 = 10\n",
        "nro2 = 2\n",
        "print(dividir(nro1, nro2))"
      ],
      "metadata": {
        "id": "l04WjughANjp"
      },
      "execution_count": null,
      "outputs": []
    },
    {
      "cell_type": "markdown",
      "source": [
        "__Preguntas??__"
      ],
      "metadata": {
        "id": "zfMcp-ZIEq0L"
      }
    },
    {
      "cell_type": "markdown",
      "source": [
        "![green-divider](https://user-images.githubusercontent.com/7065401/52071924-c003ad80-2562-11e9-8297-1c6595f8a7ff.png)\n",
        "\n",
        "### Funciones recursivas"
      ],
      "metadata": {
        "id": "3CccUVGQ6R0D"
      }
    },
    {
      "cell_type": "markdown",
      "source": [
        "**Recursividad**\n",
        "\n",
        "Cuando una función se llama a sí misma, tenemos una función recursiva con un comportamiento muy similar al de una sentencia iterativa (if, while, etc.) pero debemos encargarnos de planificar el momento en que dejan de llamarse a sí mismas o tendremos una función recursiva infinita."
      ],
      "metadata": {
        "id": "xX8h13Oct-Zu"
      }
    },
    {
      "cell_type": "code",
      "source": [
        "# Funcion recursiva con retorno\n",
        "\n",
        "# factorial 1 (1!) = 1\n",
        "# factorial 2 (2!) = 2 * 1\n",
        "# factorial 3 (3!) = 3 * 2 * 1\n",
        "# factorial 4 (4!) = 4 * 3 * 2 * 1\n",
        "# factorial 5 (5!) = 5 * 4 * 3 * 2 * 1\n",
        "\n",
        "def factorial(numero):\n",
        "\n",
        "  if numero == 1:\n",
        "    return numero\n",
        "\n",
        "  numero = numero * factorial(numero - 1)\n",
        "\n",
        "  return numero"
      ],
      "metadata": {
        "id": "neGqpwdluWX5"
      },
      "execution_count": null,
      "outputs": []
    },
    {
      "cell_type": "code",
      "source": [
        "print(factorial(4))"
      ],
      "metadata": {
        "id": "bHfezIm4ATlk"
      },
      "execution_count": null,
      "outputs": []
    },
    {
      "cell_type": "code",
      "source": [
        "# Funcion recursiva sin retorno\n",
        "\n",
        "def cuenta_regresiva(numero):\n",
        "  numero -= 1\n",
        "\n",
        "  if numero > 0:\n",
        "    print(numero)\n",
        "    cuenta_regresiva(numero)\n",
        "\n",
        "  else:\n",
        "    print(\"Booom\")\n",
        "\n",
        "  print(f\"Fin de la funcion - numero: {numero}\")\n",
        "  return\n"
      ],
      "metadata": {
        "id": "LhCmHSILuSWp"
      },
      "execution_count": null,
      "outputs": []
    },
    {
      "cell_type": "code",
      "source": [
        "cuenta_regresiva(6)"
      ],
      "metadata": {
        "id": "f2G5gsq1AV7O"
      },
      "execution_count": null,
      "outputs": []
    },
    {
      "cell_type": "markdown",
      "source": [
        "__Preguntas???__"
      ],
      "metadata": {
        "id": "PxdO62jlEikT"
      }
    },
    {
      "cell_type": "markdown",
      "source": [
        "![green-divider](https://user-images.githubusercontent.com/7065401/52071924-c003ad80-2562-11e9-8297-1c6595f8a7ff.png)\n",
        "\n",
        "### Funciones integradas"
      ],
      "metadata": {
        "id": "UXYNz6Av6YdT"
      }
    },
    {
      "cell_type": "markdown",
      "source": [
        "Built-in functions: Son funciones que estan incorporadas en el lenguaje.\n",
        "\n",
        "Para mas informacion pueden acceder a la [documentación](https://docs.python.org/es/3/library/functions.html)"
      ],
      "metadata": {
        "id": "V3JoEsB_8LNO"
      }
    },
    {
      "cell_type": "code",
      "source": [
        "# int\n",
        "int(2.5)"
      ],
      "metadata": {
        "id": "N32T1B6r9AHH"
      },
      "execution_count": null,
      "outputs": []
    },
    {
      "cell_type": "code",
      "source": [
        "# str\n",
        "str(34)"
      ],
      "metadata": {
        "id": "4mCHttSS9PX2"
      },
      "execution_count": null,
      "outputs": []
    },
    {
      "cell_type": "code",
      "source": [
        "# round\n",
        "round(3.45)"
      ],
      "metadata": {
        "id": "BJPzbEFz9X_h"
      },
      "execution_count": null,
      "outputs": []
    },
    {
      "cell_type": "code",
      "source": [
        "# help\n",
        "help()"
      ],
      "metadata": {
        "id": "6sKYQ3hg9dac"
      },
      "execution_count": null,
      "outputs": []
    },
    {
      "cell_type": "markdown",
      "source": [
        "![green-divider](https://user-images.githubusercontent.com/7065401/52071924-c003ad80-2562-11e9-8297-1c6595f8a7ff.png)\n",
        "\n",
        "### Typehints"
      ],
      "metadata": {
        "id": "bRFVOcozFxOn"
      }
    },
    {
      "cell_type": "markdown",
      "source": [
        "* Disponible en python desde la version 3.5\n",
        "* No es obligatorio!!!\n",
        "* Especificar los tipo de dato de los argumentos de una funcion\n",
        "* Especificar el tipo de dato que retorna una funcion\n",
        "* Chequeo estatico - no en runtime\n"
      ],
      "metadata": {
        "id": "X6P_cYLnBPxj"
      }
    },
    {
      "cell_type": "code",
      "source": [
        "def factorial(numero):\n",
        "\n",
        "  if numero == 1:\n",
        "    return numero\n",
        "\n",
        "  numero = numero * factorial(numero - 1)\n",
        "\n",
        "  return numero"
      ],
      "metadata": {
        "id": "s01bAZwXG0nl"
      },
      "execution_count": 18,
      "outputs": []
    },
    {
      "cell_type": "code",
      "source": [
        "factorial(5.6)"
      ],
      "metadata": {
        "id": "Sg14PNMaCaTj"
      },
      "execution_count": null,
      "outputs": []
    },
    {
      "cell_type": "markdown",
      "source": [
        "![green-divider](https://user-images.githubusercontent.com/7065401/52071924-c003ad80-2562-11e9-8297-1c6595f8a7ff.png)\n",
        "\n",
        "### Docstrings"
      ],
      "metadata": {
        "id": "kGNHDQDtDNFX"
      }
    },
    {
      "cell_type": "markdown",
      "source": [
        "Documentar funciones"
      ],
      "metadata": {
        "id": "B3gmLXalDple"
      }
    },
    {
      "cell_type": "code",
      "source": [
        "# Ejemplo"
      ],
      "metadata": {
        "id": "VDlFTVA_E2xK"
      },
      "execution_count": null,
      "outputs": []
    },
    {
      "cell_type": "markdown",
      "source": [
        "__Preguntas??__"
      ],
      "metadata": {
        "id": "YA7tLJF8LZzw"
      }
    },
    {
      "cell_type": "markdown",
      "source": [
        "![green-divider](https://user-images.githubusercontent.com/7065401/52071924-c003ad80-2562-11e9-8297-1c6595f8a7ff.png)\n",
        "\n",
        "### Ejercicios!!!!"
      ],
      "metadata": {
        "id": "ocN2ejUSLcHl"
      }
    },
    {
      "cell_type": "markdown",
      "source": [
        "vamos al vscode!!!"
      ],
      "metadata": {
        "id": "YMNqPiYmLjwb"
      }
    },
    {
      "cell_type": "markdown",
      "source": [
        "###![purple-divider](https://user-images.githubusercontent.com/7065401/52071927-c1cd7100-2562-11e9-908a-dde91ba14e59.png)"
      ],
      "metadata": {
        "id": "Na11q9taArGU"
      }
    }
  ]
}