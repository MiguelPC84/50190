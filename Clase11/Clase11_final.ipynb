{
  "nbformat": 4,
  "nbformat_minor": 0,
  "metadata": {
    "colab": {
      "provenance": []
    },
    "kernelspec": {
      "name": "python3",
      "display_name": "Python 3"
    },
    "language_info": {
      "name": "python"
    }
  },
  "cells": [
    {
      "cell_type": "markdown",
      "source": [
        "<font size=\"6\" color=\"rgb(128, 128, 0)\">Excepciones y Errores</font>"
      ],
      "metadata": {
        "id": "WFc1XG_VhPvn"
      }
    },
    {
      "cell_type": "markdown",
      "source": [
        "* Excepciones\n",
        "* Errores\n",
        "\n",
        "![purple-divider](https://user-images.githubusercontent.com/7065401/52071927-c1cd7100-2562-11e9-908a-dde91ba14e59.png)"
      ],
      "metadata": {
        "id": "yHNu1MrUhUeH"
      }
    },
    {
      "cell_type": "markdown",
      "source": [
        "![green-divider](https://user-images.githubusercontent.com/7065401/52071924-c003ad80-2562-11e9-8297-1c6595f8a7ff.png)\n",
        "\n",
        "### Objetivos ✨"
      ],
      "metadata": {
        "id": "87El3pqJhVjJ"
      }
    },
    {
      "cell_type": "markdown",
      "source": [
        "* **Identificar** las diferencias entre errores y excepciones.\n",
        "* **Utilizar** excepciones existentes.\n",
        "* **Crear** excepciones propias."
      ],
      "metadata": {
        "id": "xRWeyTW9hZi_"
      }
    },
    {
      "cell_type": "markdown",
      "source": [
        "![green-divider](https://user-images.githubusercontent.com/7065401/52071924-c003ad80-2562-11e9-8297-1c6595f8a7ff.png)\n",
        "\n",
        "### Introducción"
      ],
      "metadata": {
        "id": "NWEW-mz6j5Se"
      }
    },
    {
      "cell_type": "markdown",
      "source": [
        "__Aprendiendo del error__\n",
        "\n",
        "En la programación, se aprende a base de equivocarse, por lo tanto, debemos tolerar nuestros propios fallos para poder avanzar.\n",
        "Programar no es fácil, podemos equivocarnos desde la concepción de la idea o también al escribir código, para lo primero poco podemos hacer, ya que es algo que mejorará con la práctica.\n"
      ],
      "metadata": {
        "id": "2yW8FxJRj-f6"
      }
    },
    {
      "cell_type": "markdown",
      "source": [
        "<font size=\"4\" color=\"rgb(128, 128, 128)\">A programar se aprende programando y cometer errores es la prueba de que estas avanzando!</font>"
      ],
      "metadata": {
        "id": "H0w8D0Z9kL1O"
      }
    },
    {
      "cell_type": "markdown",
      "source": [
        "Hasta ahora los mensajes de error no habían sido más que mencionados, pero si probaste los ejemplos probablemente hayas visto algunos. Hay (al menos) dos tipos diferentes de errores:\n",
        "\n",
        "* Errores de sintaxis\n",
        "* Excepciones."
      ],
      "metadata": {
        "id": "CXIU6Ab6k4jb"
      }
    },
    {
      "cell_type": "markdown",
      "source": [
        "Cuando el programa falla ocasiona su detención, por lo cual tenemos que ser capaces de detectar por qué y cómo prevenir estas fallas."
      ],
      "metadata": {
        "id": "1bJbRZ0UlVKK"
      }
    },
    {
      "cell_type": "code",
      "source": [
        "#numero = input()\n",
        "\n",
        "numero = \"z\"\n",
        "\n",
        "numero = int(numero)\n",
        "print(numero)"
      ],
      "metadata": {
        "id": "AqAWrqgHlXqf",
        "colab": {
          "base_uri": "https://localhost:8080/",
          "height": 227
        },
        "outputId": "ac015695-8114-432e-b1a1-3664916170f2"
      },
      "execution_count": 63,
      "outputs": [
        {
          "output_type": "error",
          "ename": "ValueError",
          "evalue": "ignored",
          "traceback": [
            "\u001b[0;31m---------------------------------------------------------------------------\u001b[0m",
            "\u001b[0;31mValueError\u001b[0m                                Traceback (most recent call last)",
            "\u001b[0;32m<ipython-input-63-34cbdbf4b5cf>\u001b[0m in \u001b[0;36m<cell line: 5>\u001b[0;34m()\u001b[0m\n\u001b[1;32m      3\u001b[0m \u001b[0mnumero\u001b[0m \u001b[0;34m=\u001b[0m \u001b[0;34m\"z\"\u001b[0m\u001b[0;34m\u001b[0m\u001b[0;34m\u001b[0m\u001b[0m\n\u001b[1;32m      4\u001b[0m \u001b[0;34m\u001b[0m\u001b[0m\n\u001b[0;32m----> 5\u001b[0;31m \u001b[0mnumero\u001b[0m \u001b[0;34m=\u001b[0m \u001b[0mint\u001b[0m\u001b[0;34m(\u001b[0m\u001b[0mnumero\u001b[0m\u001b[0;34m)\u001b[0m\u001b[0;34m\u001b[0m\u001b[0;34m\u001b[0m\u001b[0m\n\u001b[0m\u001b[1;32m      6\u001b[0m \u001b[0mprint\u001b[0m\u001b[0;34m(\u001b[0m\u001b[0mnumero\u001b[0m\u001b[0;34m)\u001b[0m\u001b[0;34m\u001b[0m\u001b[0;34m\u001b[0m\u001b[0m\n",
            "\u001b[0;31mValueError\u001b[0m: invalid literal for int() with base 10: 'z'"
          ]
        }
      ]
    },
    {
      "cell_type": "markdown",
      "source": [
        "* vscode error.py"
      ],
      "metadata": {
        "id": "Bf2aXGO7jn_H"
      }
    },
    {
      "cell_type": "markdown",
      "source": [
        "![green-divider](https://user-images.githubusercontent.com/7065401/52071924-c003ad80-2562-11e9-8297-1c6595f8a7ff.png)\n",
        "\n",
        "### **Errores**"
      ],
      "metadata": {
        "id": "emwL2U8AlbwL"
      }
    },
    {
      "cell_type": "markdown",
      "source": [
        "#### **Errores sintácticos**"
      ],
      "metadata": {
        "id": "8jnB1sZquWN6"
      }
    },
    {
      "cell_type": "markdown",
      "source": [
        "Si algo tienen la mayoría de los lenguajes de programación es que son exigentes con las instrucciones. Cuando en nuestro programa ocurre algún fallo Python nos lanzará un aviso indicando que ocurrió y detendrá la ejecución.\n",
        "\n",
        "Los errores sintácticos están ligados a la sintaxis, que es la escritura de las instrucciones.\n"
      ],
      "metadata": {
        "id": "-sZsIif_qH7S"
      }
    },
    {
      "cell_type": "code",
      "execution_count": 65,
      "metadata": {
        "id": "grSs5yq3hEG7",
        "colab": {
          "base_uri": "https://localhost:8080/"
        },
        "outputId": "804ce638-4b26-4a9f-b9d0-0f4744288078"
      },
      "outputs": [
        {
          "output_type": "stream",
          "name": "stdout",
          "text": [
            "Ingrese su nombrepablo\n",
            "Su nombre es pablo\n"
          ]
        }
      ],
      "source": [
        "# https://linkode.org/#Uy1dmsqDLJFiCDCV6OhF45\n",
        "\n",
        "\n",
        "nombre = input(\"Ingrese su nombre\")\n",
        "\n",
        "print(f\"Su nombre es {nombre}\")"
      ]
    },
    {
      "cell_type": "code",
      "source": [
        "# https://linkode.org/#KnIqMWgI6Bb10mYmPA5as2\n",
        "\n",
        "numero1 = 5\n",
        "numero2 = 10\n",
        "\n",
        "resultado = numero1 + numero2\n",
        "\n",
        "print(f\"El resultado de sumar {numero1} con {numero2} es {resultado}\")"
      ],
      "metadata": {
        "id": "pOZUYIJ5sEjS",
        "colab": {
          "base_uri": "https://localhost:8080/"
        },
        "outputId": "38497be5-9b78-40bb-cab6-f8a90e0b8c3f"
      },
      "execution_count": 67,
      "outputs": [
        {
          "output_type": "stream",
          "name": "stdout",
          "text": [
            "El resultado de sumar 5 con 10 es 15\n"
          ]
        }
      ]
    },
    {
      "cell_type": "code",
      "source": [
        "# https://linkode.org/#bui3dxcJVilelC5m6FjmB2\n",
        "numero1 = 5\n",
        "numero2 = 10\n",
        "\n",
        "resultado = numero1 + numero2\n",
        "\n",
        "print(f\"El resultado de sumar {numero1} con {numero2} es {resultado}\")"
      ],
      "metadata": {
        "id": "-8Afrik3tgQ8",
        "colab": {
          "base_uri": "https://localhost:8080/"
        },
        "outputId": "1d236432-32e9-4c8e-f8a0-00519d2395e6"
      },
      "execution_count": 69,
      "outputs": [
        {
          "output_type": "stream",
          "name": "stdout",
          "text": [
            "El resultado de sumar 5 con 10 es 15\n"
          ]
        }
      ]
    },
    {
      "cell_type": "code",
      "source": [
        "# https://linkode.org/#Yy5pXmSFVWFTmxUafnfrh4\n",
        "numero1 = int(input(\"Ingrese un numero: \"))\n",
        "numero2 = int(input(\"Ingrese un numero: \"))\n",
        "\n",
        "operacion = \"+\"\n",
        "\n",
        "if operacion == \"+\":\n",
        "  resultado = numero1 + numero2\n",
        "else:\n",
        "  resultado =  numero1 - numero2\n",
        "\n",
        "print(f\"El resultado de {numero1} {operacion} {numero2} es {resultado}\")"
      ],
      "metadata": {
        "id": "w-W_2Cg9vH44",
        "colab": {
          "base_uri": "https://localhost:8080/"
        },
        "outputId": "01bbc517-e919-43b3-f493-b7bdc8abbc03"
      },
      "execution_count": 71,
      "outputs": [
        {
          "output_type": "stream",
          "name": "stdout",
          "text": [
            "Ingrese un numero: 2\n",
            "Ingrese un numero: 4\n",
            "El resultado de 2 + 4 es 6\n"
          ]
        }
      ]
    },
    {
      "cell_type": "markdown",
      "source": [
        "La mayoría de errores sintácticos y de nombre los identifican los editores de código antes de la ejecución."
      ],
      "metadata": {
        "id": "RnqXIKyev7vr"
      }
    },
    {
      "cell_type": "markdown",
      "source": [
        "Visual Studio Code trae extensiones (__Pylance__) que alertan de estos errores..."
      ],
      "metadata": {
        "id": "nQjxRKfS2OOk"
      }
    },
    {
      "cell_type": "markdown",
      "source": [
        "Ver ejemplos en vscode....."
      ],
      "metadata": {
        "id": "EZxvx80NRD1j"
      }
    },
    {
      "cell_type": "markdown",
      "source": [
        "**Preguntas**❓"
      ],
      "metadata": {
        "id": "hmTp8cwwTdAj"
      }
    },
    {
      "cell_type": "markdown",
      "source": [
        "#### **Errores semánticos**"
      ],
      "metadata": {
        "id": "p1czYgCJufbG"
      }
    },
    {
      "cell_type": "markdown",
      "source": [
        "Estos errores son muy difíciles de identificar porque van ligados al sentido del funcionamiento y dependen de la situación. Algunas veces pueden ocurrir y otras no."
      ],
      "metadata": {
        "id": "yXeyQUJAuyFn"
      }
    },
    {
      "cell_type": "markdown",
      "source": [
        "**La mejor forma de prevenirlos es programando mucho y aprendiendo de tus propios fallos, la experiencia es la clave. Veamos a continuación algunos ejemplos.**"
      ],
      "metadata": {
        "id": "cmNrTv88x-8p"
      }
    },
    {
      "cell_type": "code",
      "source": [
        "lista = []\n",
        "opcion = \"\"\n",
        "\n",
        "while opcion != \"3\":\n",
        "\n",
        "  print(\"Ingrese una opcion\\\n",
        "      1 - Ingresar\\\n",
        "      2- Sacar\\\n",
        "      3- Salir\")\n",
        "\n",
        "  opcion = input(\"\")\n",
        "\n",
        "  if opcion == \"1\":\n",
        "    lista.append(\"a\")\n",
        "    print(lista)\n",
        "  elif opcion == \"2\":\n",
        "    elemento =lista.pop()\n",
        "    print(elemento)\n"
      ],
      "metadata": {
        "id": "JqrSdMVQwGp-",
        "colab": {
          "base_uri": "https://localhost:8080/",
          "height": 262
        },
        "outputId": "b887af61-ee58-42c1-8d7a-15d1fdb035f5"
      },
      "execution_count": 73,
      "outputs": [
        {
          "name": "stdout",
          "output_type": "stream",
          "text": [
            "Ingrese una opcion      1 - Ingresar      2- Sacar      3- Salir\n",
            "2\n"
          ]
        },
        {
          "output_type": "error",
          "ename": "IndexError",
          "evalue": "ignored",
          "traceback": [
            "\u001b[0;31m---------------------------------------------------------------------------\u001b[0m",
            "\u001b[0;31mIndexError\u001b[0m                                Traceback (most recent call last)",
            "\u001b[0;32m<ipython-input-73-78b21978a1e7>\u001b[0m in \u001b[0;36m<cell line: 4>\u001b[0;34m()\u001b[0m\n\u001b[1;32m     15\u001b[0m     \u001b[0mprint\u001b[0m\u001b[0;34m(\u001b[0m\u001b[0mlista\u001b[0m\u001b[0;34m)\u001b[0m\u001b[0;34m\u001b[0m\u001b[0;34m\u001b[0m\u001b[0m\n\u001b[1;32m     16\u001b[0m   \u001b[0;32melif\u001b[0m \u001b[0mopcion\u001b[0m \u001b[0;34m==\u001b[0m \u001b[0;34m\"2\"\u001b[0m\u001b[0;34m:\u001b[0m\u001b[0;34m\u001b[0m\u001b[0;34m\u001b[0m\u001b[0m\n\u001b[0;32m---> 17\u001b[0;31m     \u001b[0melemento\u001b[0m \u001b[0;34m=\u001b[0m\u001b[0mlista\u001b[0m\u001b[0;34m.\u001b[0m\u001b[0mpop\u001b[0m\u001b[0;34m(\u001b[0m\u001b[0;34m)\u001b[0m\u001b[0;34m\u001b[0m\u001b[0;34m\u001b[0m\u001b[0m\n\u001b[0m\u001b[1;32m     18\u001b[0m     \u001b[0mprint\u001b[0m\u001b[0;34m(\u001b[0m\u001b[0melemento\u001b[0m\u001b[0;34m)\u001b[0m\u001b[0;34m\u001b[0m\u001b[0;34m\u001b[0m\u001b[0m\n",
            "\u001b[0;31mIndexError\u001b[0m: pop from empty list"
          ]
        }
      ]
    },
    {
      "cell_type": "code",
      "source": [
        "# Hay solucion a este problemas?\n",
        "\n",
        "lista = []\n",
        "opcion = \"\"\n",
        "\n",
        "while opcion != \"3\":\n",
        "\n",
        "  print(\"Ingrese una opcion\\\n",
        "      1 - Ingresar\\\n",
        "      2- Sacar\\\n",
        "      3- Salir\")\n",
        "\n",
        "  opcion = input(\"\")\n",
        "\n",
        "  if opcion == \"1\":\n",
        "    lista.append(\"a\")\n",
        "    print(lista)\n",
        "  elif opcion == \"2\":\n",
        "    if lista:\n",
        "      elemento =lista.pop()\n",
        "      print(elemento)\n",
        "    else:\n",
        "      print(\"La lista esta vacia\")"
      ],
      "metadata": {
        "id": "OqFgH9OwxSAd",
        "colab": {
          "base_uri": "https://localhost:8080/"
        },
        "outputId": "657688bc-d964-45f5-cbe2-66814a6b867d"
      },
      "execution_count": 74,
      "outputs": [
        {
          "name": "stdout",
          "output_type": "stream",
          "text": [
            "Ingrese una opcion      1 - Ingresar      2- Sacar      3- Salir\n",
            "2\n",
            "La lista esta vacia\n",
            "Ingrese una opcion      1 - Ingresar      2- Sacar      3- Salir\n",
            "1\n",
            "['a']\n",
            "Ingrese una opcion      1 - Ingresar      2- Sacar      3- Salir\n",
            "1\n",
            "['a', 'a']\n",
            "Ingrese una opcion      1 - Ingresar      2- Sacar      3- Salir\n",
            "2\n",
            "a\n",
            "Ingrese una opcion      1 - Ingresar      2- Sacar      3- Salir\n",
            "2\n",
            "a\n",
            "Ingrese una opcion      1 - Ingresar      2- Sacar      3- Salir\n",
            "2\n",
            "La lista esta vacia\n",
            "Ingrese una opcion      1 - Ingresar      2- Sacar      3- Salir\n",
            "3\n"
          ]
        }
      ]
    },
    {
      "cell_type": "code",
      "source": [
        "numero = input(\"Ingrese un numero: \")\n",
        "\n",
        "numero = numero ** 2\n",
        "print(numero)"
      ],
      "metadata": {
        "id": "7HTB3x6Tz_7Q",
        "colab": {
          "base_uri": "https://localhost:8080/",
          "height": 245
        },
        "outputId": "794be66d-a44c-4898-df84-9b3657a3a640"
      },
      "execution_count": 75,
      "outputs": [
        {
          "name": "stdout",
          "output_type": "stream",
          "text": [
            "Ingrese un numero: 3\n"
          ]
        },
        {
          "output_type": "error",
          "ename": "TypeError",
          "evalue": "ignored",
          "traceback": [
            "\u001b[0;31m---------------------------------------------------------------------------\u001b[0m",
            "\u001b[0;31mTypeError\u001b[0m                                 Traceback (most recent call last)",
            "\u001b[0;32m<ipython-input-75-abb80a26b57f>\u001b[0m in \u001b[0;36m<cell line: 3>\u001b[0;34m()\u001b[0m\n\u001b[1;32m      1\u001b[0m \u001b[0mnumero\u001b[0m \u001b[0;34m=\u001b[0m \u001b[0minput\u001b[0m\u001b[0;34m(\u001b[0m\u001b[0;34m\"Ingrese un numero: \"\u001b[0m\u001b[0;34m)\u001b[0m\u001b[0;34m\u001b[0m\u001b[0;34m\u001b[0m\u001b[0m\n\u001b[1;32m      2\u001b[0m \u001b[0;34m\u001b[0m\u001b[0m\n\u001b[0;32m----> 3\u001b[0;31m \u001b[0mnumero\u001b[0m \u001b[0;34m=\u001b[0m \u001b[0mnumero\u001b[0m \u001b[0;34m**\u001b[0m \u001b[0;36m2\u001b[0m\u001b[0;34m\u001b[0m\u001b[0;34m\u001b[0m\u001b[0m\n\u001b[0m\u001b[1;32m      4\u001b[0m \u001b[0mprint\u001b[0m\u001b[0;34m(\u001b[0m\u001b[0mnumero\u001b[0m\u001b[0;34m)\u001b[0m\u001b[0;34m\u001b[0m\u001b[0;34m\u001b[0m\u001b[0m\n",
            "\u001b[0;31mTypeError\u001b[0m: unsupported operand type(s) for ** or pow(): 'str' and 'int'"
          ]
        }
      ]
    },
    {
      "cell_type": "code",
      "source": [
        "# Hay solucion a este problema ?\n",
        "\n",
        "numero = int(input(\"Ingrese un numero: \"))\n",
        "\n",
        "numero = numero ** 2\n",
        "print(numero)"
      ],
      "metadata": {
        "id": "YiL-9eCBVYez",
        "colab": {
          "base_uri": "https://localhost:8080/",
          "height": 262
        },
        "outputId": "b73b48db-3e87-4f74-d7c1-3071505b4ef8"
      },
      "execution_count": 77,
      "outputs": [
        {
          "name": "stdout",
          "output_type": "stream",
          "text": [
            "Ingrese un numero: a\n"
          ]
        },
        {
          "output_type": "error",
          "ename": "ValueError",
          "evalue": "ignored",
          "traceback": [
            "\u001b[0;31m---------------------------------------------------------------------------\u001b[0m",
            "\u001b[0;31mValueError\u001b[0m                                Traceback (most recent call last)",
            "\u001b[0;32m<ipython-input-77-5f31fd3fba1c>\u001b[0m in \u001b[0;36m<cell line: 3>\u001b[0;34m()\u001b[0m\n\u001b[1;32m      1\u001b[0m \u001b[0;31m# Hay solucion a este problema ?\u001b[0m\u001b[0;34m\u001b[0m\u001b[0;34m\u001b[0m\u001b[0m\n\u001b[1;32m      2\u001b[0m \u001b[0;34m\u001b[0m\u001b[0m\n\u001b[0;32m----> 3\u001b[0;31m \u001b[0mnumero\u001b[0m \u001b[0;34m=\u001b[0m \u001b[0mint\u001b[0m\u001b[0;34m(\u001b[0m\u001b[0minput\u001b[0m\u001b[0;34m(\u001b[0m\u001b[0;34m\"Ingrese un numero: \"\u001b[0m\u001b[0;34m)\u001b[0m\u001b[0;34m)\u001b[0m\u001b[0;34m\u001b[0m\u001b[0;34m\u001b[0m\u001b[0m\n\u001b[0m\u001b[1;32m      4\u001b[0m \u001b[0;34m\u001b[0m\u001b[0m\n\u001b[1;32m      5\u001b[0m \u001b[0mnumero\u001b[0m \u001b[0;34m=\u001b[0m \u001b[0mnumero\u001b[0m \u001b[0;34m**\u001b[0m \u001b[0;36m2\u001b[0m\u001b[0;34m\u001b[0m\u001b[0;34m\u001b[0m\u001b[0m\n",
            "\u001b[0;31mValueError\u001b[0m: invalid literal for int() with base 10: 'a'"
          ]
        }
      ]
    },
    {
      "cell_type": "code",
      "source": [
        "numero = input(\"Ingrese un numero: \")\n",
        "\n",
        "if numero.isdigit():\n",
        "  numero = int(numero)\n",
        "  numero = numero ** 2\n",
        "  print(numero)\n",
        "else:\n",
        "  print(\"Debe ingresar un numero\")"
      ],
      "metadata": {
        "colab": {
          "base_uri": "https://localhost:8080/"
        },
        "id": "dNKxm8cDIpkn",
        "outputId": "433abe94-a306-4ba2-a0d0-a2f0e289969c"
      },
      "execution_count": 79,
      "outputs": [
        {
          "output_type": "stream",
          "name": "stdout",
          "text": [
            "Ingrese un numero: a\n",
            "Debe ingresar un numero\n"
          ]
        }
      ]
    },
    {
      "cell_type": "code",
      "source": [
        "datos = [\"remito.pdf\", \"Contructora DiDi S.R.L\", 30]\n",
        "\n",
        "print(datos[3])"
      ],
      "metadata": {
        "id": "xsrSUZbR0ZgR",
        "colab": {
          "base_uri": "https://localhost:8080/",
          "height": 210
        },
        "outputId": "7c2cb831-ac49-4137-94db-a5930383530b"
      },
      "execution_count": 81,
      "outputs": [
        {
          "output_type": "error",
          "ename": "IndexError",
          "evalue": "ignored",
          "traceback": [
            "\u001b[0;31m---------------------------------------------------------------------------\u001b[0m",
            "\u001b[0;31mIndexError\u001b[0m                                Traceback (most recent call last)",
            "\u001b[0;32m<ipython-input-81-dd91bcd0b3f3>\u001b[0m in \u001b[0;36m<cell line: 3>\u001b[0;34m()\u001b[0m\n\u001b[1;32m      1\u001b[0m \u001b[0mdatos\u001b[0m \u001b[0;34m=\u001b[0m \u001b[0;34m[\u001b[0m\u001b[0;34m\"remito.pdf\"\u001b[0m\u001b[0;34m,\u001b[0m \u001b[0;34m\"Contructora DiDi S.R.L\"\u001b[0m\u001b[0;34m,\u001b[0m \u001b[0;36m30\u001b[0m\u001b[0;34m]\u001b[0m\u001b[0;34m\u001b[0m\u001b[0;34m\u001b[0m\u001b[0m\n\u001b[1;32m      2\u001b[0m \u001b[0;34m\u001b[0m\u001b[0m\n\u001b[0;32m----> 3\u001b[0;31m \u001b[0mprint\u001b[0m\u001b[0;34m(\u001b[0m\u001b[0mdatos\u001b[0m\u001b[0;34m[\u001b[0m\u001b[0;36m3\u001b[0m\u001b[0;34m]\u001b[0m\u001b[0;34m)\u001b[0m\u001b[0;34m\u001b[0m\u001b[0;34m\u001b[0m\u001b[0m\n\u001b[0m",
            "\u001b[0;31mIndexError\u001b[0m: list index out of range"
          ]
        }
      ]
    },
    {
      "cell_type": "code",
      "source": [
        "# Hay solucion a este problema ?\n",
        "datos = [\"remito.pdf\", \"Contructora DiDi S.R.L\", 30, {}]\n",
        "\n",
        "if len(datos) == 4:\n",
        "  print(datos[3])\n",
        "else:\n",
        "  print(\"Error falta informacion\")"
      ],
      "metadata": {
        "id": "87yFmus3iBaj",
        "colab": {
          "base_uri": "https://localhost:8080/"
        },
        "outputId": "40f022c4-31f3-4cda-d38b-a451b6ad461c"
      },
      "execution_count": 83,
      "outputs": [
        {
          "output_type": "stream",
          "name": "stdout",
          "text": [
            "{}\n"
          ]
        }
      ]
    },
    {
      "cell_type": "code",
      "source": [
        "persona = {\n",
        "    \"nombre\": \"Juan\",\n",
        "    \"edad\": 45,\n",
        "    # \"altura\": 1.90\n",
        "}\n",
        "\n",
        "\n",
        "altura = persona[\"altura\"]\n",
        "print(altura)\n"
      ],
      "metadata": {
        "id": "-9F8BWOz03u9",
        "colab": {
          "base_uri": "https://localhost:8080/",
          "height": 227
        },
        "outputId": "1c982ff3-95e7-4211-e9ff-2c14cd767722"
      },
      "execution_count": 85,
      "outputs": [
        {
          "output_type": "error",
          "ename": "KeyError",
          "evalue": "ignored",
          "traceback": [
            "\u001b[0;31m---------------------------------------------------------------------------\u001b[0m",
            "\u001b[0;31mKeyError\u001b[0m                                  Traceback (most recent call last)",
            "\u001b[0;32m<ipython-input-85-5ea52306becc>\u001b[0m in \u001b[0;36m<cell line: 8>\u001b[0;34m()\u001b[0m\n\u001b[1;32m      6\u001b[0m \u001b[0;34m\u001b[0m\u001b[0m\n\u001b[1;32m      7\u001b[0m \u001b[0;34m\u001b[0m\u001b[0m\n\u001b[0;32m----> 8\u001b[0;31m \u001b[0maltura\u001b[0m \u001b[0;34m=\u001b[0m \u001b[0mpersona\u001b[0m\u001b[0;34m[\u001b[0m\u001b[0;34m\"altura\"\u001b[0m\u001b[0;34m]\u001b[0m\u001b[0;34m\u001b[0m\u001b[0;34m\u001b[0m\u001b[0m\n\u001b[0m\u001b[1;32m      9\u001b[0m \u001b[0mprint\u001b[0m\u001b[0;34m(\u001b[0m\u001b[0maltura\u001b[0m\u001b[0;34m)\u001b[0m\u001b[0;34m\u001b[0m\u001b[0;34m\u001b[0m\u001b[0m\n",
            "\u001b[0;31mKeyError\u001b[0m: 'altura'"
          ]
        }
      ]
    },
    {
      "cell_type": "code",
      "source": [
        "# Hay solucion a este problema ?\n",
        "\n",
        "persona = {\n",
        "    \"nombre\": \"Juan\",\n",
        "    \"edad\": 45,\n",
        "    # \"altura\": 1.90\n",
        "}\n",
        "\n",
        "if \"altura\" in persona:\n",
        "  print(altura)\n",
        "else:\n",
        "  print(\"No existe la key\")\n",
        "\n",
        "\n",
        "altura_persona = persona.get(\"altura\", 0)\n",
        "\n",
        "print(altura_persona)"
      ],
      "metadata": {
        "id": "EnmY-uSliJnu",
        "colab": {
          "base_uri": "https://localhost:8080/"
        },
        "outputId": "776fc17e-4150-4fd1-b4de-c2447ce910ce"
      },
      "execution_count": 90,
      "outputs": [
        {
          "output_type": "stream",
          "name": "stdout",
          "text": [
            "No existe la key\n",
            "0\n"
          ]
        }
      ]
    },
    {
      "cell_type": "markdown",
      "source": [
        "**Preguntas**❓"
      ],
      "metadata": {
        "id": "DlhrJChEboa7"
      }
    },
    {
      "cell_type": "markdown",
      "source": [
        "![green-divider](https://user-images.githubusercontent.com/7065401/52071924-c003ad80-2562-11e9-8297-1c6595f8a7ff.png)\n",
        "\n",
        "### **Ejercicio**"
      ],
      "metadata": {
        "id": "DyqWbq3Iylzy"
      }
    },
    {
      "cell_type": "markdown",
      "source": [
        "Desafío de errores\n",
        "\n",
        "1. Descripción de la actividad.\n",
        "\n",
        "En la función de nuestro ejercicio hay un fallo potencial, averigua cuándo sucede y retorna el valor None en ese caso especial, en cualquier otro caso devuelve el resultado normal de la función.\n",
        "\n",
        "```\n",
        ">>> def dividir(a, b):\n",
        "      return a/b\n",
        "```"
      ],
      "metadata": {
        "id": "Hr1XF-mcyj4_"
      }
    },
    {
      "cell_type": "code",
      "source": [
        "# Desafio errores\n",
        "\n",
        "def dividir(a,b):\n",
        "\n",
        "  if b == 0:\n",
        "    return None\n",
        "\n",
        "  resultado = a / b\n",
        "\n",
        "  return resultado\n",
        "\n",
        "\n",
        "dividir(23,9)"
      ],
      "metadata": {
        "id": "8mS3UML0kMMu",
        "colab": {
          "base_uri": "https://localhost:8080/"
        },
        "outputId": "1d2f0e9d-35e0-49f1-c4f7-4666cf869c9a"
      },
      "execution_count": 92,
      "outputs": [
        {
          "output_type": "execute_result",
          "data": {
            "text/plain": [
              "2.5555555555555554"
            ]
          },
          "metadata": {},
          "execution_count": 92
        }
      ]
    },
    {
      "cell_type": "code",
      "source": [
        "print(dividir(23, 0))"
      ],
      "metadata": {
        "colab": {
          "base_uri": "https://localhost:8080/"
        },
        "id": "sCZYTCAYMQ9s",
        "outputId": "5a126f40-c64b-40f3-897b-228808880661"
      },
      "execution_count": 96,
      "outputs": [
        {
          "output_type": "stream",
          "name": "stdout",
          "text": [
            "None\n"
          ]
        }
      ]
    },
    {
      "cell_type": "markdown",
      "source": [
        "2. Conexion a una base de datos"
      ],
      "metadata": {
        "id": "ppKFokT7Wwtu"
      }
    },
    {
      "cell_type": "markdown",
      "source": [
        "3. Request http   \n"
      ],
      "metadata": {
        "id": "5yJ93bPSXEr5"
      }
    },
    {
      "cell_type": "code",
      "source": [
        "# https://www.netveloper.com/api-gratuita-para-pruebas\n",
        "\n",
        "import requests\n",
        "\n",
        "respuesta = requests.get(\"https://jsonplaceholder.typicode.com/users/1\")"
      ],
      "metadata": {
        "id": "27ayHNAB9FtL"
      },
      "execution_count": 97,
      "outputs": []
    },
    {
      "cell_type": "code",
      "source": [
        "respuesta.status_code"
      ],
      "metadata": {
        "id": "dPN1nEXJ95L9",
        "colab": {
          "base_uri": "https://localhost:8080/"
        },
        "outputId": "de446f5c-d4bc-4ec9-c794-d1c36ad051a5"
      },
      "execution_count": 98,
      "outputs": [
        {
          "output_type": "execute_result",
          "data": {
            "text/plain": [
              "200"
            ]
          },
          "metadata": {},
          "execution_count": 98
        }
      ]
    },
    {
      "cell_type": "code",
      "source": [
        "respuesta.json()"
      ],
      "metadata": {
        "id": "XfMs2rqH974N",
        "colab": {
          "base_uri": "https://localhost:8080/"
        },
        "outputId": "a8743bf4-0395-43e9-8902-022602d1da32"
      },
      "execution_count": 99,
      "outputs": [
        {
          "output_type": "execute_result",
          "data": {
            "text/plain": [
              "{'id': 1,\n",
              " 'name': 'Leanne Graham',\n",
              " 'username': 'Bret',\n",
              " 'email': 'Sincere@april.biz',\n",
              " 'address': {'street': 'Kulas Light',\n",
              "  'suite': 'Apt. 556',\n",
              "  'city': 'Gwenborough',\n",
              "  'zipcode': '92998-3874',\n",
              "  'geo': {'lat': '-37.3159', 'lng': '81.1496'}},\n",
              " 'phone': '1-770-736-8031 x56442',\n",
              " 'website': 'hildegard.org',\n",
              " 'company': {'name': 'Romaguera-Crona',\n",
              "  'catchPhrase': 'Multi-layered client-server neural-net',\n",
              "  'bs': 'harness real-time e-markets'}}"
            ]
          },
          "metadata": {},
          "execution_count": 99
        }
      ]
    },
    {
      "cell_type": "code",
      "source": [
        "import requests\n",
        "\n",
        "try:\n",
        "  respuesta = requests.get(\"https://jsonplaceholder.typicode.com/users/1\")\n",
        "  print(respuesta.status_code)\n",
        "  print(respuesta.json())\n",
        "except:\n",
        "  print(\"Pagina web no encontrada - Intente mas tarde\")"
      ],
      "metadata": {
        "colab": {
          "base_uri": "https://localhost:8080/"
        },
        "id": "_uo5iwK4NxT0",
        "outputId": "a62a9c45-a6ca-47f2-f785-55c099f871d4"
      },
      "execution_count": 132,
      "outputs": [
        {
          "output_type": "stream",
          "name": "stdout",
          "text": [
            "200\n",
            "{'id': 1, 'name': 'Leanne Graham', 'username': 'Bret', 'email': 'Sincere@april.biz', 'address': {'street': 'Kulas Light', 'suite': 'Apt. 556', 'city': 'Gwenborough', 'zipcode': '92998-3874', 'geo': {'lat': '-37.3159', 'lng': '81.1496'}}, 'phone': '1-770-736-8031 x56442', 'website': 'hildegard.org', 'company': {'name': 'Romaguera-Crona', 'catchPhrase': 'Multi-layered client-server neural-net', 'bs': 'harness real-time e-markets'}}\n"
          ]
        }
      ]
    },
    {
      "cell_type": "code",
      "source": [
        "respuesta.status_code"
      ],
      "metadata": {
        "colab": {
          "base_uri": "https://localhost:8080/"
        },
        "id": "TWNNMpb-OHhK",
        "outputId": "93b8951f-9f2f-4e97-aad2-2d2b1fe7cda5"
      },
      "execution_count": 103,
      "outputs": [
        {
          "output_type": "execute_result",
          "data": {
            "text/plain": [
              "404"
            ]
          },
          "metadata": {},
          "execution_count": 103
        }
      ]
    },
    {
      "cell_type": "markdown",
      "source": [
        "### ☕ Break"
      ],
      "metadata": {
        "id": "9sa3-uJezu_V"
      }
    },
    {
      "cell_type": "markdown",
      "source": [
        "10 minutos y volvemos!!!!!"
      ],
      "metadata": {
        "id": "6TiwggZiz-s6"
      }
    },
    {
      "cell_type": "markdown",
      "source": [
        "![green-divider](https://user-images.githubusercontent.com/7065401/52071924-c003ad80-2562-11e9-8297-1c6595f8a7ff.png)\n",
        "\n",
        "### **Excepciones**"
      ],
      "metadata": {
        "id": "dG-PNQ6Pz0KZ"
      }
    },
    {
      "cell_type": "markdown",
      "source": [
        "Incluso si la sentencia o expresión es sintácticamente correcta, puede generar un error cuando se intenta ejecutarla. __Los errores detectados durante la ejecución se llaman excepciones__, y no son incondicionalmente fatales: pronto aprenderás cómo manejarlos en los programas en Python.\n"
      ],
      "metadata": {
        "id": "n8pH3vX2afU-"
      }
    },
    {
      "cell_type": "code",
      "source": [
        "# Ejemplo excepciones\n",
        "\n",
        "10 / 0"
      ],
      "metadata": {
        "id": "dqu3jgWs0frk",
        "colab": {
          "base_uri": "https://localhost:8080/",
          "height": 210
        },
        "outputId": "e6b320a5-ece5-461e-e327-a76f78aaf6f5"
      },
      "execution_count": 104,
      "outputs": [
        {
          "output_type": "error",
          "ename": "ZeroDivisionError",
          "evalue": "ignored",
          "traceback": [
            "\u001b[0;31m---------------------------------------------------------------------------\u001b[0m",
            "\u001b[0;31mZeroDivisionError\u001b[0m                         Traceback (most recent call last)",
            "\u001b[0;32m<ipython-input-104-0262addfb51d>\u001b[0m in \u001b[0;36m<cell line: 3>\u001b[0;34m()\u001b[0m\n\u001b[1;32m      1\u001b[0m \u001b[0;31m# Ejemplo excepciones\u001b[0m\u001b[0;34m\u001b[0m\u001b[0;34m\u001b[0m\u001b[0m\n\u001b[1;32m      2\u001b[0m \u001b[0;34m\u001b[0m\u001b[0m\n\u001b[0;32m----> 3\u001b[0;31m \u001b[0;36m10\u001b[0m \u001b[0;34m/\u001b[0m \u001b[0;36m0\u001b[0m\u001b[0;34m\u001b[0m\u001b[0;34m\u001b[0m\u001b[0m\n\u001b[0m",
            "\u001b[0;31mZeroDivisionError\u001b[0m: division by zero"
          ]
        }
      ]
    },
    {
      "cell_type": "code",
      "source": [
        "lista_valores.append()"
      ],
      "metadata": {
        "colab": {
          "base_uri": "https://localhost:8080/",
          "height": 175
        },
        "id": "HLLNHtNZao70",
        "outputId": "5e1b4348-45d8-46cc-e09d-758eca9e3ef0"
      },
      "execution_count": 105,
      "outputs": [
        {
          "output_type": "error",
          "ename": "NameError",
          "evalue": "ignored",
          "traceback": [
            "\u001b[0;31m---------------------------------------------------------------------------\u001b[0m",
            "\u001b[0;31mNameError\u001b[0m                                 Traceback (most recent call last)",
            "\u001b[0;32m<ipython-input-105-a0aded511ce2>\u001b[0m in \u001b[0;36m<cell line: 1>\u001b[0;34m()\u001b[0m\n\u001b[0;32m----> 1\u001b[0;31m \u001b[0mlista_valores\u001b[0m\u001b[0;34m.\u001b[0m\u001b[0mappend\u001b[0m\u001b[0;34m(\u001b[0m\u001b[0;34m)\u001b[0m\u001b[0;34m\u001b[0m\u001b[0;34m\u001b[0m\u001b[0m\n\u001b[0m",
            "\u001b[0;31mNameError\u001b[0m: name 'lista_valores' is not defined"
          ]
        }
      ]
    },
    {
      "cell_type": "code",
      "source": [
        "float(\"ab\")"
      ],
      "metadata": {
        "colab": {
          "base_uri": "https://localhost:8080/",
          "height": 175
        },
        "id": "JRIHBp90bABW",
        "outputId": "b3646be9-bb7e-4561-9d0b-2b4c9656b44c"
      },
      "execution_count": 106,
      "outputs": [
        {
          "output_type": "error",
          "ename": "ValueError",
          "evalue": "ignored",
          "traceback": [
            "\u001b[0;31m---------------------------------------------------------------------------\u001b[0m",
            "\u001b[0;31mValueError\u001b[0m                                Traceback (most recent call last)",
            "\u001b[0;32m<ipython-input-106-926b10b5cda7>\u001b[0m in \u001b[0;36m<cell line: 1>\u001b[0;34m()\u001b[0m\n\u001b[0;32m----> 1\u001b[0;31m \u001b[0mfloat\u001b[0m\u001b[0;34m(\u001b[0m\u001b[0;34m\"ab\"\u001b[0m\u001b[0;34m)\u001b[0m\u001b[0;34m\u001b[0m\u001b[0;34m\u001b[0m\u001b[0m\n\u001b[0m",
            "\u001b[0;31mValueError\u001b[0m: could not convert string to float: 'ab'"
          ]
        }
      ]
    },
    {
      "cell_type": "code",
      "source": [
        "palabra = \"Hola\"\n",
        "\n",
        "palabra[12]"
      ],
      "metadata": {
        "colab": {
          "base_uri": "https://localhost:8080/",
          "height": 210
        },
        "id": "pBpJSGUhbGPk",
        "outputId": "865e3343-1f69-4263-ef55-18a3db0c6f50"
      },
      "execution_count": 107,
      "outputs": [
        {
          "output_type": "error",
          "ename": "IndexError",
          "evalue": "ignored",
          "traceback": [
            "\u001b[0;31m---------------------------------------------------------------------------\u001b[0m",
            "\u001b[0;31mIndexError\u001b[0m                                Traceback (most recent call last)",
            "\u001b[0;32m<ipython-input-107-03da91801a2b>\u001b[0m in \u001b[0;36m<cell line: 3>\u001b[0;34m()\u001b[0m\n\u001b[1;32m      1\u001b[0m \u001b[0mpalabra\u001b[0m \u001b[0;34m=\u001b[0m \u001b[0;34m\"Hola\"\u001b[0m\u001b[0;34m\u001b[0m\u001b[0;34m\u001b[0m\u001b[0m\n\u001b[1;32m      2\u001b[0m \u001b[0;34m\u001b[0m\u001b[0m\n\u001b[0;32m----> 3\u001b[0;31m \u001b[0mpalabra\u001b[0m\u001b[0;34m[\u001b[0m\u001b[0;36m12\u001b[0m\u001b[0;34m]\u001b[0m\u001b[0;34m\u001b[0m\u001b[0;34m\u001b[0m\u001b[0m\n\u001b[0m",
            "\u001b[0;31mIndexError\u001b[0m: string index out of range"
          ]
        }
      ]
    },
    {
      "cell_type": "markdown",
      "source": [
        "Como podemos suponer, es difícil prevenir fallos que ni siquiera nos habíamos planteado que podían existir. Por suerte para esas situaciones existen las excepciones."
      ],
      "metadata": {
        "id": "f28S9L97Z4K7"
      }
    },
    {
      "cell_type": "markdown",
      "source": [
        "Las excepciones son **bloques de código que nos permiten continuar con la ejecución de un programa pese a que ocurra un error**.\n"
      ],
      "metadata": {
        "id": "31vtCd9-0KAm"
      }
    },
    {
      "cell_type": "markdown",
      "source": [
        "#### **try-except**"
      ],
      "metadata": {
        "id": "6-ZdP_muTnuY"
      }
    },
    {
      "cell_type": "markdown",
      "source": [
        "Para prevenir el fallo debemos poner el código propenso a errores en un bloque try y luego encadenar un bloque except para tratar la situación excepcional mostrando que ha ocurrido un fallo:\n",
        "\n",
        "```\n",
        "try:\n",
        "  Bloque de codigo\n",
        "except:\n",
        "  Bloque de codigo\n",
        "```"
      ],
      "metadata": {
        "id": "T96rBVlrUCyI"
      }
    },
    {
      "cell_type": "markdown",
      "source": [
        "Funcionamiento:\n",
        "\n",
        "* Se ejecuta el bloque try (el código entre las sentencias try y except).\n",
        "* Si no ocurre ninguna excepción, el bloque except se saltea y termina la ejecución de la sentencia try.\n",
        "* Si ocurre una excepción durante la ejecución del bloque try, el resto del bloque se saltea. Luego, si su tipo coincide con la excepción nombrada luego de la palabra reservada except, se ejecuta el bloque except, y la ejecución continúa luego de la sentencia try.\n"
      ],
      "metadata": {
        "id": "_pvI4AbZUMHM"
      }
    },
    {
      "cell_type": "code",
      "source": [
        "# Sin manejo de Excepciones\n",
        "\n",
        "numero1 = 10\n",
        "numero2 = 0\n",
        "\n",
        "print(f\"Vamos a dividir {numero1} por {numero2}\")\n",
        "\n",
        "resultado = numero1 / numero2\n",
        "print(f\"resultado : {resultado}\")\n",
        "\n",
        "print(\"Continua el programa....\")"
      ],
      "metadata": {
        "colab": {
          "base_uri": "https://localhost:8080/",
          "height": 262
        },
        "id": "vrL4Pb3teI7a",
        "outputId": "ce713639-f166-42df-df7d-89fd687ab5c9"
      },
      "execution_count": 108,
      "outputs": [
        {
          "output_type": "stream",
          "name": "stdout",
          "text": [
            "Vamos a dividir 10 por 0\n"
          ]
        },
        {
          "output_type": "error",
          "ename": "ZeroDivisionError",
          "evalue": "ignored",
          "traceback": [
            "\u001b[0;31m---------------------------------------------------------------------------\u001b[0m",
            "\u001b[0;31mZeroDivisionError\u001b[0m                         Traceback (most recent call last)",
            "\u001b[0;32m<ipython-input-108-b33bfc975077>\u001b[0m in \u001b[0;36m<cell line: 8>\u001b[0;34m()\u001b[0m\n\u001b[1;32m      6\u001b[0m \u001b[0mprint\u001b[0m\u001b[0;34m(\u001b[0m\u001b[0;34mf\"Vamos a dividir {numero1} por {numero2}\"\u001b[0m\u001b[0;34m)\u001b[0m\u001b[0;34m\u001b[0m\u001b[0;34m\u001b[0m\u001b[0m\n\u001b[1;32m      7\u001b[0m \u001b[0;34m\u001b[0m\u001b[0m\n\u001b[0;32m----> 8\u001b[0;31m \u001b[0mresultado\u001b[0m \u001b[0;34m=\u001b[0m \u001b[0mnumero1\u001b[0m \u001b[0;34m/\u001b[0m \u001b[0mnumero2\u001b[0m\u001b[0;34m\u001b[0m\u001b[0;34m\u001b[0m\u001b[0m\n\u001b[0m\u001b[1;32m      9\u001b[0m \u001b[0mprint\u001b[0m\u001b[0;34m(\u001b[0m\u001b[0;34mf\"resultado : {resultado}\"\u001b[0m\u001b[0;34m)\u001b[0m\u001b[0;34m\u001b[0m\u001b[0;34m\u001b[0m\u001b[0m\n\u001b[1;32m     10\u001b[0m \u001b[0;34m\u001b[0m\u001b[0m\n",
            "\u001b[0;31mZeroDivisionError\u001b[0m: division by zero"
          ]
        }
      ]
    },
    {
      "cell_type": "code",
      "source": [
        "numero1 = 10\n",
        "numero2 = 0\n",
        "print(f\"Vamos a dividir {numero1} por {numero2}\")\n",
        "\n",
        "try:\n",
        "  print(\"Dentro del try\")\n",
        "  resultado = numero1 / numero2\n",
        "  print(f\"resultado : {resultado}\")\n",
        "except:\n",
        "  print(\"No es posible dividir por 0\")\n",
        "\n",
        "print(\"Continua el programa....\")"
      ],
      "metadata": {
        "colab": {
          "base_uri": "https://localhost:8080/"
        },
        "id": "rnI44peIcIjI",
        "outputId": "716ccc2a-c176-49d1-8b81-601e5455f6df"
      },
      "execution_count": 110,
      "outputs": [
        {
          "output_type": "stream",
          "name": "stdout",
          "text": [
            "Vamos a dividir 10 por 0\n",
            "Dentro del try\n",
            "No es posible dividir por 0\n",
            "Continua el programa....\n"
          ]
        }
      ]
    },
    {
      "cell_type": "code",
      "source": [
        "# Capturando una excepcion especifica\n",
        "\n",
        "numero1 = 10\n",
        "numero2 = 10\n",
        "print(f\"Vamos a dividir {numero1} por {numero2}\")\n",
        "\n",
        "try:\n",
        "  print(\"Dentro del try\")\n",
        "  resultado = numero1 / numero2\n",
        "  print(f\"resultado : {resultado}\")\n",
        "except ZeroDivisionError:\n",
        "  print(\"No es posible dividir por 0\")\n",
        "\n",
        "print(\"Continua el programa....\")\n"
      ],
      "metadata": {
        "colab": {
          "base_uri": "https://localhost:8080/"
        },
        "id": "39ZW0UoMdbWX",
        "outputId": "f1a316a6-4dd9-4d7d-c168-f701145cdfe2"
      },
      "execution_count": 116,
      "outputs": [
        {
          "output_type": "stream",
          "name": "stdout",
          "text": [
            "Vamos a dividir 10 por 10\n",
            "Dentro del try\n",
            "resultado : 1.0\n",
            "Continua el programa....\n"
          ]
        }
      ]
    },
    {
      "cell_type": "code",
      "source": [
        "# Que pasa si ocurre otra Excepcion distinta a ZeroDivisionError?"
      ],
      "metadata": {
        "id": "Hahm2ipYd2wS"
      },
      "execution_count": null,
      "outputs": []
    },
    {
      "cell_type": "code",
      "source": [
        "# ValueError\n",
        "\n",
        "try:\n",
        "  numero = int(\"A\")\n",
        "except ValueError:\n",
        "  print(\"Error al convertir en entero!\")"
      ],
      "metadata": {
        "colab": {
          "base_uri": "https://localhost:8080/"
        },
        "id": "Mds11HDReh9P",
        "outputId": "cceca745-ee02-4d7e-d7a2-9ef6e0e5f0d0"
      },
      "execution_count": 117,
      "outputs": [
        {
          "output_type": "stream",
          "name": "stdout",
          "text": [
            "Error al convertir en entero!\n"
          ]
        }
      ]
    },
    {
      "cell_type": "code",
      "source": [
        "# IndexError\n",
        "\n",
        "lista = [1, 2, 3, 4, 5]\n",
        "\n",
        "try:\n",
        "  foo = lista[23]\n",
        "except IndexError:\n",
        "  print(\"No es posible acceder a ese indice\")"
      ],
      "metadata": {
        "colab": {
          "base_uri": "https://localhost:8080/"
        },
        "id": "25Kq9KA72iwR",
        "outputId": "d143f66b-e032-4530-a639-80d17543c91d"
      },
      "execution_count": 118,
      "outputs": [
        {
          "output_type": "stream",
          "name": "stdout",
          "text": [
            "No es posible acceder a ese indice\n"
          ]
        }
      ]
    },
    {
      "cell_type": "code",
      "source": [
        "# TypeError\n",
        "\n",
        "lista = [1, 2, 3, 4, 5]\n",
        "\n",
        "try:\n",
        "  foo = lista[[0,1]]\n",
        "except TypeError:\n",
        "  print(\"No es posible acceder a ese indice\")"
      ],
      "metadata": {
        "colab": {
          "base_uri": "https://localhost:8080/"
        },
        "id": "b1mhfaoc26A0",
        "outputId": "92ab04f0-77f2-45e4-c81a-1a3444c66740"
      },
      "execution_count": 119,
      "outputs": [
        {
          "output_type": "stream",
          "name": "stdout",
          "text": [
            "No es posible acceder a ese indice\n"
          ]
        }
      ]
    },
    {
      "cell_type": "markdown",
      "source": [
        "File Error en VSCode"
      ],
      "metadata": {
        "id": "BAJ7tJj-BasU"
      }
    },
    {
      "cell_type": "markdown",
      "source": [
        "Preguntas❓"
      ],
      "metadata": {
        "id": "4_W2rVPzfGsq"
      }
    },
    {
      "cell_type": "markdown",
      "source": [
        "#### **try-except-else**"
      ],
      "metadata": {
        "id": "Y2FxkjkscluO"
      }
    },
    {
      "cell_type": "markdown",
      "source": [
        "Las declaraciones **try - except** tienen un bloque **else opcional**, el cual, cuando está presente, debe seguir a los except. El bloque else es un buen momento para romper la iteración con break si todo funciona correctamente.\n",
        "\n",
        "**El uso de else es mejor que agregar código adicional en el try** porque evita capturar accidentalmente una excepción que no fue generada por el código que está protegido por la sentencia try - except."
      ],
      "metadata": {
        "id": "35T9u6aDcqB5"
      }
    },
    {
      "cell_type": "code",
      "source": [
        "#Ejemplo try - except - else\n",
        "\n",
        "numero1 = 10\n",
        "numero2 = 10\n",
        "\n",
        "try:\n",
        "    resultado = numero1 / numero2\n",
        "except ZeroDivisionError:\n",
        "    print(\"No se puede dividir por 0!\")\n",
        "else:\n",
        "    print(f\"resultado : {resultado}\")\n",
        "\n",
        "print(\"Continua el programa ...\")"
      ],
      "metadata": {
        "id": "ntFSBF5dc-SE",
        "colab": {
          "base_uri": "https://localhost:8080/"
        },
        "outputId": "819269b6-8f00-4085-ea7e-6ad460d65bca"
      },
      "execution_count": 124,
      "outputs": [
        {
          "output_type": "stream",
          "name": "stdout",
          "text": [
            "resultado : 1.0\n",
            "Continua el programa ...\n"
          ]
        }
      ]
    },
    {
      "cell_type": "markdown",
      "source": [
        "#### **finaly**"
      ],
      "metadata": {
        "id": "azFuQBJNm9BM"
      }
    },
    {
      "cell_type": "markdown",
      "source": [
        "La sentencia try tiene otra sentencia **opcional** que intenta definir acciones de limpieza que deben ser ejecutadas bajo ciertas circunstancias. Una sentencia finaly **siempre es ejecutada antes de salir de la sentencia try, ya sea que una excepción haya ocurrido o no**."
      ],
      "metadata": {
        "id": "wKZeL4xAnvgb"
      }
    },
    {
      "cell_type": "markdown",
      "source": [
        "Cuando ocurre una excepción en la sentencia try y no fue manejada por una sentencia except (u ocurrió en una sentencia except o else), es relanzada luego de que se ejecuta la sentencia finally."
      ],
      "metadata": {
        "id": "3xjYrdE7n3xM"
      }
    },
    {
      "cell_type": "code",
      "source": [
        "# Ejemplo finaly\n",
        "\n",
        "try:\n",
        "  a = float(input(\"Introduce un número: \"))\n",
        "  b = float(input(\"Introduce otro número: \"))\n",
        "  print(a + b)\n",
        "except:\n",
        "    print(\"Ha ocurrido un error. Tienes que introducir 2 números.\")\n",
        "else:\n",
        "    print(\"La suma se ha realizado correctamente.\")\n",
        "finally:\n",
        "  # Esto se ejecuta siempre.\n",
        "  print(\"Fin del bucle\")\n"
      ],
      "metadata": {
        "id": "bPdeG453oBJ7",
        "colab": {
          "base_uri": "https://localhost:8080/"
        },
        "outputId": "8f7bb561-5827-42e7-f544-3bec56b234fc"
      },
      "execution_count": 126,
      "outputs": [
        {
          "output_type": "stream",
          "name": "stdout",
          "text": [
            "Introduce un número: w\n",
            "Ha ocurrido un error. Tienes que introducir 2 números.\n",
            "Fin del bucle\n"
          ]
        }
      ]
    },
    {
      "cell_type": "markdown",
      "source": [
        "Preguntas❓"
      ],
      "metadata": {
        "id": "725Liyekw449"
      }
    },
    {
      "cell_type": "markdown",
      "source": [
        "![green-divider](https://user-images.githubusercontent.com/7065401/52071924-c003ad80-2562-11e9-8297-1c6595f8a7ff.png)\n",
        "\n",
        "### **Excepciones múltiples**"
      ],
      "metadata": {
        "id": "FvKphexdn9Xh"
      }
    },
    {
      "cell_type": "markdown",
      "source": [
        "En una misma pieza de código pueden ocurrir muchos errores distintos y quizá nos interese actuar de forma diferente en cada caso.\n",
        "\n",
        "**Para esas situaciones algo que podemos hacer es asignar una excepción a una variable**.\n"
      ],
      "metadata": {
        "id": "H9BRrS3xoNkr"
      }
    },
    {
      "cell_type": "code",
      "source": [
        "try:\n",
        "  numero1 = int(input(\"Introduce un número: \"))\n",
        "  numero2 = int(input(\"Introduce un número: \"))\n",
        "  resultado = numero1 ** 2\n",
        "  resultado /= numero2\n",
        "  print(resultado)\n",
        "except Exception as e:\n",
        "  print(\"Ha ocurrido un error =>\", type(e).__name__)"
      ],
      "metadata": {
        "colab": {
          "base_uri": "https://localhost:8080/"
        },
        "id": "PL6JMBblogIw",
        "outputId": "f7674621-4fef-4e59-e16f-a2f2e7138241"
      },
      "execution_count": 140,
      "outputs": [
        {
          "output_type": "stream",
          "name": "stdout",
          "text": [
            "Introduce un número: 2\n",
            "Introduce un número: 0\n",
            "Ha ocurrido un error => ZeroDivisionError\n"
          ]
        }
      ]
    },
    {
      "cell_type": "markdown",
      "source": [
        "Cada error tiene un identificador único que curiosamente se corresponde con su tipo de dato. Aprovechando eso podemos mostrar la clase del error utilizando la sintaxis:  \n",
        "\n",
        "```\n",
        "print(type(e)\n",
        "```"
      ],
      "metadata": {
        "id": "XbfPI1G6yjp5"
      }
    },
    {
      "cell_type": "code",
      "source": [
        "try:\n",
        "  \"Hola\"[23]\n",
        "except Exception as e:\n",
        "  print(type(e))"
      ],
      "metadata": {
        "colab": {
          "base_uri": "https://localhost:8080/"
        },
        "id": "Sz1-H22LywQA",
        "outputId": "cf64f062-7566-4925-ea4d-764acd380cb0"
      },
      "execution_count": 141,
      "outputs": [
        {
          "output_type": "stream",
          "name": "stdout",
          "text": [
            "<class 'IndexError'>\n"
          ]
        }
      ]
    },
    {
      "cell_type": "code",
      "source": [
        "try:\n",
        "  lista= [0, 1, 2]\n",
        "  lista[[0,1]]\n",
        "except Exception as e:\n",
        "  print(type(e))"
      ],
      "metadata": {
        "colab": {
          "base_uri": "https://localhost:8080/"
        },
        "id": "MlwwRG9wZYVf",
        "outputId": "7805f991-c460-4b7d-dd74-b4f9b51fd26c"
      },
      "execution_count": 142,
      "outputs": [
        {
          "output_type": "stream",
          "name": "stdout",
          "text": [
            "<class 'TypeError'>\n"
          ]
        }
      ]
    },
    {
      "cell_type": "markdown",
      "source": [
        "Gracias a los identificadores de errores podemos crear múltiples comprobaciones, siempre que dejemos en último lugar la excepción por defecto. Excepción que engloba cualquier tipo de error."
      ],
      "metadata": {
        "id": "FM29eQxa0Xbp"
      }
    },
    {
      "cell_type": "code",
      "source": [
        "try:\n",
        "  numero = float(input(\"Introduce un número divisor: \"))\n",
        "  resultado = 5/numero\n",
        "  print(resultado)\n",
        "except TypeError:\n",
        "  print(\"No se puede dividir el número entre una cadena\")\n",
        "\n",
        "#except ValueError:\n",
        "#  print(\"Debes introducir una cadena que sea un número\")\n",
        "\n",
        "except ZeroDivisionError:\n",
        "  print(\"No se puede dividir por cero, prueba otro número\")\n",
        "\n",
        "except Exception as e:\n",
        "  print(\"Ha ocurrido un error no previsto\", type(e).__name__ )"
      ],
      "metadata": {
        "colab": {
          "base_uri": "https://localhost:8080/"
        },
        "id": "w7oyBseY0hCK",
        "outputId": "8d9b1643-fc40-4160-94e4-9ffa6cdb9107"
      },
      "execution_count": 152,
      "outputs": [
        {
          "output_type": "stream",
          "name": "stdout",
          "text": [
            "Introduce un número divisor: a\n",
            "Ha ocurrido un error no previsto ValueError\n"
          ]
        }
      ]
    },
    {
      "cell_type": "markdown",
      "source": [
        "![green-divider](https://user-images.githubusercontent.com/7065401/52071924-c003ad80-2562-11e9-8297-1c6595f8a7ff.png)\n",
        "\n",
        "### **Ejercicio**"
      ],
      "metadata": {
        "id": "j4pFtIacq2ug"
      }
    },
    {
      "cell_type": "markdown",
      "source": [
        "**Desafío de excepciones**\n",
        "\n",
        "Descripción de la actividad.\n",
        "\n",
        "Tomando la solución del ejercicio anterior, en lugar de devolver None al dividir entre cero, tienes que capturar una excepción que muestre por pantalla EXACTAMENTE el mensaje: “No se puede dividir entre cero”; si falla el código\n",
        "\n",
        "```\n",
        ">>> def dividir(a, b):\n",
        "if b == 0:\n",
        "\treturn None\n",
        "return a/b\n",
        "```"
      ],
      "metadata": {
        "id": "j_0sVNuAq4ih"
      }
    },
    {
      "cell_type": "code",
      "source": [
        "def dividir(a, b):\n",
        "  try:\n",
        "    resultado = a /b\n",
        "    return resultado\n",
        "  except:\n",
        "    print(\"Error\")\n",
        "    return\n",
        "\n",
        "dividir(6,0)"
      ],
      "metadata": {
        "id": "1LnEi-x6cpMl"
      },
      "execution_count": null,
      "outputs": []
    },
    {
      "cell_type": "markdown",
      "source": [
        "![green-divider](https://user-images.githubusercontent.com/7065401/52071924-c003ad80-2562-11e9-8297-1c6595f8a7ff.png)\n",
        "\n",
        "### **Lanzando excepciones**"
      ],
      "metadata": {
        "id": "YLLcTp62o6e7"
      }
    },
    {
      "cell_type": "markdown",
      "source": [
        "En Python, la palabra clave **raise** se utiliza para generar (lanzar) una excepción de manera explícita. Puedes utilizar raise para indicar que ha ocurrido un error o una condición excepcional en tu código."
      ],
      "metadata": {
        "id": "ZoAZxGl96hu9"
      }
    },
    {
      "cell_type": "code",
      "source": [
        "raise Exception(\"Ocurrio un error\")"
      ],
      "metadata": {
        "id": "JUnnqIlDpt1y"
      },
      "execution_count": null,
      "outputs": []
    },
    {
      "cell_type": "code",
      "source": [
        "def factorial(numero):\n",
        "\n",
        "  if numero < 0:\n",
        "    raise ValueError(\"Solo numeros enteros mayores a 0\")\n",
        "\n",
        "  if numero == 0:\n",
        "    return 1\n",
        "\n",
        "  if numero == 1:\n",
        "    return numero\n",
        "\n",
        "  numero = numero * factorial(numero - 1)\n",
        "\n",
        "  return numero"
      ],
      "metadata": {
        "id": "EC0QKq8_5iOq"
      },
      "execution_count": 153,
      "outputs": []
    },
    {
      "cell_type": "code",
      "source": [
        "try:\n",
        "  factorial(-1)\n",
        "except ValueError:\n",
        "  print(\"Error\")\n"
      ],
      "metadata": {
        "colab": {
          "base_uri": "https://localhost:8080/",
          "height": 297
        },
        "id": "Ml59ne896IwX",
        "outputId": "ae38b122-c59f-45e3-d6e4-401486e39a83"
      },
      "execution_count": 154,
      "outputs": [
        {
          "output_type": "error",
          "ename": "ValueError",
          "evalue": "ignored",
          "traceback": [
            "\u001b[0;31m---------------------------------------------------------------------------\u001b[0m",
            "\u001b[0;31mValueError\u001b[0m                                Traceback (most recent call last)",
            "\u001b[0;32m<ipython-input-154-5aae425d6a8b>\u001b[0m in \u001b[0;36m<cell line: 1>\u001b[0;34m()\u001b[0m\n\u001b[0;32m----> 1\u001b[0;31m \u001b[0mfactorial\u001b[0m\u001b[0;34m(\u001b[0m\u001b[0;34m-\u001b[0m\u001b[0;36m1\u001b[0m\u001b[0;34m)\u001b[0m\u001b[0;34m\u001b[0m\u001b[0;34m\u001b[0m\u001b[0m\n\u001b[0m",
            "\u001b[0;32m<ipython-input-153-a16d88968239>\u001b[0m in \u001b[0;36mfactorial\u001b[0;34m(numero)\u001b[0m\n\u001b[1;32m      2\u001b[0m \u001b[0;34m\u001b[0m\u001b[0m\n\u001b[1;32m      3\u001b[0m   \u001b[0;32mif\u001b[0m \u001b[0mnumero\u001b[0m \u001b[0;34m<\u001b[0m \u001b[0;36m0\u001b[0m\u001b[0;34m:\u001b[0m\u001b[0;34m\u001b[0m\u001b[0;34m\u001b[0m\u001b[0m\n\u001b[0;32m----> 4\u001b[0;31m     \u001b[0;32mraise\u001b[0m \u001b[0mValueError\u001b[0m\u001b[0;34m(\u001b[0m\u001b[0;34m\"Solo numeros enteros mayores a 0\"\u001b[0m\u001b[0;34m)\u001b[0m\u001b[0;34m\u001b[0m\u001b[0;34m\u001b[0m\u001b[0m\n\u001b[0m\u001b[1;32m      5\u001b[0m \u001b[0;34m\u001b[0m\u001b[0m\n\u001b[1;32m      6\u001b[0m   \u001b[0;32mif\u001b[0m \u001b[0mnumero\u001b[0m \u001b[0;34m==\u001b[0m \u001b[0;36m0\u001b[0m\u001b[0;34m:\u001b[0m\u001b[0;34m\u001b[0m\u001b[0;34m\u001b[0m\u001b[0m\n",
            "\u001b[0;31mValueError\u001b[0m: Solo numeros enteros mayores a 0"
          ]
        }
      ]
    },
    {
      "cell_type": "markdown",
      "source": [
        "Conclusiones!!!!"
      ],
      "metadata": {
        "id": "c_0X-Xu3PxLY"
      }
    }
  ]
}