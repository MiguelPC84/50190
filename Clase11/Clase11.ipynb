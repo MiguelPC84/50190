{
  "nbformat": 4,
  "nbformat_minor": 0,
  "metadata": {
    "colab": {
      "provenance": []
    },
    "kernelspec": {
      "name": "python3",
      "display_name": "Python 3"
    },
    "language_info": {
      "name": "python"
    }
  },
  "cells": [
    {
      "cell_type": "markdown",
      "source": [
        "<font size=\"6\" color=\"rgb(128, 128, 0)\">Excepciones y Errores</font>"
      ],
      "metadata": {
        "id": "WFc1XG_VhPvn"
      }
    },
    {
      "cell_type": "markdown",
      "source": [
        "* Excepciones\n",
        "* Errores\n",
        "\n",
        "![purple-divider](https://user-images.githubusercontent.com/7065401/52071927-c1cd7100-2562-11e9-908a-dde91ba14e59.png)"
      ],
      "metadata": {
        "id": "yHNu1MrUhUeH"
      }
    },
    {
      "cell_type": "markdown",
      "source": [
        "![green-divider](https://user-images.githubusercontent.com/7065401/52071924-c003ad80-2562-11e9-8297-1c6595f8a7ff.png)\n",
        "\n",
        "### Objetivos ✨"
      ],
      "metadata": {
        "id": "87El3pqJhVjJ"
      }
    },
    {
      "cell_type": "markdown",
      "source": [
        "* **Identificar** las diferencias entre errores y excepciones.\n",
        "* **Utilizar** excepciones existentes.\n",
        "* **Crear** excepciones propias."
      ],
      "metadata": {
        "id": "xRWeyTW9hZi_"
      }
    },
    {
      "cell_type": "markdown",
      "source": [
        "![green-divider](https://user-images.githubusercontent.com/7065401/52071924-c003ad80-2562-11e9-8297-1c6595f8a7ff.png)\n",
        "\n",
        "### Introducción"
      ],
      "metadata": {
        "id": "NWEW-mz6j5Se"
      }
    },
    {
      "cell_type": "markdown",
      "source": [
        "__Aprendiendo del error__\n",
        "\n",
        "En la programación, se aprende a base de equivocarse, por lo tanto, debemos tolerar nuestros propios fallos para poder avanzar.\n",
        "Programar no es fácil, podemos equivocarnos desde la concepción de la idea o también al escribir código, para lo primero poco podemos hacer, ya que es algo que mejorará con la práctica.\n"
      ],
      "metadata": {
        "id": "2yW8FxJRj-f6"
      }
    },
    {
      "cell_type": "markdown",
      "source": [
        "<font size=\"4\" color=\"rgb(128, 128, 128)\">A programar se aprende programando y cometer errores es la prueba de que estas avanzando!</font>"
      ],
      "metadata": {
        "id": "H0w8D0Z9kL1O"
      }
    },
    {
      "cell_type": "markdown",
      "source": [
        "Hasta ahora los mensajes de error no habían sido más que mencionados, pero si probaste los ejemplos probablemente hayas visto algunos. Hay (al menos) dos tipos diferentes de errores:\n",
        "\n",
        "* Errores de sintaxis\n",
        "* Excepciones."
      ],
      "metadata": {
        "id": "CXIU6Ab6k4jb"
      }
    },
    {
      "cell_type": "markdown",
      "source": [
        "Cuando el programa falla ocasiona su detención, por lo cual tenemos que ser capaces de detectar por qué y cómo prevenir estas fallas."
      ],
      "metadata": {
        "id": "1bJbRZ0UlVKK"
      }
    },
    {
      "cell_type": "code",
      "source": [
        "# numero = input()\n",
        "\n",
        "numero = \"3\"\n",
        "\n",
        "numero = int(numero)\n"
      ],
      "metadata": {
        "id": "AqAWrqgHlXqf"
      },
      "execution_count": null,
      "outputs": []
    },
    {
      "cell_type": "markdown",
      "source": [
        "* vscode error.py"
      ],
      "metadata": {
        "id": "Bf2aXGO7jn_H"
      }
    },
    {
      "cell_type": "markdown",
      "source": [
        "![green-divider](https://user-images.githubusercontent.com/7065401/52071924-c003ad80-2562-11e9-8297-1c6595f8a7ff.png)\n",
        "\n",
        "### **Errores**"
      ],
      "metadata": {
        "id": "emwL2U8AlbwL"
      }
    },
    {
      "cell_type": "markdown",
      "source": [
        "#### **Errores sintácticos**"
      ],
      "metadata": {
        "id": "8jnB1sZquWN6"
      }
    },
    {
      "cell_type": "markdown",
      "source": [
        "Si algo tienen la mayoría de los lenguajes de programación es que son exigentes con las instrucciones. Cuando en nuestro programa ocurre algún fallo Python nos lanzará un aviso indicando que ocurrió y detendrá la ejecución.\n",
        "\n",
        "Los errores sintácticos están ligados a la sintaxis, que es la escritura de las instrucciones.\n"
      ],
      "metadata": {
        "id": "-sZsIif_qH7S"
      }
    },
    {
      "cell_type": "code",
      "execution_count": null,
      "metadata": {
        "id": "grSs5yq3hEG7"
      },
      "outputs": [],
      "source": [
        "# https://linkode.org/#Uy1dmsqDLJFiCDCV6OhF45"
      ]
    },
    {
      "cell_type": "code",
      "source": [
        "# https://linkode.org/#KnIqMWgI6Bb10mYmPA5as2"
      ],
      "metadata": {
        "id": "pOZUYIJ5sEjS"
      },
      "execution_count": null,
      "outputs": []
    },
    {
      "cell_type": "code",
      "source": [
        "# https://linkode.org/#bui3dxcJVilelC5m6FjmB2"
      ],
      "metadata": {
        "id": "-8Afrik3tgQ8"
      },
      "execution_count": null,
      "outputs": []
    },
    {
      "cell_type": "code",
      "source": [
        "# https://linkode.org/#Yy5pXmSFVWFTmxUafnfrh4"
      ],
      "metadata": {
        "id": "w-W_2Cg9vH44"
      },
      "execution_count": null,
      "outputs": []
    },
    {
      "cell_type": "markdown",
      "source": [
        "La mayoría de errores sintácticos y de nombre los identifican los editores de código antes de la ejecución."
      ],
      "metadata": {
        "id": "RnqXIKyev7vr"
      }
    },
    {
      "cell_type": "markdown",
      "source": [
        "Visual Studio Code trae extensiones (__Pylance__) que alertan de estos errores..."
      ],
      "metadata": {
        "id": "nQjxRKfS2OOk"
      }
    },
    {
      "cell_type": "markdown",
      "source": [
        "Ver ejemplos en vscode....."
      ],
      "metadata": {
        "id": "EZxvx80NRD1j"
      }
    },
    {
      "cell_type": "markdown",
      "source": [
        "**Preguntas**❓"
      ],
      "metadata": {
        "id": "hmTp8cwwTdAj"
      }
    },
    {
      "cell_type": "markdown",
      "source": [
        "#### **Errores semánticos**"
      ],
      "metadata": {
        "id": "p1czYgCJufbG"
      }
    },
    {
      "cell_type": "markdown",
      "source": [
        "Estos errores son muy difíciles de identificar porque van ligados al sentido del funcionamiento y dependen de la situación. Algunas veces pueden ocurrir y otras no."
      ],
      "metadata": {
        "id": "yXeyQUJAuyFn"
      }
    },
    {
      "cell_type": "markdown",
      "source": [
        "**La mejor forma de prevenirlos es programando mucho y aprendiendo de tus propios fallos, la experiencia es la clave. Veamos a continuación algunos ejemplos.**"
      ],
      "metadata": {
        "id": "cmNrTv88x-8p"
      }
    },
    {
      "cell_type": "code",
      "source": [
        "lista = []\n",
        "opcion = \"\"\n",
        "\n",
        "while opcion != \"3\":\n",
        "\n",
        "  print(\"Ingrese una opcion\\\n",
        "      1 - Ingresar\\\n",
        "      2- Sacar\\\n",
        "      3- Salir\")\n",
        "\n",
        "  opcion = input(\"\")\n",
        "\n",
        "  if opcion == \"1\":\n",
        "    lista.append(\"a\")\n",
        "    print(lista)\n",
        "  elif opcion == \"2\":\n",
        "    elemento =lista.pop()\n",
        "    print(elemento)\n"
      ],
      "metadata": {
        "id": "JqrSdMVQwGp-"
      },
      "execution_count": null,
      "outputs": []
    },
    {
      "cell_type": "code",
      "source": [
        "# Hay solucion a este problemas?"
      ],
      "metadata": {
        "id": "OqFgH9OwxSAd"
      },
      "execution_count": null,
      "outputs": []
    },
    {
      "cell_type": "code",
      "source": [
        "numero = input(\"Ingrese un numero: \")\n",
        "\n",
        "numero = numero ** 2"
      ],
      "metadata": {
        "id": "7HTB3x6Tz_7Q"
      },
      "execution_count": null,
      "outputs": []
    },
    {
      "cell_type": "code",
      "source": [
        "# Hay solucion a este problema ?"
      ],
      "metadata": {
        "id": "YiL-9eCBVYez"
      },
      "execution_count": null,
      "outputs": []
    },
    {
      "cell_type": "code",
      "source": [
        "datos = [\"remito.pdf\", \"Contructora DiDi S.R.L\", 30, {\"numero\": 1234, \"Tipo\": \"C\"}]\n",
        "\n",
        "print(datos[3])"
      ],
      "metadata": {
        "id": "xsrSUZbR0ZgR"
      },
      "execution_count": null,
      "outputs": []
    },
    {
      "cell_type": "code",
      "source": [
        "# Hay solucion a este problema ?"
      ],
      "metadata": {
        "id": "87yFmus3iBaj"
      },
      "execution_count": null,
      "outputs": []
    },
    {
      "cell_type": "code",
      "source": [
        "persona = {\n",
        "    \"nombre\": \"Juan\",\n",
        "    \"edad\": 45,\n",
        "    \"altura\": 1.90\n",
        "}\n",
        "\n",
        "\n",
        "altura = persona[\"altura\"]\n"
      ],
      "metadata": {
        "id": "-9F8BWOz03u9"
      },
      "execution_count": null,
      "outputs": []
    },
    {
      "cell_type": "code",
      "source": [
        "# Hay solucion a este problema ?"
      ],
      "metadata": {
        "id": "EnmY-uSliJnu"
      },
      "execution_count": null,
      "outputs": []
    },
    {
      "cell_type": "markdown",
      "source": [
        "**Preguntas**❓"
      ],
      "metadata": {
        "id": "DlhrJChEboa7"
      }
    },
    {
      "cell_type": "markdown",
      "source": [
        "![green-divider](https://user-images.githubusercontent.com/7065401/52071924-c003ad80-2562-11e9-8297-1c6595f8a7ff.png)\n",
        "\n",
        "### **Ejercicio**"
      ],
      "metadata": {
        "id": "DyqWbq3Iylzy"
      }
    },
    {
      "cell_type": "markdown",
      "source": [
        "Desafío de errores\n",
        "\n",
        "1. Descripción de la actividad.\n",
        "\n",
        "En la función de nuestro ejercicio hay un fallo potencial, averigua cuándo sucede y retorna el valor None en ese caso especial, en cualquier otro caso devuelve el resultado normal de la función.\n",
        "\n",
        "```\n",
        ">>> def dividir(a, b):\n",
        "      return a/b\n",
        "```"
      ],
      "metadata": {
        "id": "Hr1XF-mcyj4_"
      }
    },
    {
      "cell_type": "code",
      "source": [
        "# Desafio errores"
      ],
      "metadata": {
        "id": "8mS3UML0kMMu"
      },
      "execution_count": null,
      "outputs": []
    },
    {
      "cell_type": "markdown",
      "source": [
        "2. Conexion a una base de datos"
      ],
      "metadata": {
        "id": "ppKFokT7Wwtu"
      }
    },
    {
      "cell_type": "markdown",
      "source": [
        "3. Request http   \n"
      ],
      "metadata": {
        "id": "5yJ93bPSXEr5"
      }
    },
    {
      "cell_type": "code",
      "source": [
        "# https://www.netveloper.com/api-gratuita-para-pruebas\n",
        "\n",
        "import requests\n",
        "\n",
        "respuesta = requests.get(\"https://jsonplaceholder.typicode.com/users/1\")"
      ],
      "metadata": {
        "id": "27ayHNAB9FtL"
      },
      "execution_count": null,
      "outputs": []
    },
    {
      "cell_type": "code",
      "source": [
        "respuesta.status_code"
      ],
      "metadata": {
        "id": "dPN1nEXJ95L9"
      },
      "execution_count": null,
      "outputs": []
    },
    {
      "cell_type": "code",
      "source": [
        "respuesta.json()"
      ],
      "metadata": {
        "id": "XfMs2rqH974N"
      },
      "execution_count": null,
      "outputs": []
    },
    {
      "cell_type": "markdown",
      "source": [
        "4. Leyendo un archivo"
      ],
      "metadata": {
        "id": "wwJWYa8k8tAS"
      }
    },
    {
      "cell_type": "markdown",
      "source": [
        "### ☕ Break"
      ],
      "metadata": {
        "id": "9sa3-uJezu_V"
      }
    },
    {
      "cell_type": "markdown",
      "source": [
        "10 minutos y volvemos!!!!!"
      ],
      "metadata": {
        "id": "6TiwggZiz-s6"
      }
    },
    {
      "cell_type": "markdown",
      "source": [
        "![green-divider](https://user-images.githubusercontent.com/7065401/52071924-c003ad80-2562-11e9-8297-1c6595f8a7ff.png)\n",
        "\n",
        "### **Excepciones**"
      ],
      "metadata": {
        "id": "dG-PNQ6Pz0KZ"
      }
    },
    {
      "cell_type": "markdown",
      "source": [
        "Incluso si la sentencia o expresión es sintácticamente correcta, puede generar un error cuando se intenta ejecutarla. __Los errores detectados durante la ejecución se llaman excepciones__, y no son incondicionalmente fatales: pronto aprenderás cómo manejarlos en los programas en Python.\n"
      ],
      "metadata": {
        "id": "n8pH3vX2afU-"
      }
    },
    {
      "cell_type": "code",
      "source": [
        "# Ejemplo excepciones\n",
        "\n",
        "10 / 0"
      ],
      "metadata": {
        "id": "dqu3jgWs0frk"
      },
      "execution_count": null,
      "outputs": []
    },
    {
      "cell_type": "code",
      "source": [
        "lista_valores.append()"
      ],
      "metadata": {
        "id": "HLLNHtNZao70"
      },
      "execution_count": null,
      "outputs": []
    },
    {
      "cell_type": "code",
      "source": [
        "float(\"ab\")"
      ],
      "metadata": {
        "id": "JRIHBp90bABW"
      },
      "execution_count": null,
      "outputs": []
    },
    {
      "cell_type": "code",
      "source": [
        "palabra = \"Hola\"\n",
        "\n",
        "palabra[12]"
      ],
      "metadata": {
        "id": "pBpJSGUhbGPk"
      },
      "execution_count": null,
      "outputs": []
    },
    {
      "cell_type": "markdown",
      "source": [
        "Como podemos suponer, es difícil prevenir fallos que ni siquiera nos habíamos planteado que podían existir. Por suerte para esas situaciones existen las excepciones."
      ],
      "metadata": {
        "id": "f28S9L97Z4K7"
      }
    },
    {
      "cell_type": "markdown",
      "source": [
        "Las excepciones son **bloques de código que nos permiten continuar con la ejecución de un programa pese a que ocurra un error**.\n"
      ],
      "metadata": {
        "id": "31vtCd9-0KAm"
      }
    },
    {
      "cell_type": "markdown",
      "source": [
        "#### **try-except**"
      ],
      "metadata": {
        "id": "6-ZdP_muTnuY"
      }
    },
    {
      "cell_type": "markdown",
      "source": [
        "Para prevenir el fallo debemos poner el código propenso a errores en un bloque try y luego encadenar un bloque except para tratar la situación excepcional mostrando que ha ocurrido un fallo:\n",
        "\n",
        "```\n",
        "try:\n",
        "  Bloque de codigo\n",
        "except:\n",
        "  Bloque de codigo\n",
        "```"
      ],
      "metadata": {
        "id": "T96rBVlrUCyI"
      }
    },
    {
      "cell_type": "markdown",
      "source": [
        "Funcionamiento:\n",
        "\n",
        "* Se ejecuta el bloque try (el código entre las sentencias try y except).\n",
        "* Si no ocurre ninguna excepción, el bloque except se saltea y termina la ejecución de la sentencia try.\n",
        "* Si ocurre una excepción durante la ejecución del bloque try, el resto del bloque se saltea. Luego, si su tipo coincide con la excepción nombrada luego de la palabra reservada except, se ejecuta el bloque except, y la ejecución continúa luego de la sentencia try.\n"
      ],
      "metadata": {
        "id": "_pvI4AbZUMHM"
      }
    },
    {
      "cell_type": "code",
      "source": [
        "# Sin manejo de Excepciones\n",
        "\n",
        "numero1 = 10\n",
        "numero2 = 0\n",
        "\n",
        "print(f\"Vamos a dividir {numero1} por {numero2}\")\n",
        "\n",
        "resultado = numero1 / numero2\n",
        "print(f\"resultado : {resultado}\")\n",
        "\n",
        "print(\"Continua el programa....\")"
      ],
      "metadata": {
        "id": "vrL4Pb3teI7a"
      },
      "execution_count": null,
      "outputs": []
    },
    {
      "cell_type": "code",
      "source": [
        "numero1 = 10\n",
        "numero2 = 0\n",
        "print(f\"Vamos a dividir {numero1} por {numero2}\")\n",
        "\n",
        "try:\n",
        "  print(\"Dentro del try\")\n",
        "  resultado = numero1 / numero2\n",
        "  print(f\"resultado : {resultado}\")\n",
        "except:\n",
        "  print(\"No es posible dividir por 0\")\n",
        "\n",
        "print(\"Continua el programa....\")"
      ],
      "metadata": {
        "id": "rnI44peIcIjI"
      },
      "execution_count": null,
      "outputs": []
    },
    {
      "cell_type": "code",
      "source": [
        "# Capturando una excepcion especifica\n",
        "\n",
        "numero1 = 10\n",
        "numero2 = 0\n",
        "print(f\"Vamos a dividir {numero1} por {numero2}\")\n",
        "\n",
        "try:\n",
        "  print(\"Dentro del try\")\n",
        "  resultado = numero1 / numero2\n",
        "  print(f\"resultado : {resultado}\")\n",
        "except ZeroDivisionError:\n",
        "  print(\"No es posible dividir por 0\")\n",
        "\n",
        "print(\"Continua el programa....\")\n"
      ],
      "metadata": {
        "id": "39ZW0UoMdbWX"
      },
      "execution_count": null,
      "outputs": []
    },
    {
      "cell_type": "code",
      "source": [
        "# Que pasa si ocurre otra Excepcion distinta a ZeroDivisionError?"
      ],
      "metadata": {
        "id": "Hahm2ipYd2wS"
      },
      "execution_count": null,
      "outputs": []
    },
    {
      "cell_type": "code",
      "source": [
        "# ValueError\n",
        "\n",
        "try:\n",
        "  numero = int(\"A\")\n",
        "except ValueError:\n",
        "  print(\"Error al convertir en entero!\")"
      ],
      "metadata": {
        "id": "Mds11HDReh9P"
      },
      "execution_count": null,
      "outputs": []
    },
    {
      "cell_type": "code",
      "source": [
        "# IndexError\n",
        "\n",
        "lista = [1, 2, 3, 4, 5]\n",
        "\n",
        "try:\n",
        "  foo = lista[23]\n",
        "except IndexError:\n",
        "  print(\"No es posible acceder a ese indice\")"
      ],
      "metadata": {
        "id": "25Kq9KA72iwR"
      },
      "execution_count": null,
      "outputs": []
    },
    {
      "cell_type": "code",
      "source": [
        "# TypeError\n",
        "\n",
        "lista = [1, 2, 3, 4, 5]\n",
        "\n",
        "try:\n",
        "  foo = lista[[0,1]]\n",
        "except TypeError:\n",
        "  print(\"No es posible acceder a ese indice\")"
      ],
      "metadata": {
        "id": "b1mhfaoc26A0"
      },
      "execution_count": null,
      "outputs": []
    },
    {
      "cell_type": "markdown",
      "source": [
        "Preguntas❓"
      ],
      "metadata": {
        "id": "4_W2rVPzfGsq"
      }
    },
    {
      "cell_type": "markdown",
      "source": [
        "#### **try-except-else**"
      ],
      "metadata": {
        "id": "Y2FxkjkscluO"
      }
    },
    {
      "cell_type": "markdown",
      "source": [
        "Las declaraciones **try - except** tienen un bloque **else opcional**, el cual, cuando está presente, debe seguir a los except. El bloque else es un buen momento para romper la iteración con break si todo funciona correctamente.\n",
        "\n",
        "**El uso de else es mejor que agregar código adicional en el try** porque evita capturar accidentalmente una excepción que no fue generada por el código que está protegido por la sentencia try - except."
      ],
      "metadata": {
        "id": "35T9u6aDcqB5"
      }
    },
    {
      "cell_type": "code",
      "source": [
        "#Ejemplo try - except - else\n",
        "\n",
        "numero1 = 10\n",
        "numero2 = 2\n",
        "\n",
        "try:\n",
        "    resultado = numero1 / numero2\n",
        "except ZeroDivisionError:\n",
        "    print(\"No se puede dividir por 0!\")\n",
        "else:\n",
        "    print(f\"resultado : {resultado}\")\n",
        "\n",
        "print(\"Continua el programa ...\")"
      ],
      "metadata": {
        "id": "ntFSBF5dc-SE"
      },
      "execution_count": null,
      "outputs": []
    },
    {
      "cell_type": "markdown",
      "source": [
        "#### **finaly**"
      ],
      "metadata": {
        "id": "azFuQBJNm9BM"
      }
    },
    {
      "cell_type": "markdown",
      "source": [
        "La sentencia try tiene otra sentencia **opcional** que intenta definir acciones de limpieza que deben ser ejecutadas bajo ciertas circunstancias. Una sentencia finaly **siempre es ejecutada antes de salir de la sentencia try, ya sea que una excepción haya ocurrido o no**."
      ],
      "metadata": {
        "id": "wKZeL4xAnvgb"
      }
    },
    {
      "cell_type": "markdown",
      "source": [
        "Cuando ocurre una excepción en la sentencia try y no fue manejada por una sentencia except (u ocurrió en una sentencia except o else), es relanzada luego de que se ejecuta la sentencia finally."
      ],
      "metadata": {
        "id": "3xjYrdE7n3xM"
      }
    },
    {
      "cell_type": "code",
      "source": [
        "# Ejemplo finaly\n",
        "\n",
        "try:\n",
        "  a = float(input(\"Introduce un número: \"))\n",
        "  b = float(input(\"Introduce otro número: \"))\n",
        "  print(a + b)\n",
        "except:\n",
        "    print(\"Ha ocurrido un error. Tienes que introducir 2 números.\")\n",
        "else:\n",
        "    print(\"La suma se ha realizado correctamente.\")\n",
        "finally:\n",
        "  # Esto se ejecuta siempre.\n",
        "  print(\"Fin del bucle\")\n"
      ],
      "metadata": {
        "id": "bPdeG453oBJ7"
      },
      "execution_count": null,
      "outputs": []
    },
    {
      "cell_type": "markdown",
      "source": [
        "Preguntas❓"
      ],
      "metadata": {
        "id": "725Liyekw449"
      }
    },
    {
      "cell_type": "markdown",
      "source": [
        "![green-divider](https://user-images.githubusercontent.com/7065401/52071924-c003ad80-2562-11e9-8297-1c6595f8a7ff.png)\n",
        "\n",
        "### **Excepciones múltiples**"
      ],
      "metadata": {
        "id": "FvKphexdn9Xh"
      }
    },
    {
      "cell_type": "markdown",
      "source": [
        "En una misma pieza de código pueden ocurrir muchos errores distintos y quizá nos interese actuar de forma diferente en cada caso.\n",
        "\n",
        "**Para esas situaciones algo que podemos hacer es asignar una excepción a una variable**.\n"
      ],
      "metadata": {
        "id": "H9BRrS3xoNkr"
      }
    },
    {
      "cell_type": "code",
      "source": [
        "try:\n",
        "  numero1 = int(input(\"Introduce un número: \"))\n",
        "  numero2 = int(input(\"Introduce un número: \"))\n",
        "  resultado = numero1 ** 2\n",
        "  resultado /= numero2\n",
        "except Exception as e:\n",
        "  print(\"Ha ocurrido un error =>\", type(e).__name__)"
      ],
      "metadata": {
        "id": "PL6JMBblogIw"
      },
      "execution_count": null,
      "outputs": []
    },
    {
      "cell_type": "markdown",
      "source": [
        "Cada error tiene un identificador único que curiosamente se corresponde con su tipo de dato. Aprovechando eso podemos mostrar la clase del error utilizando la sintaxis:  \n",
        "\n",
        "```\n",
        "print(type(e)\n",
        "```"
      ],
      "metadata": {
        "id": "XbfPI1G6yjp5"
      }
    },
    {
      "cell_type": "code",
      "source": [
        "try:\n",
        "  \"Hola\"[23]\n",
        "except Exception as e:\n",
        "  print(type(e))"
      ],
      "metadata": {
        "id": "Sz1-H22LywQA"
      },
      "execution_count": null,
      "outputs": []
    },
    {
      "cell_type": "markdown",
      "source": [
        "Gracias a los identificadores de errores podemos crear múltiples comprobaciones, siempre que dejemos en último lugar la excepción por defecto. Excepción que engloba cualquier tipo de error."
      ],
      "metadata": {
        "id": "FM29eQxa0Xbp"
      }
    },
    {
      "cell_type": "code",
      "source": [
        "try:\n",
        "  numero = float(input(\"Introduce un número divisor: \"))\n",
        "  resultado = 5/numero\n",
        "except TypeError:\n",
        "  print(\"No se puede dividir el número entre una cadena\")\n",
        "\n",
        "except ValueError:\n",
        "  print(\"Debes introducir una cadena que sea un número\")\n",
        "\n",
        "except ZeroDivisionError:\n",
        "  print(\"No se puede dividir por cero, prueba otro número\")\n",
        "\n",
        "except Exception as e:\n",
        "  print(\"Ha ocurrido un error no previsto\", type(e).__name__ )"
      ],
      "metadata": {
        "id": "w7oyBseY0hCK"
      },
      "execution_count": null,
      "outputs": []
    },
    {
      "cell_type": "markdown",
      "source": [
        "![green-divider](https://user-images.githubusercontent.com/7065401/52071924-c003ad80-2562-11e9-8297-1c6595f8a7ff.png)\n",
        "\n",
        "### **Ejercicio**"
      ],
      "metadata": {
        "id": "j4pFtIacq2ug"
      }
    },
    {
      "cell_type": "markdown",
      "source": [
        "**Desafío de excepciones**\n",
        "\n",
        "Descripción de la actividad.\n",
        "\n",
        "Tomando la solución del ejercicio anterior, en lugar de devolver None al dividir entre cero, tienes que capturar una excepción que muestre por pantalla EXACTAMENTE el mensaje: “No se puede dividir entre cero”; si falla el código\n",
        "\n",
        "```\n",
        ">>> def dividir(a, b):\n",
        "if b == 0:\n",
        "\treturn None\n",
        "return a/b\n",
        "```"
      ],
      "metadata": {
        "id": "j_0sVNuAq4ih"
      }
    },
    {
      "cell_type": "markdown",
      "source": [
        "![green-divider](https://user-images.githubusercontent.com/7065401/52071924-c003ad80-2562-11e9-8297-1c6595f8a7ff.png)\n",
        "\n",
        "### **Lanzando excepciones**"
      ],
      "metadata": {
        "id": "YLLcTp62o6e7"
      }
    },
    {
      "cell_type": "markdown",
      "source": [
        "En Python, la palabra clave **raise** se utiliza para generar (lanzar) una excepción de manera explícita. Puedes utilizar raise para indicar que ha ocurrido un error o una condición excepcional en tu código."
      ],
      "metadata": {
        "id": "ZoAZxGl96hu9"
      }
    },
    {
      "cell_type": "code",
      "source": [
        "raise Exception(\"Ocurrio un error\")"
      ],
      "metadata": {
        "id": "JUnnqIlDpt1y"
      },
      "execution_count": null,
      "outputs": []
    },
    {
      "cell_type": "code",
      "source": [
        "def factorial(numero):\n",
        "\n",
        "  if numero < 0:\n",
        "    raise ValueError(\"Solo numeros enteros mayores a 0\")\n",
        "\n",
        "  if numero == 0:\n",
        "    return 1\n",
        "\n",
        "  if numero == 1:\n",
        "    return numero\n",
        "\n",
        "  numero = numero * factorial(numero - 1)\n",
        "\n",
        "  return numero"
      ],
      "metadata": {
        "id": "EC0QKq8_5iOq"
      },
      "execution_count": null,
      "outputs": []
    },
    {
      "cell_type": "code",
      "source": [
        "factorial(-1)"
      ],
      "metadata": {
        "id": "Ml59ne896IwX"
      },
      "execution_count": null,
      "outputs": []
    }
  ]
}