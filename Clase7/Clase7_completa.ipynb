{
  "nbformat": 4,
  "nbformat_minor": 0,
  "metadata": {
    "colab": {
      "provenance": []
    },
    "kernelspec": {
      "name": "python3",
      "display_name": "Python 3"
    },
    "language_info": {
      "name": "python"
    }
  },
  "cells": [
    {
      "cell_type": "markdown",
      "source": [
        "<font size=\"6\" color=\"rgb(128, 128, 0)\">Métodos de Colecciones</font>"
      ],
      "metadata": {
        "id": "7ZjuMppgHat0"
      }
    },
    {
      "cell_type": "markdown",
      "source": [
        "* Cadenas\n",
        "* Listas\n",
        "* Conjuntos\n",
        "* Diccionarios\n",
        "\n",
        "![purple-divider](https://user-images.githubusercontent.com/7065401/52071927-c1cd7100-2562-11e9-908a-dde91ba14e59.png)"
      ],
      "metadata": {
        "id": "soHTgkD0LXRk"
      }
    },
    {
      "cell_type": "markdown",
      "source": [
        "Objetivos\n",
        "\n",
        "* __Utilizar__ funciones avanzadas de cadenas, listas, conjuntos y diccionarios"
      ],
      "metadata": {
        "id": "Vuhn4waYahcE"
      }
    },
    {
      "cell_type": "markdown",
      "source": [
        "![green-divider](https://user-images.githubusercontent.com/7065401/52071924-c003ad80-2562-11e9-8297-1c6595f8a7ff.png)\n",
        "\n",
        "#### Cadenas"
      ],
      "metadata": {
        "id": "SZ8FPyiZVvBw"
      }
    },
    {
      "cell_type": "code",
      "source": [
        "cadena_prueba = \"eSta ES una cadena DE pRUEba, repito, una cadeNA DE PrueBA\""
      ],
      "metadata": {
        "id": "_1_Oe37c0CZZ"
      },
      "execution_count": 58,
      "outputs": []
    },
    {
      "cell_type": "markdown",
      "source": [
        "*__upper__*\n",
        "\n",
        "Retorna una copia del string en mayusculas.\n",
        "\n"
      ],
      "metadata": {
        "id": "0rzr69nDlwz6"
      }
    },
    {
      "cell_type": "code",
      "execution_count": 59,
      "metadata": {
        "id": "Slv7Di0mG1d1",
        "colab": {
          "base_uri": "https://localhost:8080/",
          "height": 35
        },
        "outputId": "d700d3b5-5b41-4f5a-80c9-2e894a0df42a"
      },
      "outputs": [
        {
          "output_type": "execute_result",
          "data": {
            "text/plain": [
              "'ESTA ES UNA CADENA DE PRUEBA, REPITO, UNA CADENA DE PRUEBA'"
            ],
            "application/vnd.google.colaboratory.intrinsic+json": {
              "type": "string"
            }
          },
          "metadata": {},
          "execution_count": 59
        }
      ],
      "source": [
        "# upper(None)-> str\n",
        "cadena_prueba.upper()"
      ]
    },
    {
      "cell_type": "code",
      "source": [
        "# Retorna!!!: guardar el resultado en una variable\n",
        "var = cadena_prueba.upper()\n",
        "print(var)"
      ],
      "metadata": {
        "id": "WoXDdCfgBQt7",
        "colab": {
          "base_uri": "https://localhost:8080/"
        },
        "outputId": "501473bd-88cf-4f0f-8603-8b3c48e6c8ec"
      },
      "execution_count": 61,
      "outputs": [
        {
          "output_type": "stream",
          "name": "stdout",
          "text": [
            "ESTA ES UNA CADENA DE PRUEBA, REPITO, UNA CADENA DE PRUEBA\n"
          ]
        }
      ]
    },
    {
      "cell_type": "markdown",
      "source": [
        "*__lower__*\n",
        "\n",
        "Retorna una copia del string en minusculas.\n"
      ],
      "metadata": {
        "id": "C96bhpnul-Er"
      }
    },
    {
      "cell_type": "code",
      "source": [
        "# lower(None)-> str\n",
        "var = cadena_prueba.lower()"
      ],
      "metadata": {
        "id": "OzPMOxr0divM"
      },
      "execution_count": 62,
      "outputs": []
    },
    {
      "cell_type": "code",
      "source": [
        "var"
      ],
      "metadata": {
        "colab": {
          "base_uri": "https://localhost:8080/",
          "height": 35
        },
        "id": "V5VU204G8-gA",
        "outputId": "8a871c6b-76c6-4ad1-d2b8-561f49afd911"
      },
      "execution_count": 68,
      "outputs": [
        {
          "output_type": "execute_result",
          "data": {
            "text/plain": [
              "'esta es una cadena de prueba, repito, una cadena de prueba'"
            ],
            "application/vnd.google.colaboratory.intrinsic+json": {
              "type": "string"
            }
          },
          "metadata": {},
          "execution_count": 68
        }
      ]
    },
    {
      "cell_type": "markdown",
      "source": [
        "*__capitalize__*\n",
        "\n",
        "Retorna una copia del string, convirtiendo el primer caracter del string en mayuscula y el resto en minusculas.\n",
        "\n"
      ],
      "metadata": {
        "id": "oRhuPQWwmKdR"
      }
    },
    {
      "cell_type": "code",
      "source": [
        "cadena_prueba"
      ],
      "metadata": {
        "colab": {
          "base_uri": "https://localhost:8080/",
          "height": 35
        },
        "id": "yD7Pt_e19JMD",
        "outputId": "bdc4d073-b40f-4b2b-f93d-c07b6852ac95"
      },
      "execution_count": 64,
      "outputs": [
        {
          "output_type": "execute_result",
          "data": {
            "text/plain": [
              "'eSta ES una cadena DE pRUEba, repito, una cadeNA DE PrueBA'"
            ],
            "application/vnd.google.colaboratory.intrinsic+json": {
              "type": "string"
            }
          },
          "metadata": {},
          "execution_count": 64
        }
      ]
    },
    {
      "cell_type": "code",
      "source": [
        "# capitalize(None)-> str\n",
        "var = cadena_prueba.capitalize()"
      ],
      "metadata": {
        "id": "SLc5hZ0Odqyx"
      },
      "execution_count": 69,
      "outputs": []
    },
    {
      "cell_type": "code",
      "source": [
        "var"
      ],
      "metadata": {
        "colab": {
          "base_uri": "https://localhost:8080/",
          "height": 35
        },
        "id": "rR2ZKxpK97np",
        "outputId": "a7103c2e-107c-4134-c3a2-eb3ff94406e0"
      },
      "execution_count": 70,
      "outputs": [
        {
          "output_type": "execute_result",
          "data": {
            "text/plain": [
              "'Esta es una cadena de prueba, repito, una cadena de prueba'"
            ],
            "application/vnd.google.colaboratory.intrinsic+json": {
              "type": "string"
            }
          },
          "metadata": {},
          "execution_count": 70
        }
      ]
    },
    {
      "cell_type": "code",
      "source": [
        "cadena_prueba"
      ],
      "metadata": {
        "colab": {
          "base_uri": "https://localhost:8080/",
          "height": 35
        },
        "id": "gJW0m04v9_Cf",
        "outputId": "b306ab34-082a-4438-fbca-ac833788b35b"
      },
      "execution_count": 71,
      "outputs": [
        {
          "output_type": "execute_result",
          "data": {
            "text/plain": [
              "'eSta ES una cadena DE pRUEba, repito, una cadeNA DE PrueBA'"
            ],
            "application/vnd.google.colaboratory.intrinsic+json": {
              "type": "string"
            }
          },
          "metadata": {},
          "execution_count": 71
        }
      ]
    },
    {
      "cell_type": "code",
      "source": [
        "\"HOLA\".capitalize()"
      ],
      "metadata": {
        "colab": {
          "base_uri": "https://localhost:8080/",
          "height": 35
        },
        "id": "95d7mRkD9Vpw",
        "outputId": "9d46ac01-2f5b-4cf3-84fb-783c394fd632"
      },
      "execution_count": 67,
      "outputs": [
        {
          "output_type": "execute_result",
          "data": {
            "text/plain": [
              "'Hola'"
            ],
            "application/vnd.google.colaboratory.intrinsic+json": {
              "type": "string"
            }
          },
          "metadata": {},
          "execution_count": 67
        }
      ]
    },
    {
      "cell_type": "markdown",
      "source": [
        "*__title__*\n",
        "\n",
        "Retorna una copia del string, con la primera letra de cada palabra en mayuscula.\n"
      ],
      "metadata": {
        "id": "3eQ55NT2oth0"
      }
    },
    {
      "cell_type": "code",
      "source": [
        "cadena_prueba"
      ],
      "metadata": {
        "colab": {
          "base_uri": "https://localhost:8080/",
          "height": 35
        },
        "id": "UWw6NgtW-Ona",
        "outputId": "462486ea-a2eb-4e35-bbcf-6d7cfd916a79"
      },
      "execution_count": 72,
      "outputs": [
        {
          "output_type": "execute_result",
          "data": {
            "text/plain": [
              "'eSta ES una cadena DE pRUEba, repito, una cadeNA DE PrueBA'"
            ],
            "application/vnd.google.colaboratory.intrinsic+json": {
              "type": "string"
            }
          },
          "metadata": {},
          "execution_count": 72
        }
      ]
    },
    {
      "cell_type": "code",
      "source": [
        "# title(None)-> str\n",
        "var = cadena_prueba.title()\n",
        "print(var)"
      ],
      "metadata": {
        "id": "hWnO9c4aer3B",
        "colab": {
          "base_uri": "https://localhost:8080/"
        },
        "outputId": "220d4adc-9cdc-4637-f5e5-344eb9ea8dc1"
      },
      "execution_count": 73,
      "outputs": [
        {
          "output_type": "stream",
          "name": "stdout",
          "text": [
            "Esta Es Una Cadena De Prueba, Repito, Una Cadena De Prueba\n"
          ]
        }
      ]
    },
    {
      "cell_type": "markdown",
      "source": [
        "*__count__*\n",
        "\n",
        "Retorna cuantas veces aparece una **subcadena** dentro de la misma cadena.\n"
      ],
      "metadata": {
        "id": "oBXfI93moqOF"
      }
    },
    {
      "cell_type": "code",
      "source": [
        "cadena_prueba"
      ],
      "metadata": {
        "colab": {
          "base_uri": "https://localhost:8080/",
          "height": 35
        },
        "id": "eq7CRtIMp_RG",
        "outputId": "611630cc-6cdb-445e-a325-5f1719cd9fe4"
      },
      "execution_count": 74,
      "outputs": [
        {
          "output_type": "execute_result",
          "data": {
            "text/plain": [
              "'eSta ES una cadena DE pRUEba, repito, una cadeNA DE PrueBA'"
            ],
            "application/vnd.google.colaboratory.intrinsic+json": {
              "type": "string"
            }
          },
          "metadata": {},
          "execution_count": 74
        }
      ]
    },
    {
      "cell_type": "code",
      "source": [
        "# count(str)-> int\n",
        "# Un caracter\n",
        "letra_a = cadena_prueba.count(\"a\")"
      ],
      "metadata": {
        "id": "cibp6oe9h7VH"
      },
      "execution_count": 76,
      "outputs": []
    },
    {
      "cell_type": "code",
      "source": [
        "print(letra_a)"
      ],
      "metadata": {
        "colab": {
          "base_uri": "https://localhost:8080/"
        },
        "id": "2f58b1Gz-t4w",
        "outputId": "bbbd2b10-5239-4bed-e38e-3d1bdda34bcb"
      },
      "execution_count": 77,
      "outputs": [
        {
          "output_type": "stream",
          "name": "stdout",
          "text": [
            "7\n"
          ]
        }
      ]
    },
    {
      "cell_type": "code",
      "source": [
        "# una sub-cadena\n",
        "cadena_prueba.count(\"una\")"
      ],
      "metadata": {
        "id": "kkKpW3fS027x",
        "colab": {
          "base_uri": "https://localhost:8080/"
        },
        "outputId": "65bdef52-4701-4aa4-c2d5-d9dbc8461a08"
      },
      "execution_count": 81,
      "outputs": [
        {
          "output_type": "execute_result",
          "data": {
            "text/plain": [
              "2"
            ]
          },
          "metadata": {},
          "execution_count": 81
        }
      ]
    },
    {
      "cell_type": "code",
      "source": [
        "# si no esta\n",
        "cadena_prueba.count(\"Z\")"
      ],
      "metadata": {
        "id": "gwYnDnS4G7Yf",
        "colab": {
          "base_uri": "https://localhost:8080/"
        },
        "outputId": "7903e053-329a-46aa-9ba2-91e0cf23afde"
      },
      "execution_count": 79,
      "outputs": [
        {
          "output_type": "execute_result",
          "data": {
            "text/plain": [
              "0"
            ]
          },
          "metadata": {},
          "execution_count": 79
        }
      ]
    },
    {
      "cell_type": "markdown",
      "source": [
        "*__find__*\n",
        "\n",
        "Retorna el índice en el que aparece una subcadena dentro de la misma cadena.\n",
        "\n",
        "Si no encuentra la cadena devuelve un -1.\n"
      ],
      "metadata": {
        "id": "58bmIO9PwfiS"
      }
    },
    {
      "cell_type": "code",
      "source": [
        "cadena_prueba"
      ],
      "metadata": {
        "colab": {
          "base_uri": "https://localhost:8080/",
          "height": 35
        },
        "id": "c0QuYFI7qHat",
        "outputId": "b6cd2656-40c3-4ffd-b96b-8118c8402d96"
      },
      "execution_count": 82,
      "outputs": [
        {
          "output_type": "execute_result",
          "data": {
            "text/plain": [
              "'eSta ES una cadena DE pRUEba, repito, una cadeNA DE PrueBA'"
            ],
            "application/vnd.google.colaboratory.intrinsic+json": {
              "type": "string"
            }
          },
          "metadata": {},
          "execution_count": 82
        }
      ]
    },
    {
      "cell_type": "code",
      "source": [
        "# find(str)-> int\n",
        "# un caracter\n",
        "cadena_prueba.find(\"e\")"
      ],
      "metadata": {
        "id": "5tgx-9xUiEE8",
        "colab": {
          "base_uri": "https://localhost:8080/"
        },
        "outputId": "5fd18268-866a-4dc1-dc93-a3d7731d2c1b"
      },
      "execution_count": 83,
      "outputs": [
        {
          "output_type": "execute_result",
          "data": {
            "text/plain": [
              "0"
            ]
          },
          "metadata": {},
          "execution_count": 83
        }
      ]
    },
    {
      "cell_type": "code",
      "source": [
        "# una subcadena\n",
        "cadena_prueba.find(\"una\")"
      ],
      "metadata": {
        "id": "ugHUfhkn3ICx",
        "colab": {
          "base_uri": "https://localhost:8080/"
        },
        "outputId": "b4995ff9-01b8-4c42-b85a-5c31d6c57637"
      },
      "execution_count": 88,
      "outputs": [
        {
          "output_type": "execute_result",
          "data": {
            "text/plain": [
              "8"
            ]
          },
          "metadata": {},
          "execution_count": 88
        }
      ]
    },
    {
      "cell_type": "code",
      "source": [
        "# verificacion -- print\n",
        "print(f\"{cadena_prueba[8]} {cadena_prueba[9]} {cadena_prueba[10]}\")"
      ],
      "metadata": {
        "id": "IUv-juBd3Py0",
        "colab": {
          "base_uri": "https://localhost:8080/"
        },
        "outputId": "3515b9f4-58ed-4ad3-b063-ecba5425625a"
      },
      "execution_count": 85,
      "outputs": [
        {
          "output_type": "stream",
          "name": "stdout",
          "text": [
            "u n a\n"
          ]
        }
      ]
    },
    {
      "cell_type": "code",
      "source": [
        "# si no esta\n",
        "cadena_prueba.find(\"ESSSS\")"
      ],
      "metadata": {
        "id": "-Y72TePG3cmF",
        "colab": {
          "base_uri": "https://localhost:8080/"
        },
        "outputId": "4aed17ec-3d71-487f-e929-9dcaeef3ba22"
      },
      "execution_count": 89,
      "outputs": [
        {
          "output_type": "execute_result",
          "data": {
            "text/plain": [
              "-1"
            ]
          },
          "metadata": {},
          "execution_count": 89
        }
      ]
    },
    {
      "cell_type": "markdown",
      "source": [
        "*__rfind__*\n",
        "\n",
        "Es exactamente igual al método find, los diferencia en que rfind devuelve el índice, pero de la última ocurrencia de la subcadena, es decir, la última vez que aparece en la cadena.\n",
        "\n",
        "Si no encuentra la cadena devuelve un -1.\n"
      ],
      "metadata": {
        "id": "wqffATr_z7ir"
      }
    },
    {
      "cell_type": "code",
      "source": [
        "cadena_prueba"
      ],
      "metadata": {
        "colab": {
          "base_uri": "https://localhost:8080/",
          "height": 35
        },
        "id": "v4GZgUuhqVuO",
        "outputId": "15161bbb-f72f-49cd-bb22-d5139fbfba6f"
      },
      "execution_count": 92,
      "outputs": [
        {
          "output_type": "execute_result",
          "data": {
            "text/plain": [
              "'eSta ES una cadena DE pRUEba, repito, una cadeNA DE PrueBA'"
            ],
            "application/vnd.google.colaboratory.intrinsic+json": {
              "type": "string"
            }
          },
          "metadata": {},
          "execution_count": 92
        }
      ]
    },
    {
      "cell_type": "code",
      "source": [
        "# rfind(str)-> int  -- \"una\"\n",
        "cadena_prueba.rfind(\"una\")"
      ],
      "metadata": {
        "id": "1YsCZXiTiX_Z",
        "colab": {
          "base_uri": "https://localhost:8080/"
        },
        "outputId": "8d01973a-63f4-4090-ba69-42ab7acd5008"
      },
      "execution_count": 93,
      "outputs": [
        {
          "output_type": "execute_result",
          "data": {
            "text/plain": [
              "38"
            ]
          },
          "metadata": {},
          "execution_count": 93
        }
      ]
    },
    {
      "cell_type": "code",
      "source": [
        "# verificacion -- print\n",
        "print(f\"{cadena_prueba[38]} {cadena_prueba[39]} {cadena_prueba[40]}\")"
      ],
      "metadata": {
        "id": "LOM7lYaD4p2R",
        "colab": {
          "base_uri": "https://localhost:8080/"
        },
        "outputId": "29d1cb0c-257e-4ad3-b548-9d3afeac9846"
      },
      "execution_count": 94,
      "outputs": [
        {
          "output_type": "stream",
          "name": "stdout",
          "text": [
            "u n a\n"
          ]
        }
      ]
    },
    {
      "cell_type": "code",
      "source": [
        "# si no esta\n",
        "cadena_prueba.rfind(\"ZZZ\")"
      ],
      "metadata": {
        "id": "mR6UOZ1P4lBh",
        "colab": {
          "base_uri": "https://localhost:8080/"
        },
        "outputId": "582141da-8cda-42ed-a1d2-b1fbbad13b6f"
      },
      "execution_count": 95,
      "outputs": [
        {
          "output_type": "execute_result",
          "data": {
            "text/plain": [
              "-1"
            ]
          },
          "metadata": {},
          "execution_count": 95
        }
      ]
    },
    {
      "cell_type": "code",
      "source": [
        "# find igual a rfind\n",
        "cadena_prueba.find(\"ES\")"
      ],
      "metadata": {
        "id": "0_SjiG6Z440x",
        "colab": {
          "base_uri": "https://localhost:8080/"
        },
        "outputId": "30a8ee85-75db-4c89-c388-601ade1f788b"
      },
      "execution_count": 96,
      "outputs": [
        {
          "output_type": "execute_result",
          "data": {
            "text/plain": [
              "5"
            ]
          },
          "metadata": {},
          "execution_count": 96
        }
      ]
    },
    {
      "cell_type": "code",
      "source": [
        "cadena_prueba.rfind(\"ES\")"
      ],
      "metadata": {
        "colab": {
          "base_uri": "https://localhost:8080/"
        },
        "id": "H_yO98KuAbF_",
        "outputId": "9c843c4e-84a8-48db-d081-9810f7f992ea"
      },
      "execution_count": 97,
      "outputs": [
        {
          "output_type": "execute_result",
          "data": {
            "text/plain": [
              "5"
            ]
          },
          "metadata": {},
          "execution_count": 97
        }
      ]
    },
    {
      "cell_type": "markdown",
      "source": [
        "*__split__*\n",
        "\n",
        "Retorna una **lista** con la cadena de caracteres separada segun un prefijo.\n",
        "\n",
        "Si no se indica alguna cadena para separar separa por “espacios”."
      ],
      "metadata": {
        "id": "2Nc2sJTf1e3Z"
      }
    },
    {
      "cell_type": "code",
      "source": [
        "# split(str)-> list\n",
        "# espacios\n",
        "\"Hoy es lunes y estamos en el curso\".split()"
      ],
      "metadata": {
        "id": "rF8k01SR3rcQ",
        "colab": {
          "base_uri": "https://localhost:8080/"
        },
        "outputId": "4f432fa0-bef1-41e0-bf61-4ce2f4759770"
      },
      "execution_count": 98,
      "outputs": [
        {
          "output_type": "execute_result",
          "data": {
            "text/plain": [
              "['Hoy', 'es', 'lunes', 'y', 'estamos', 'en', 'el', 'curso']"
            ]
          },
          "metadata": {},
          "execution_count": 98
        }
      ]
    },
    {
      "cell_type": "code",
      "source": [
        "cadena_prueba"
      ],
      "metadata": {
        "colab": {
          "base_uri": "https://localhost:8080/",
          "height": 35
        },
        "id": "j25YASyiBkbA",
        "outputId": "445e08cf-3c40-48bf-a302-0a758b75a7a2"
      },
      "execution_count": 99,
      "outputs": [
        {
          "output_type": "execute_result",
          "data": {
            "text/plain": [
              "'eSta ES una cadena DE pRUEba, repito, una cadeNA DE PrueBA'"
            ],
            "application/vnd.google.colaboratory.intrinsic+json": {
              "type": "string"
            }
          },
          "metadata": {},
          "execution_count": 99
        }
      ]
    },
    {
      "cell_type": "code",
      "source": [
        "cadena_prueba.split(\" \")"
      ],
      "metadata": {
        "colab": {
          "base_uri": "https://localhost:8080/"
        },
        "id": "nmcovK-2B3uY",
        "outputId": "46ac8dc8-7ad2-4da1-ab58-6b228a2064f2"
      },
      "execution_count": 101,
      "outputs": [
        {
          "output_type": "execute_result",
          "data": {
            "text/plain": [
              "['eSta',\n",
              " 'ES',\n",
              " 'una',\n",
              " 'cadena',\n",
              " 'DE',\n",
              " 'pRUEba,',\n",
              " 'repito,',\n",
              " 'una',\n",
              " 'cadeNA',\n",
              " 'DE',\n",
              " 'PrueBA']"
            ]
          },
          "metadata": {},
          "execution_count": 101
        }
      ]
    },
    {
      "cell_type": "code",
      "source": [
        "# subcadena - \"una\"\n",
        "cadena_prueba.lower().split(\"una\")"
      ],
      "metadata": {
        "id": "wTAeRMv23wkV",
        "colab": {
          "base_uri": "https://localhost:8080/"
        },
        "outputId": "aeff328a-a0fc-4f0c-916a-658329114d15"
      },
      "execution_count": 102,
      "outputs": [
        {
          "output_type": "execute_result",
          "data": {
            "text/plain": [
              "['esta es ', ' cadena de prueba, repito, ', ' cadena de prueba']"
            ]
          },
          "metadata": {},
          "execution_count": 102
        }
      ]
    },
    {
      "cell_type": "code",
      "source": [
        "# csv -- campos separados por coma\n",
        "# Formato: Nombre,Nota,Materia\n",
        "linea1 = \"Pedro,9,Matematica\"\n",
        "linea2 = \"Juan Pedro,10,Ciencias Naturales\"\n",
        "\n",
        "linea1_coma = linea1.split(\",\")\n",
        "print(linea1_coma)\n",
        "linea2_coma = linea2.split(\",\")\n",
        "print(linea2_coma)"
      ],
      "metadata": {
        "id": "Vew5XAWU8grR",
        "colab": {
          "base_uri": "https://localhost:8080/"
        },
        "outputId": "3601cdcd-a0e9-4e00-c7cb-74ec7e0e08a8"
      },
      "execution_count": 104,
      "outputs": [
        {
          "output_type": "stream",
          "name": "stdout",
          "text": [
            "['Pedro', '9', 'Matematica']\n",
            "['Juan Pedro', '10', 'Ciencias Naturales']\n"
          ]
        }
      ]
    },
    {
      "cell_type": "markdown",
      "source": [
        "*__join__*\n",
        "\n",
        "Retorna el iterable que se pasa como argumento unido por el string."
      ],
      "metadata": {
        "id": "XthoYz3x33TN"
      }
    },
    {
      "cell_type": "code",
      "source": [
        "# lista - \",\"\n",
        "lista = [\"Hola\", \"me\", \"llamo\", \"Juan\"]\n",
        "\n",
        "\" \".join(lista)"
      ],
      "metadata": {
        "id": "hnnfJ33MKkQP",
        "colab": {
          "base_uri": "https://localhost:8080/",
          "height": 35
        },
        "outputId": "e331ef6d-c04b-40e0-86f6-6e5b902c72de"
      },
      "execution_count": 107,
      "outputs": [
        {
          "output_type": "execute_result",
          "data": {
            "text/plain": [
              "'Hola,me,llamo,Juan'"
            ],
            "application/vnd.google.colaboratory.intrinsic+json": {
              "type": "string"
            }
          },
          "metadata": {},
          "execution_count": 107
        }
      ]
    },
    {
      "cell_type": "code",
      "source": [
        "# join(iterable)-> str\n",
        "# str\n",
        "\" \".join(\"hola\")"
      ],
      "metadata": {
        "id": "LKqMqZE953pu",
        "colab": {
          "base_uri": "https://localhost:8080/",
          "height": 35
        },
        "outputId": "5104c137-5911-4767-bacd-b9a27bd51e0d"
      },
      "execution_count": 108,
      "outputs": [
        {
          "output_type": "execute_result",
          "data": {
            "text/plain": [
              "'h o l a'"
            ],
            "application/vnd.google.colaboratory.intrinsic+json": {
              "type": "string"
            }
          },
          "metadata": {},
          "execution_count": 108
        }
      ]
    },
    {
      "cell_type": "code",
      "source": [
        "# lista - \" \"\n"
      ],
      "metadata": {
        "id": "v5wQQaQUKzzO"
      },
      "execution_count": null,
      "outputs": []
    },
    {
      "cell_type": "markdown",
      "source": [
        "*__strip__*\n",
        "\n",
        "Retorna una copia del string, borrando todos los caracteres que se envian como argumento, de adelante y de atras del string.\n",
        "\n",
        "Nota: Si no se especifica el carácter elimina los espacios\n"
      ],
      "metadata": {
        "id": "HRnxBSYa6ung"
      }
    },
    {
      "cell_type": "code",
      "source": [
        "linea = \"*-banana-*\""
      ],
      "metadata": {
        "id": "Y4nw7qNnO5xA"
      },
      "execution_count": 109,
      "outputs": []
    },
    {
      "cell_type": "code",
      "source": [
        "# strip(str)-> str\n",
        "# un caracter\n",
        "linea.strip(\"-*\")"
      ],
      "metadata": {
        "id": "mDChdIco7yfK",
        "colab": {
          "base_uri": "https://localhost:8080/",
          "height": 35
        },
        "outputId": "aeea7e2b-8800-47ec-ae9c-bd29e7faee15"
      },
      "execution_count": 112,
      "outputs": [
        {
          "output_type": "execute_result",
          "data": {
            "text/plain": [
              "'banana'"
            ],
            "application/vnd.google.colaboratory.intrinsic+json": {
              "type": "string"
            }
          },
          "metadata": {},
          "execution_count": 112
        }
      ]
    },
    {
      "cell_type": "code",
      "source": [
        "# mas de un caracter\n"
      ],
      "metadata": {
        "id": "eI8rXG71O-rN"
      },
      "execution_count": null,
      "outputs": []
    },
    {
      "cell_type": "code",
      "source": [
        "# espacios\n",
        "\n",
        "linea = \"Pablo, 10 ,Matematica\"\n",
        "linea = linea.split(\",\")\n",
        "linea[1].strip(\" \")"
      ],
      "metadata": {
        "colab": {
          "base_uri": "https://localhost:8080/",
          "height": 35
        },
        "id": "VVr1kiaIrawq",
        "outputId": "b66a62cf-ca4f-4339-c329-d0a9f5feca52"
      },
      "execution_count": 120,
      "outputs": [
        {
          "output_type": "execute_result",
          "data": {
            "text/plain": [
              "'10'"
            ],
            "application/vnd.google.colaboratory.intrinsic+json": {
              "type": "string"
            }
          },
          "metadata": {},
          "execution_count": 120
        }
      ]
    },
    {
      "cell_type": "markdown",
      "source": [
        "*__replace__*\n",
        "\n",
        "Retorna una copia del string reemplazando los sub caracteres indicados.\n",
        "\n",
        "\n",
        "También podemos indicar cuantas veces lo reemplazaremos utilizando un índice.\n"
      ],
      "metadata": {
        "id": "1cb6cIXK9eCC"
      }
    },
    {
      "cell_type": "code",
      "source": [
        "cadena_prueba"
      ],
      "metadata": {
        "id": "XjKz9qBdQtwT",
        "colab": {
          "base_uri": "https://localhost:8080/",
          "height": 35
        },
        "outputId": "1ecddfec-f17a-4216-fe85-878715bf50f9"
      },
      "execution_count": 121,
      "outputs": [
        {
          "output_type": "execute_result",
          "data": {
            "text/plain": [
              "'eSta ES una cadena DE pRUEba, repito, una cadeNA DE PrueBA'"
            ],
            "application/vnd.google.colaboratory.intrinsic+json": {
              "type": "string"
            }
          },
          "metadata": {},
          "execution_count": 121
        }
      ]
    },
    {
      "cell_type": "code",
      "source": [
        "# replace(str_old: str, str_new: str)-> str\n",
        "var = cadena_prueba.replace(\"DE\", \"de\")\n",
        "print(var)"
      ],
      "metadata": {
        "id": "k8xbF6jg-Bbp",
        "colab": {
          "base_uri": "https://localhost:8080/"
        },
        "outputId": "2b24ed65-6826-4171-94c6-10432a87eda1"
      },
      "execution_count": 133,
      "outputs": [
        {
          "output_type": "stream",
          "name": "stdout",
          "text": [
            "eSta ES una cadena de pRUEba, repito, una cadeNA de PrueBA\n"
          ]
        }
      ]
    },
    {
      "cell_type": "code",
      "source": [
        "cadena_prueba"
      ],
      "metadata": {
        "colab": {
          "base_uri": "https://localhost:8080/",
          "height": 35
        },
        "id": "k-iMTyaUFMkZ",
        "outputId": "f9fb7e5d-7499-474e-dbcd-049cc57d4fd1"
      },
      "execution_count": 124,
      "outputs": [
        {
          "output_type": "execute_result",
          "data": {
            "text/plain": [
              "'eSta ES una cadena DE pRUEba, repito, una cadeNA DE PrueBA'"
            ],
            "application/vnd.google.colaboratory.intrinsic+json": {
              "type": "string"
            }
          },
          "metadata": {},
          "execution_count": 124
        }
      ]
    },
    {
      "cell_type": "code",
      "source": [
        "# cantidad de veces a reemplazar\n",
        "# replace(str_old: str, str_new: str, count: int)-> str\n",
        "cadena_prueba.replace(\"DE\", \"de\", -1)"
      ],
      "metadata": {
        "id": "pDpa1KaD-Q0k",
        "colab": {
          "base_uri": "https://localhost:8080/",
          "height": 35
        },
        "outputId": "61f00c88-3db1-425c-a517-f70cb5c71431"
      },
      "execution_count": 132,
      "outputs": [
        {
          "output_type": "execute_result",
          "data": {
            "text/plain": [
              "'eSta ES una cadena de pRUEba, repito, una cadeNA de PrueBA'"
            ],
            "application/vnd.google.colaboratory.intrinsic+json": {
              "type": "string"
            }
          },
          "metadata": {},
          "execution_count": 132
        }
      ]
    },
    {
      "cell_type": "markdown",
      "source": [
        "*__isdecimal__*\n",
        "\n",
        "Retorna verdadero si todos los caracteres del string son numeros del 0-9."
      ],
      "metadata": {
        "id": "0RAVM47Fqg1w"
      }
    },
    {
      "cell_type": "code",
      "source": [
        "# isdecimal(None)-> bool\n",
        "numero = \"12345\"\n",
        "\n",
        "numero.isdecimal()"
      ],
      "metadata": {
        "id": "4GOVu2HsqfPp",
        "colab": {
          "base_uri": "https://localhost:8080/"
        },
        "outputId": "5f18bb1c-1480-4b30-cb29-01dfdbe158f6"
      },
      "execution_count": 128,
      "outputs": [
        {
          "output_type": "execute_result",
          "data": {
            "text/plain": [
              "False"
            ]
          },
          "metadata": {},
          "execution_count": 128
        }
      ]
    },
    {
      "cell_type": "code",
      "source": [
        "# float ?\n",
        "\n",
        "\"12.6\".isdecimal()"
      ],
      "metadata": {
        "id": "wFyndoQFUQNO",
        "colab": {
          "base_uri": "https://localhost:8080/"
        },
        "outputId": "36e8092f-f02d-43f3-fbdf-07e118a492a9"
      },
      "execution_count": 129,
      "outputs": [
        {
          "output_type": "execute_result",
          "data": {
            "text/plain": [
              "False"
            ]
          },
          "metadata": {},
          "execution_count": 129
        }
      ]
    },
    {
      "cell_type": "markdown",
      "source": [
        "**Preguntas???**"
      ],
      "metadata": {
        "id": "ZiKXVbJzBddd"
      }
    },
    {
      "cell_type": "markdown",
      "source": [
        "![green-divider](https://user-images.githubusercontent.com/7065401/52071924-c003ad80-2562-11e9-8297-1c6595f8a7ff.png)\n",
        "\n",
        "#### Listas"
      ],
      "metadata": {
        "id": "RffoOCZu-gvI"
      }
    },
    {
      "cell_type": "markdown",
      "source": [
        "*__clear__*\n",
        "\n",
        "Este metodo elimina todos los elementos de una lista.\n"
      ],
      "metadata": {
        "id": "KfrpA5lH-ppy"
      }
    },
    {
      "cell_type": "code",
      "source": [
        "# clear(None)-> None\n",
        "lista = [1,2,3]\n",
        "print(lista)\n",
        "lista.clear()\n",
        "print(lista)"
      ],
      "metadata": {
        "id": "XbUaFlxeddp0",
        "colab": {
          "base_uri": "https://localhost:8080/"
        },
        "outputId": "17f1ab79-90ad-422a-aaa8-1b20282d0085"
      },
      "execution_count": 134,
      "outputs": [
        {
          "output_type": "stream",
          "name": "stdout",
          "text": [
            "[1, 2, 3]\n",
            "[]\n"
          ]
        }
      ]
    },
    {
      "cell_type": "code",
      "source": [
        "# clear es igual a limpiar con [] ?\n",
        "lista = [123]\n",
        "print(lista)\n",
        "lista = []\n",
        "print(lista)"
      ],
      "metadata": {
        "id": "uVEpmi1fFhk-",
        "colab": {
          "base_uri": "https://localhost:8080/"
        },
        "outputId": "ac54c10b-34ee-4cd0-8797-f3538ab630f3"
      },
      "execution_count": 135,
      "outputs": [
        {
          "output_type": "stream",
          "name": "stdout",
          "text": [
            "[123]\n",
            "[]\n"
          ]
        }
      ]
    },
    {
      "cell_type": "code",
      "source": [
        "lista1 = [1,2,3]\n",
        "lista2 = lista1"
      ],
      "metadata": {
        "id": "6La7lAAfHID6"
      },
      "execution_count": null,
      "outputs": []
    },
    {
      "cell_type": "markdown",
      "source": [
        "*__extend__*\n",
        "\n",
        "Une una lista con otra (iterable)"
      ],
      "metadata": {
        "id": "dLNRcMykFsup"
      }
    },
    {
      "cell_type": "code",
      "source": [
        "# extend(iterable)-> None\n",
        "# lista\n",
        "lista1 = [1,2,3]\n",
        "lista2 = [\"a\", \"e\"]\n",
        "\n",
        "lista1.extend(lista2)\n",
        "lista1"
      ],
      "metadata": {
        "id": "-oedHO7SjWqm",
        "colab": {
          "base_uri": "https://localhost:8080/"
        },
        "outputId": "3d269026-89ad-417c-f76a-765796e1a4d1"
      },
      "execution_count": 137,
      "outputs": [
        {
          "output_type": "execute_result",
          "data": {
            "text/plain": [
              "[1, 2, 3, 'a', 'e']"
            ]
          },
          "metadata": {},
          "execution_count": 137
        }
      ]
    },
    {
      "cell_type": "code",
      "source": [
        "# extend con un str\n",
        "lista1 = [1,2,3]\n",
        "lista1.extend(\"aei\")\n",
        "lista1"
      ],
      "metadata": {
        "colab": {
          "base_uri": "https://localhost:8080/"
        },
        "id": "tHs4Y0yztKj3",
        "outputId": "2fa82813-70eb-4599-91c0-9d4b35d1cfc8"
      },
      "execution_count": 139,
      "outputs": [
        {
          "output_type": "execute_result",
          "data": {
            "text/plain": [
              "[1, 2, 3, 'a', 'e', 'i']"
            ]
          },
          "metadata": {},
          "execution_count": 139
        }
      ]
    },
    {
      "cell_type": "markdown",
      "source": [
        "*__insert__*\n",
        "\n",
        "Agregar un elemento a la lista en un indice específico."
      ],
      "metadata": {
        "id": "kT1oOE6lION1"
      }
    },
    {
      "cell_type": "code",
      "source": [
        "# insert(index: int, object)-> None\n",
        "lista1 = [1,2,3]\n",
        "\n",
        "lista1.insert(0, \"0\")\n",
        "lista1"
      ],
      "metadata": {
        "id": "VfJOsufTkfDQ",
        "colab": {
          "base_uri": "https://localhost:8080/"
        },
        "outputId": "bf84b084-b5be-43ac-cd5f-91ff153dffcd"
      },
      "execution_count": 140,
      "outputs": [
        {
          "output_type": "execute_result",
          "data": {
            "text/plain": [
              "['0', 1, 2, 3]"
            ]
          },
          "metadata": {},
          "execution_count": 140
        }
      ]
    },
    {
      "cell_type": "markdown",
      "source": [
        "*__reverse__*\n",
        "\n",
        "Da vuelta una lista.\n",
        "\n",
        "Nota: Las cadenas no tienen la función reverse, pero se puede simular haciendo una conversión a lista y después usando el join\n"
      ],
      "metadata": {
        "id": "eQW4iKE8IrGa"
      }
    },
    {
      "cell_type": "code",
      "source": [
        "# reverse(None)-> None\n",
        "lista1 = [1,2,3, \"a\"]\n",
        "lista1.reverse()\n",
        "lista1"
      ],
      "metadata": {
        "id": "J2K9EDdflJhc",
        "colab": {
          "base_uri": "https://localhost:8080/"
        },
        "outputId": "ec41c952-3c44-4e99-e6d8-2171191e4448"
      },
      "execution_count": 144,
      "outputs": [
        {
          "output_type": "execute_result",
          "data": {
            "text/plain": [
              "['a', 3, 2, 1]"
            ]
          },
          "metadata": {},
          "execution_count": 144
        }
      ]
    },
    {
      "cell_type": "code",
      "source": [
        "# string reverse\n",
        "frase = \"HOLA\"\n",
        "frase_lista = list(frase)\n",
        "print(frase_lista)\n",
        "frase_lista.reverse()\n",
        "print(frase_lista)\n",
        "frase_reversed = \"\".join(frase_lista)\n",
        "print(frase_reversed)\n"
      ],
      "metadata": {
        "id": "ZEATU7Zble8Y",
        "colab": {
          "base_uri": "https://localhost:8080/"
        },
        "outputId": "6c4e162a-fa61-45a9-f19b-903da509f951"
      },
      "execution_count": 148,
      "outputs": [
        {
          "output_type": "stream",
          "name": "stdout",
          "text": [
            "['H', 'O', 'L', 'A']\n",
            "['A', 'L', 'O', 'H']\n",
            "ALOH\n"
          ]
        }
      ]
    },
    {
      "cell_type": "markdown",
      "source": [
        "*__sort__*\n",
        "\n",
        "Ordenar una lista por valor, de menor a mayor.\n"
      ],
      "metadata": {
        "id": "QVw0hokWJB3K"
      }
    },
    {
      "cell_type": "code",
      "source": [
        "# sort() --> de menor a mayor -- default\n",
        "lista = [10, 40, 5, 23, 1000, 20]\n",
        "\n",
        "lista.sort()\n",
        "lista\n"
      ],
      "metadata": {
        "id": "N3Gh9LCmmEJs",
        "colab": {
          "base_uri": "https://localhost:8080/"
        },
        "outputId": "80d2a907-61ec-4a42-8c01-443248ec5f1c"
      },
      "execution_count": 155,
      "outputs": [
        {
          "output_type": "execute_result",
          "data": {
            "text/plain": [
              "[5, 10, 20, 23, 40, 1000]"
            ]
          },
          "metadata": {},
          "execution_count": 155
        }
      ]
    },
    {
      "cell_type": "code",
      "source": [
        "# sort(reverse:bool=True) --> de mayor a menor\n",
        "lista = [10, 40, 5, 23, 1000, 20]\n",
        "\n",
        "lista.sort(reverse=True)\n",
        "lista"
      ],
      "metadata": {
        "id": "tLe6-_p9qMM0",
        "colab": {
          "base_uri": "https://localhost:8080/"
        },
        "outputId": "a8905ee5-4ed8-4663-ba50-eba323f0708d"
      },
      "execution_count": 151,
      "outputs": [
        {
          "output_type": "execute_result",
          "data": {
            "text/plain": [
              "[1000, 40, 23, 20, 10, 5]"
            ]
          },
          "metadata": {},
          "execution_count": 151
        }
      ]
    },
    {
      "cell_type": "code",
      "source": [
        "lista_vocales = [ \"u\", \"o\", \"a\", \"i\", \"e\"]\n",
        "lista_vocales.sort(reverse=True)\n",
        "lista_vocales"
      ],
      "metadata": {
        "colab": {
          "base_uri": "https://localhost:8080/"
        },
        "id": "nhFo2_mDK0GD",
        "outputId": "c58a2fcd-4b70-43a7-b0f5-ee777b57f6dc"
      },
      "execution_count": 163,
      "outputs": [
        {
          "output_type": "execute_result",
          "data": {
            "text/plain": [
              "['u', 'o', 'i', 'e', 'a']"
            ]
          },
          "metadata": {},
          "execution_count": 163
        }
      ]
    },
    {
      "cell_type": "code",
      "source": [
        "ord(\"a\")"
      ],
      "metadata": {
        "colab": {
          "base_uri": "https://localhost:8080/"
        },
        "id": "khUN9nR1LBuJ",
        "outputId": "81d10bf4-9f34-499d-d1f9-7e50a00db222"
      },
      "execution_count": 161,
      "outputs": [
        {
          "output_type": "execute_result",
          "data": {
            "text/plain": [
              "97"
            ]
          },
          "metadata": {},
          "execution_count": 161
        }
      ]
    },
    {
      "cell_type": "code",
      "source": [
        "ord(\"e\")"
      ],
      "metadata": {
        "colab": {
          "base_uri": "https://localhost:8080/"
        },
        "id": "A2CUSEXkLDyC",
        "outputId": "beb8fa5b-1f44-429f-8e4f-70d7e6d07a97"
      },
      "execution_count": 162,
      "outputs": [
        {
          "output_type": "execute_result",
          "data": {
            "text/plain": [
              "101"
            ]
          },
          "metadata": {},
          "execution_count": 162
        }
      ]
    },
    {
      "cell_type": "markdown",
      "source": [
        "*__pop__*\n",
        "\n",
        "Retorna y elimina de la lista el ultimo elemento.\n",
        "\n",
        "Nota: Si la lista esta vacia da un error (IndexError)."
      ],
      "metadata": {
        "id": "rwLQ_K45qrYd"
      }
    },
    {
      "cell_type": "code",
      "source": [
        "# pop()-> object\n",
        "lista = [1, 2, 3]\n",
        "\n",
        "lista.pop()"
      ],
      "metadata": {
        "id": "7Ovl7g94rdii",
        "colab": {
          "base_uri": "https://localhost:8080/"
        },
        "outputId": "d065b80c-ddfa-4f20-e7e1-c952d3181028"
      },
      "execution_count": 156,
      "outputs": [
        {
          "output_type": "execute_result",
          "data": {
            "text/plain": [
              "3"
            ]
          },
          "metadata": {},
          "execution_count": 156
        }
      ]
    },
    {
      "cell_type": "code",
      "source": [
        "lista"
      ],
      "metadata": {
        "colab": {
          "base_uri": "https://localhost:8080/"
        },
        "id": "TjVsEApAJ9Jq",
        "outputId": "4157c553-3cb2-4a62-da66-db8238d27a80"
      },
      "execution_count": 157,
      "outputs": [
        {
          "output_type": "execute_result",
          "data": {
            "text/plain": [
              "[1, 2]"
            ]
          },
          "metadata": {},
          "execution_count": 157
        }
      ]
    },
    {
      "cell_type": "code",
      "source": [
        "# pop(index: int) -> objet\n",
        "lista.pop(1)"
      ],
      "metadata": {
        "id": "CAUh8Z2LsLly",
        "colab": {
          "base_uri": "https://localhost:8080/"
        },
        "outputId": "ca32312d-72f4-41b1-f633-e82c8036b6da"
      },
      "execution_count": 158,
      "outputs": [
        {
          "output_type": "execute_result",
          "data": {
            "text/plain": [
              "2"
            ]
          },
          "metadata": {},
          "execution_count": 158
        }
      ]
    },
    {
      "cell_type": "code",
      "source": [
        "# lista vacia\n",
        "[].pop()"
      ],
      "metadata": {
        "id": "o14U7HhhsHl-",
        "colab": {
          "base_uri": "https://localhost:8080/",
          "height": 193
        },
        "outputId": "fbaf530d-7484-4621-fa9d-af358dd2658a"
      },
      "execution_count": 159,
      "outputs": [
        {
          "output_type": "error",
          "ename": "IndexError",
          "evalue": "ignored",
          "traceback": [
            "\u001b[0;31m---------------------------------------------------------------------------\u001b[0m",
            "\u001b[0;31mIndexError\u001b[0m                                Traceback (most recent call last)",
            "\u001b[0;32m<ipython-input-159-115e4177a146>\u001b[0m in \u001b[0;36m<cell line: 2>\u001b[0;34m()\u001b[0m\n\u001b[1;32m      1\u001b[0m \u001b[0;31m# lista vacia\u001b[0m\u001b[0;34m\u001b[0m\u001b[0;34m\u001b[0m\u001b[0m\n\u001b[0;32m----> 2\u001b[0;31m \u001b[0;34m[\u001b[0m\u001b[0;34m]\u001b[0m\u001b[0;34m.\u001b[0m\u001b[0mpop\u001b[0m\u001b[0;34m(\u001b[0m\u001b[0;34m)\u001b[0m\u001b[0;34m\u001b[0m\u001b[0;34m\u001b[0m\u001b[0m\n\u001b[0m",
            "\u001b[0;31mIndexError\u001b[0m: pop from empty list"
          ]
        }
      ]
    },
    {
      "cell_type": "markdown",
      "source": [
        "Para ver todas las funciones"
      ],
      "metadata": {
        "id": "x4nSy3vjtAMI"
      }
    },
    {
      "cell_type": "code",
      "source": [
        "dir(list)"
      ],
      "metadata": {
        "id": "zoYJkRKtszgv"
      },
      "execution_count": null,
      "outputs": []
    },
    {
      "cell_type": "markdown",
      "source": [
        "**Preguntas???**"
      ],
      "metadata": {
        "id": "5r49xfX-uGKJ"
      }
    },
    {
      "cell_type": "markdown",
      "source": [
        "![green-divider](https://user-images.githubusercontent.com/7065401/52071924-c003ad80-2562-11e9-8297-1c6595f8a7ff.png)\n",
        "\n",
        "#### Ejercicio"
      ],
      "metadata": {
        "id": "qAOTEUdEt6Fo"
      }
    },
    {
      "cell_type": "markdown",
      "source": [
        "Descripción de la actividad.\n",
        "\n",
        "Utilizando todo lo que sabes sobre cadenas, listas y sus métodos internos, transforma este texto:\n",
        "\n",
        "gordon lanzó su curva&strawberry ha fallado por un pie! -gritó Joe Castiglione&dos pies -le corrigió Troop&strawberry menea la cabeza como disgustado… -agrega el comentarista\n",
        "\n",
        ">Gordon lanzó su curva...\n",
        " - Strawberry ha fallado por un pie! -gritó Joe Castiglione.\n",
        " - Dos pies le corrigió Troop.\n",
        " - Strawberry menea la cabeza como disgustado… -agrega el comentarista.\n",
        "\n"
      ],
      "metadata": {
        "id": "9vs6I7bgtwo0"
      }
    },
    {
      "cell_type": "code",
      "source": [
        "texto = \"gordon lanzó su curva&strawberry ha fallado por un pie! -gritó\\\n",
        "  Joe Castiglione&dos pies le corrigió Troop&strawberry menea la cabeza\\\n",
        "  como disgustado… -agrega el comentarista\"\n",
        "\n",
        "print(texto)\n",
        "\n",
        "# Transformar a:\n",
        "# Gordon lanzó su curva...\n",
        "# - Strawberry ha fallado por un pie! -gritó Joe Castiglione.\n",
        "# - Dos pies le corrigió Troop.\n",
        "# - Strawberry menea la cabeza como disgustado… -agrega el comentarista.\n",
        "\n",
        "\n",
        "lineas = texto.split(\"&\")\n",
        "\n",
        "\n",
        "for indice, linea in enumerate(lineas):\n",
        "  print(f\"{indice}: {linea}\")\n",
        "  lineas[indice] = linea.capitalize()\n",
        "\n",
        "  if indice == 0:\n",
        "    lineas[indice] += \"...\"\n",
        "  else:\n",
        "    lineas[indice] = \"- \" + lineas[indice] + \".\"\n",
        "\n",
        "for linea in lineas:\n",
        "  print(linea)\n",
        "\n"
      ],
      "metadata": {
        "id": "GW_mMwvB0Xkj",
        "colab": {
          "base_uri": "https://localhost:8080/"
        },
        "outputId": "a62666de-e37b-44a3-f7ab-69bbeebde60f"
      },
      "execution_count": 174,
      "outputs": [
        {
          "output_type": "stream",
          "name": "stdout",
          "text": [
            "gordon lanzó su curva&strawberry ha fallado por un pie! -gritó  Joe Castiglione&dos pies le corrigió Troop&strawberry menea la cabeza  como disgustado… -agrega el comentarista\n",
            "0: gordon lanzó su curva\n",
            "1: strawberry ha fallado por un pie! -gritó  Joe Castiglione\n",
            "2: dos pies le corrigió Troop\n",
            "3: strawberry menea la cabeza  como disgustado… -agrega el comentarista\n",
            "Gordon lanzó su curva...\n",
            "- Strawberry ha fallado por un pie! -gritó  joe castiglione.\n",
            "- Dos pies le corrigió troop.\n",
            "- Strawberry menea la cabeza  como disgustado… -agrega el comentarista.\n"
          ]
        }
      ]
    },
    {
      "cell_type": "markdown",
      "source": [
        "![green-divider](https://user-images.githubusercontent.com/7065401/52071924-c003ad80-2562-11e9-8297-1c6595f8a7ff.png)\n",
        "\n",
        "#### Conjuntos"
      ],
      "metadata": {
        "id": "H0nl5MWC-kWK"
      }
    },
    {
      "cell_type": "code",
      "source": [
        "# sets de prueba\n",
        "set1 = {1, 2, 3}\n",
        "set2 = {4, 5, 6}\n",
        "set3 = {1, 7, 8}\n",
        "set4 = {1,2,3,4,5,6,7,8,9}"
      ],
      "metadata": {
        "id": "AtL2z0leSjAn"
      },
      "execution_count": 175,
      "outputs": []
    },
    {
      "cell_type": "markdown",
      "source": [
        "*__copy__*\n",
        "\n",
        "Retorna una copia del conjunto (set)."
      ],
      "metadata": {
        "id": "6fu0t8yFvTw9"
      }
    },
    {
      "cell_type": "code",
      "source": [
        "# copy(None)-> set\n",
        "set_copy = set1.copy()\n",
        "set_copy"
      ],
      "metadata": {
        "id": "oQ2kaGHZwKEN",
        "colab": {
          "base_uri": "https://localhost:8080/"
        },
        "outputId": "3dcc1ca9-fce7-4756-eccf-ecee95280f7b"
      },
      "execution_count": 176,
      "outputs": [
        {
          "output_type": "execute_result",
          "data": {
            "text/plain": [
              "{1, 2, 3}"
            ]
          },
          "metadata": {},
          "execution_count": 176
        }
      ]
    },
    {
      "cell_type": "markdown",
      "source": [
        "*__isdisjoint__*\n",
        "\n",
        "Esta función comprueba si el set es distinto a otro set, es decir, si no hay ningún ítem en común entre ellos.\n",
        "\n",
        "La interseccion entre los dos conjuntos es conjunto vacio -> True.\n"
      ],
      "metadata": {
        "id": "G4wEG-pKSVYe"
      }
    },
    {
      "cell_type": "code",
      "source": [
        "# isdisjoint(set)-> bool\n",
        "# True\n",
        "set1.isdisjoint(set2)"
      ],
      "metadata": {
        "id": "3afkAdLHSzLk",
        "colab": {
          "base_uri": "https://localhost:8080/"
        },
        "outputId": "cb4167ce-4031-487d-ac55-841be9452a65"
      },
      "execution_count": 177,
      "outputs": [
        {
          "output_type": "execute_result",
          "data": {
            "text/plain": [
              "True"
            ]
          },
          "metadata": {},
          "execution_count": 177
        }
      ]
    },
    {
      "cell_type": "code",
      "source": [
        "# False\n",
        "set1.isdisjoint(set3)"
      ],
      "metadata": {
        "id": "44gPgdlLS1yp",
        "colab": {
          "base_uri": "https://localhost:8080/"
        },
        "outputId": "16c19dfe-d9b5-4aab-b44c-cf10f50428a2"
      },
      "execution_count": 179,
      "outputs": [
        {
          "output_type": "execute_result",
          "data": {
            "text/plain": [
              "False"
            ]
          },
          "metadata": {},
          "execution_count": 179
        }
      ]
    },
    {
      "cell_type": "markdown",
      "source": [
        "*__issubset__*\n",
        "\n",
        "Esta función comprueba si el set es subset de otro set, es decir, si todos sus ítems están en el otro conjunto.\n",
        "\n"
      ],
      "metadata": {
        "id": "pgmdyiGxTCcq"
      }
    },
    {
      "cell_type": "code",
      "source": [
        "# issubset(set)-> bool\n",
        "#True\n",
        "set1.issubset(set4)"
      ],
      "metadata": {
        "id": "geU0OdF7TPsZ",
        "colab": {
          "base_uri": "https://localhost:8080/"
        },
        "outputId": "fb4b0de2-d095-45c0-ffee-61772cc2b756"
      },
      "execution_count": 180,
      "outputs": [
        {
          "output_type": "execute_result",
          "data": {
            "text/plain": [
              "True"
            ]
          },
          "metadata": {},
          "execution_count": 180
        }
      ]
    },
    {
      "cell_type": "code",
      "source": [
        "# False\n",
        "set4.issubset(set1)"
      ],
      "metadata": {
        "id": "Wwb-tF2CTcIh",
        "colab": {
          "base_uri": "https://localhost:8080/"
        },
        "outputId": "f3ed3246-c019-4aea-865c-932cffdaf010"
      },
      "execution_count": 181,
      "outputs": [
        {
          "output_type": "execute_result",
          "data": {
            "text/plain": [
              "False"
            ]
          },
          "metadata": {},
          "execution_count": 181
        }
      ]
    },
    {
      "cell_type": "markdown",
      "source": [
        "*__issuperset__*\n",
        "\n",
        "Esta función es muy similar al issubset, la diferencia es que esta comprueba si el set es contenedor de otro set, es decir, si contiene todos los ítems de otro set."
      ],
      "metadata": {
        "id": "84JapEkBT6Qh"
      }
    },
    {
      "cell_type": "code",
      "source": [
        "# issuperset(set)-> bool\n",
        "# True\n",
        "set4.issuperset(set1)"
      ],
      "metadata": {
        "id": "Kf21YcIlT2qV",
        "colab": {
          "base_uri": "https://localhost:8080/"
        },
        "outputId": "e3acf2fc-1ae1-439e-c62b-00e99d2e6072"
      },
      "execution_count": 182,
      "outputs": [
        {
          "output_type": "execute_result",
          "data": {
            "text/plain": [
              "True"
            ]
          },
          "metadata": {},
          "execution_count": 182
        }
      ]
    },
    {
      "cell_type": "code",
      "source": [
        "# False\n",
        "set1.issuperset(set4)"
      ],
      "metadata": {
        "colab": {
          "base_uri": "https://localhost:8080/"
        },
        "id": "IIo3ptGJjjDf",
        "outputId": "7127ca24-b376-4520-cb7a-1ed8f8193258"
      },
      "execution_count": 183,
      "outputs": [
        {
          "output_type": "execute_result",
          "data": {
            "text/plain": [
              "False"
            ]
          },
          "metadata": {},
          "execution_count": 183
        }
      ]
    },
    {
      "cell_type": "markdown",
      "source": [
        "*__union__*\n",
        "\n",
        "Esta función une un set con otro, y devuelve el resultado en un nuevo set."
      ],
      "metadata": {
        "id": "RbJ7n0aQUUnT"
      }
    },
    {
      "cell_type": "code",
      "source": [
        "# union(set)-> set\n",
        "new_set = set1.union(set2)\n",
        "print(new_set)"
      ],
      "metadata": {
        "id": "I71OmyWsU90f",
        "colab": {
          "base_uri": "https://localhost:8080/"
        },
        "outputId": "54c60a0b-a402-495c-a5bd-259cb95cb6c8"
      },
      "execution_count": 184,
      "outputs": [
        {
          "output_type": "stream",
          "name": "stdout",
          "text": [
            "{1, 2, 3, 4, 5, 6}\n"
          ]
        }
      ]
    },
    {
      "cell_type": "code",
      "source": [
        "set1.union(set4)"
      ],
      "metadata": {
        "colab": {
          "base_uri": "https://localhost:8080/"
        },
        "id": "XW7iOYCbRALJ",
        "outputId": "8f79695e-ecef-4505-ea28-647f358f93ea"
      },
      "execution_count": 185,
      "outputs": [
        {
          "output_type": "execute_result",
          "data": {
            "text/plain": [
              "{1, 2, 3, 4, 5, 6, 7, 8, 9}"
            ]
          },
          "metadata": {},
          "execution_count": 185
        }
      ]
    },
    {
      "cell_type": "markdown",
      "source": [
        "*__difference__*\n",
        "\n",
        "Esta función encuentra todos los elementos no comunes entre dos set, es decir, nos devuelve un set de ítems diferentes entre cada set.\n"
      ],
      "metadata": {
        "id": "3UbmVsRrVN1O"
      }
    },
    {
      "cell_type": "code",
      "source": [
        "# diference(set)-> set (los elementos del set1 que no estan en el set2)\n",
        "set1"
      ],
      "metadata": {
        "id": "cfS9OiIeVSt6",
        "colab": {
          "base_uri": "https://localhost:8080/"
        },
        "outputId": "f0703fc8-2bda-4e53-ff2a-f981d9cbde22"
      },
      "execution_count": 186,
      "outputs": [
        {
          "output_type": "execute_result",
          "data": {
            "text/plain": [
              "{1, 2, 3}"
            ]
          },
          "metadata": {},
          "execution_count": 186
        }
      ]
    },
    {
      "cell_type": "code",
      "source": [
        "set2"
      ],
      "metadata": {
        "colab": {
          "base_uri": "https://localhost:8080/"
        },
        "id": "aFhXzTfuRMew",
        "outputId": "2ca1d7a8-ad8c-4d11-c617-60fc8172da18"
      },
      "execution_count": 187,
      "outputs": [
        {
          "output_type": "execute_result",
          "data": {
            "text/plain": [
              "{4, 5, 6}"
            ]
          },
          "metadata": {},
          "execution_count": 187
        }
      ]
    },
    {
      "cell_type": "code",
      "source": [
        "set4"
      ],
      "metadata": {
        "colab": {
          "base_uri": "https://localhost:8080/"
        },
        "id": "UFigoz8iRX6k",
        "outputId": "dc2b19f6-96ae-474c-8f07-7789182fcfe2"
      },
      "execution_count": 190,
      "outputs": [
        {
          "output_type": "execute_result",
          "data": {
            "text/plain": [
              "{1, 2, 3, 4, 5, 6, 7, 8, 9}"
            ]
          },
          "metadata": {},
          "execution_count": 190
        }
      ]
    },
    {
      "cell_type": "code",
      "source": [
        "set1.difference(set4)"
      ],
      "metadata": {
        "colab": {
          "base_uri": "https://localhost:8080/"
        },
        "id": "oYLdHZZ3RPNi",
        "outputId": "f5a716d5-3638-4422-f207-60f791b0b479"
      },
      "execution_count": 192,
      "outputs": [
        {
          "output_type": "execute_result",
          "data": {
            "text/plain": [
              "set()"
            ]
          },
          "metadata": {},
          "execution_count": 192
        }
      ]
    },
    {
      "cell_type": "markdown",
      "source": [
        "*__difference_update__*\n",
        "\n",
        "Similar al difference, pero esta función nos guarda los ítems del set que se pasa como argumento en el set1."
      ],
      "metadata": {
        "id": "vgGKfMuCVjOz"
      }
    },
    {
      "cell_type": "code",
      "source": [
        "# difference_update(set)-> None\n",
        "set1"
      ],
      "metadata": {
        "id": "WpJvYaTgVqTC",
        "colab": {
          "base_uri": "https://localhost:8080/"
        },
        "outputId": "26ef2ad3-a60a-48f2-a020-3f187994439b"
      },
      "execution_count": 195,
      "outputs": [
        {
          "output_type": "execute_result",
          "data": {
            "text/plain": [
              "{1, 2, 3}"
            ]
          },
          "metadata": {},
          "execution_count": 195
        }
      ]
    },
    {
      "cell_type": "code",
      "source": [
        "set6 = {1,5,7}"
      ],
      "metadata": {
        "id": "cOJCkUQORo2V"
      },
      "execution_count": 196,
      "outputs": []
    },
    {
      "cell_type": "code",
      "source": [
        "set1.difference(set6)"
      ],
      "metadata": {
        "colab": {
          "base_uri": "https://localhost:8080/"
        },
        "id": "TwKQbIvVRs0b",
        "outputId": "51863aaf-778a-4483-b413-0bf295ef3abd"
      },
      "execution_count": 197,
      "outputs": [
        {
          "output_type": "execute_result",
          "data": {
            "text/plain": [
              "{2, 3}"
            ]
          },
          "metadata": {},
          "execution_count": 197
        }
      ]
    },
    {
      "cell_type": "code",
      "source": [
        "print(id(set1))\n",
        "set1.difference_update(set6)\n",
        "print(set1)\n",
        "print(id(set1))"
      ],
      "metadata": {
        "colab": {
          "base_uri": "https://localhost:8080/"
        },
        "id": "NunxMH8rR18_",
        "outputId": "5e512df3-24c8-424f-82c7-2c81bc6668f6"
      },
      "execution_count": 206,
      "outputs": [
        {
          "output_type": "stream",
          "name": "stdout",
          "text": [
            "135838887703744\n",
            "{2, 3}\n",
            "135838887703744\n"
          ]
        }
      ]
    },
    {
      "cell_type": "markdown",
      "source": [
        "*__intersection__*\n",
        "\n",
        "Esta función devuelve un set con todos los elementos comunes entre dos set, es decir, nos devuelve un set de ítems iguales entre cada set.\n",
        "\n",
        "\n"
      ],
      "metadata": {
        "id": "H3UssTStV2Bm"
      }
    },
    {
      "cell_type": "code",
      "source": [
        "# intersection(set)-> set\n",
        "set1 = {1,2,3}\n",
        "set2 = {2,4,5,3}\n",
        "\n",
        "set1.intersection(set2)\n"
      ],
      "metadata": {
        "id": "O36nHqvcV8wx",
        "colab": {
          "base_uri": "https://localhost:8080/"
        },
        "outputId": "136a6b4f-5b77-4b13-8912-1e35db82210a"
      },
      "execution_count": 204,
      "outputs": [
        {
          "output_type": "execute_result",
          "data": {
            "text/plain": [
              "{2, 3}"
            ]
          },
          "metadata": {},
          "execution_count": 204
        }
      ]
    },
    {
      "cell_type": "markdown",
      "source": [
        "*__intersection_update__*\n",
        "\n",
        "Es exactamente igual al intersection, pero esta función actualiza el set original, es decir, le asigna como nuevo valor los ítems en común.\n",
        "\n",
        "Nota: Ahora set1 vale los ítems en común con set2\n"
      ],
      "metadata": {
        "id": "jxMyRorLWHBV"
      }
    },
    {
      "cell_type": "code",
      "source": [
        "# intersection_update(set)-> None\n",
        "set1 = {1,2,3}\n",
        "set2 = {2,4,5, 3}\n",
        "\n",
        "set1.intersection_update(set2)\n",
        "\n",
        "set1"
      ],
      "metadata": {
        "id": "T5wRss6DWI86",
        "colab": {
          "base_uri": "https://localhost:8080/"
        },
        "outputId": "36e8c03c-27bc-4e5f-d3b2-6cfe2d2f3678"
      },
      "execution_count": 205,
      "outputs": [
        {
          "output_type": "execute_result",
          "data": {
            "text/plain": [
              "{2, 3}"
            ]
          },
          "metadata": {},
          "execution_count": 205
        }
      ]
    },
    {
      "cell_type": "markdown",
      "source": [
        "**Preguntas?**"
      ],
      "metadata": {
        "id": "Bwg9v9LMaFJw"
      }
    },
    {
      "cell_type": "markdown",
      "source": [
        "![green-divider](https://user-images.githubusercontent.com/7065401/52071924-c003ad80-2562-11e9-8297-1c6595f8a7ff.png)\n",
        "\n",
        "#### Ejercicios"
      ],
      "metadata": {
        "id": "o5m-fabFWSYm"
      }
    },
    {
      "cell_type": "markdown",
      "source": [
        "**Ejemplo 1:**\n",
        "\n",
        "* my_set_1 = set([1, 2, 3])\n",
        "* my_set_2 = set([3, 4, 5])\n",
        "* my_new_set = my_set_1.union(my_set_2)\n",
        "* print(my_new_set)\n",
        "\n",
        "**Ejemplo 2:**\n",
        "\n",
        "* my_set_1 = set([1, 2, 3])\n",
        "* my_set_2 = set([3, 4, 5])\n",
        "* my_new_set = my_set_1.intersection(my_set_2)\n",
        "* print(my_new_set)\n",
        "\n",
        "**Ejemplo 3:**\n",
        "\n",
        "* my_set_1 = set([1, 2, 3])\n",
        "* my_set_2 = set([3, 4, 5])\n",
        "* my_new_set = my_set_1.difference(my_set_2)\n",
        "* print(my_new_set)\n"
      ],
      "metadata": {
        "id": "F-UC8rC_-_Pl"
      }
    },
    {
      "cell_type": "code",
      "source": [],
      "metadata": {
        "id": "FFRA47BJXN2m"
      },
      "execution_count": null,
      "outputs": []
    },
    {
      "cell_type": "markdown",
      "source": [
        "![green-divider](https://user-images.githubusercontent.com/7065401/52071924-c003ad80-2562-11e9-8297-1c6595f8a7ff.png)\n",
        "\n",
        "#### Diccionarios"
      ],
      "metadata": {
        "id": "auaEztXr-muW"
      }
    },
    {
      "cell_type": "code",
      "source": [
        "var = {}"
      ],
      "metadata": {
        "id": "oy7PG3z7TitC"
      },
      "execution_count": 207,
      "outputs": []
    },
    {
      "cell_type": "code",
      "source": [
        "var = {\n",
        "    \"Nombre\": \"Pablo\",\n",
        "    \"edad\": 60,\n",
        "    \"curso\": 50190\n",
        "}"
      ],
      "metadata": {
        "id": "gctDRRzETk-N"
      },
      "execution_count": 211,
      "outputs": []
    },
    {
      "cell_type": "code",
      "source": [
        "var"
      ],
      "metadata": {
        "colab": {
          "base_uri": "https://localhost:8080/"
        },
        "id": "vLPcslNDTw9L",
        "outputId": "6964f2b9-d926-4422-df7a-7d9edc7bf106"
      },
      "execution_count": 212,
      "outputs": [
        {
          "output_type": "execute_result",
          "data": {
            "text/plain": [
              "{'Nombre': 'Pablo', 'edad': 60, 'curso': 50190}"
            ]
          },
          "metadata": {},
          "execution_count": 212
        }
      ]
    },
    {
      "cell_type": "code",
      "source": [
        "var[\"lenguaje\"] = \"python\""
      ],
      "metadata": {
        "id": "JRl1LPwATyz7"
      },
      "execution_count": 213,
      "outputs": []
    },
    {
      "cell_type": "code",
      "source": [
        "var"
      ],
      "metadata": {
        "colab": {
          "base_uri": "https://localhost:8080/"
        },
        "id": "Y-hw8mVpT34e",
        "outputId": "12cc0d14-8990-4204-e73e-d43caf87a2c6"
      },
      "execution_count": 214,
      "outputs": [
        {
          "output_type": "execute_result",
          "data": {
            "text/plain": [
              "{'Nombre': 'Pablo', 'edad': 60, 'curso': 50190, 'lenguaje': 'python'}"
            ]
          },
          "metadata": {},
          "execution_count": 214
        }
      ]
    },
    {
      "cell_type": "code",
      "source": [
        "var[\"Nombre\"]"
      ],
      "metadata": {
        "colab": {
          "base_uri": "https://localhost:8080/",
          "height": 35
        },
        "id": "P4S-73SAUFNt",
        "outputId": "a4f4c404-c5df-4b38-daf3-a4d8deb900d1"
      },
      "execution_count": 215,
      "outputs": [
        {
          "output_type": "execute_result",
          "data": {
            "text/plain": [
              "'Pablo'"
            ],
            "application/vnd.google.colaboratory.intrinsic+json": {
              "type": "string"
            }
          },
          "metadata": {},
          "execution_count": 215
        }
      ]
    },
    {
      "cell_type": "code",
      "source": [
        "colores = { \"amarillo\":\"yellow\", \"azul\":\"blue\", \"verde\":\"green\" }"
      ],
      "metadata": {
        "id": "nzRu16Ncc5dm"
      },
      "execution_count": 216,
      "outputs": []
    },
    {
      "cell_type": "markdown",
      "source": [
        "*__get__*\n",
        "\n",
        "La función get sirve para poder buscar un elemento a partir de su key, en el caso de no encontrar devuelve un valor por defecto que le indicamos nosotros.\n",
        "\n"
      ],
      "metadata": {
        "id": "UQqb8nH31U-g"
      }
    },
    {
      "cell_type": "code",
      "source": [
        "# get(key, default_value)-> key_value/ default_value\n",
        "# la key esta\n",
        "\n",
        "colores.get(\"amarillo\", \"La clave amarillo no esta\")"
      ],
      "metadata": {
        "id": "_TrK_S5o1t1B",
        "colab": {
          "base_uri": "https://localhost:8080/",
          "height": 35
        },
        "outputId": "e639ef54-b2f4-4d11-9d38-1cc32ea7f54e"
      },
      "execution_count": 217,
      "outputs": [
        {
          "output_type": "execute_result",
          "data": {
            "text/plain": [
              "'yellow'"
            ],
            "application/vnd.google.colaboratory.intrinsic+json": {
              "type": "string"
            }
          },
          "metadata": {},
          "execution_count": 217
        }
      ]
    },
    {
      "cell_type": "code",
      "source": [
        "colores"
      ],
      "metadata": {
        "colab": {
          "base_uri": "https://localhost:8080/"
        },
        "id": "5Xnp2aM_UtwW",
        "outputId": "c25a733d-510b-4399-9431-78491c4d8ee8"
      },
      "execution_count": 218,
      "outputs": [
        {
          "output_type": "execute_result",
          "data": {
            "text/plain": [
              "{'amarillo': 'yellow', 'azul': 'blue', 'verde': 'green'}"
            ]
          },
          "metadata": {},
          "execution_count": 218
        }
      ]
    },
    {
      "cell_type": "code",
      "source": [
        "# la key no esta, con default\n",
        "colores.get(\"violeta\", \"La clave violeta no esta\")"
      ],
      "metadata": {
        "id": "bMgLu3oWdMnu",
        "colab": {
          "base_uri": "https://localhost:8080/",
          "height": 35
        },
        "outputId": "3be3548c-a3d4-45b2-a5fa-711ff60e143e"
      },
      "execution_count": 219,
      "outputs": [
        {
          "output_type": "execute_result",
          "data": {
            "text/plain": [
              "'La clave violeta no esta'"
            ],
            "application/vnd.google.colaboratory.intrinsic+json": {
              "type": "string"
            }
          },
          "metadata": {},
          "execution_count": 219
        }
      ]
    },
    {
      "cell_type": "code",
      "source": [
        "# si no indicamos un valor default\n",
        "print(colores.get(\"violeta\"))"
      ],
      "metadata": {
        "id": "lVULxqCSZbPj",
        "colab": {
          "base_uri": "https://localhost:8080/"
        },
        "outputId": "b7348da2-51c3-47ff-a736-491379322c01"
      },
      "execution_count": 225,
      "outputs": [
        {
          "output_type": "stream",
          "name": "stdout",
          "text": [
            "None\n"
          ]
        }
      ]
    },
    {
      "cell_type": "markdown",
      "source": [
        "*__keys__*\n",
        "\n",
        "La función key sirve para poder traer todas las claves de un diccionario en el caso de desconocerlas.\n"
      ],
      "metadata": {
        "id": "WY_9mZHt2Kca"
      }
    },
    {
      "cell_type": "code",
      "source": [
        "# keys(None)-> dict_keys\n",
        "colores.keys()"
      ],
      "metadata": {
        "id": "Gnz8rStw2UFc",
        "colab": {
          "base_uri": "https://localhost:8080/"
        },
        "outputId": "2b4ad44f-2c6a-47f4-f783-268bdd7a4a34"
      },
      "execution_count": 226,
      "outputs": [
        {
          "output_type": "execute_result",
          "data": {
            "text/plain": [
              "dict_keys(['amarillo', 'azul', 'verde'])"
            ]
          },
          "metadata": {},
          "execution_count": 226
        }
      ]
    },
    {
      "cell_type": "code",
      "source": [
        "# iterar sobre las claves\n",
        "for key in colores.keys():\n",
        "  print(key)"
      ],
      "metadata": {
        "id": "PP5jvZU02Y-P",
        "colab": {
          "base_uri": "https://localhost:8080/"
        },
        "outputId": "5ebcde09-6cd9-4361-ee35-57ca9305b8f0"
      },
      "execution_count": 227,
      "outputs": [
        {
          "output_type": "stream",
          "name": "stdout",
          "text": [
            "amarillo\n",
            "azul\n",
            "verde\n"
          ]
        }
      ]
    },
    {
      "cell_type": "markdown",
      "source": [
        "*__values__*\n",
        "\n",
        "La función values es similar a keys, pero esta sirve para poder traer todos los valores de un diccionario.\n"
      ],
      "metadata": {
        "id": "OO7fv91FP3io"
      }
    },
    {
      "cell_type": "code",
      "source": [
        "# values(None)-> dict_values\n",
        "colores.values()"
      ],
      "metadata": {
        "id": "iUReVHgnP9YG",
        "colab": {
          "base_uri": "https://localhost:8080/"
        },
        "outputId": "6a1a6f7f-38eb-4fe7-baee-f5e996fd7c58"
      },
      "execution_count": 228,
      "outputs": [
        {
          "output_type": "execute_result",
          "data": {
            "text/plain": [
              "dict_values(['yellow', 'blue', 'green'])"
            ]
          },
          "metadata": {},
          "execution_count": 228
        }
      ]
    },
    {
      "cell_type": "code",
      "source": [
        "# iterar sobre los valores\n",
        "for value in colores.keys():\n",
        "  print(value)"
      ],
      "metadata": {
        "id": "T5UYloloQB81",
        "colab": {
          "base_uri": "https://localhost:8080/"
        },
        "outputId": "0d0187ab-d32f-4119-b1bc-1f8f05e308c6"
      },
      "execution_count": 229,
      "outputs": [
        {
          "output_type": "stream",
          "name": "stdout",
          "text": [
            "amarillo\n",
            "azul\n",
            "verde\n"
          ]
        }
      ]
    },
    {
      "cell_type": "markdown",
      "source": [
        "*__items__*\n",
        "\n",
        "La función items es similar a keys y values, pero esta crea una lista con clave y valor de los ítems de un diccionario."
      ],
      "metadata": {
        "id": "_2PSQN-IQMCb"
      }
    },
    {
      "cell_type": "code",
      "source": [
        "# items(None)-> dict_items (list)\n",
        "colores.items()"
      ],
      "metadata": {
        "id": "vXZtvoLBQQme",
        "colab": {
          "base_uri": "https://localhost:8080/"
        },
        "outputId": "5e173e6e-1898-43c1-f912-9c48c1b64a40"
      },
      "execution_count": 230,
      "outputs": [
        {
          "output_type": "execute_result",
          "data": {
            "text/plain": [
              "dict_items([('amarillo', 'yellow'), ('azul', 'blue'), ('verde', 'green')])"
            ]
          },
          "metadata": {},
          "execution_count": 230
        }
      ]
    },
    {
      "cell_type": "code",
      "source": [
        "# iterar por los valores clave-valor\n",
        "\n",
        "for clave, valor in colores.items():\n",
        "  print(f\"la clave {clave} tiene el valor {valor}\")\n",
        ""
      ],
      "metadata": {
        "id": "zWwUpKvVQd8N",
        "colab": {
          "base_uri": "https://localhost:8080/"
        },
        "outputId": "1f4f898c-d10a-4e5c-c5f3-a6824987e410"
      },
      "execution_count": 231,
      "outputs": [
        {
          "output_type": "stream",
          "name": "stdout",
          "text": [
            "la clave amarillo tiene el valor yellow\n",
            "la clave azul tiene el valor blue\n",
            "la clave verde tiene el valor green\n"
          ]
        }
      ]
    },
    {
      "cell_type": "code",
      "source": [
        "dir(dict)"
      ],
      "metadata": {
        "colab": {
          "base_uri": "https://localhost:8080/"
        },
        "id": "mc_bxzc9WM_Z",
        "outputId": "9237d92f-fc20-4d1a-b417-a2308bb66c19"
      },
      "execution_count": 232,
      "outputs": [
        {
          "output_type": "execute_result",
          "data": {
            "text/plain": [
              "['__class__',\n",
              " '__class_getitem__',\n",
              " '__contains__',\n",
              " '__delattr__',\n",
              " '__delitem__',\n",
              " '__dir__',\n",
              " '__doc__',\n",
              " '__eq__',\n",
              " '__format__',\n",
              " '__ge__',\n",
              " '__getattribute__',\n",
              " '__getitem__',\n",
              " '__gt__',\n",
              " '__hash__',\n",
              " '__init__',\n",
              " '__init_subclass__',\n",
              " '__ior__',\n",
              " '__iter__',\n",
              " '__le__',\n",
              " '__len__',\n",
              " '__lt__',\n",
              " '__ne__',\n",
              " '__new__',\n",
              " '__or__',\n",
              " '__reduce__',\n",
              " '__reduce_ex__',\n",
              " '__repr__',\n",
              " '__reversed__',\n",
              " '__ror__',\n",
              " '__setattr__',\n",
              " '__setitem__',\n",
              " '__sizeof__',\n",
              " '__str__',\n",
              " '__subclasshook__',\n",
              " 'clear',\n",
              " 'copy',\n",
              " 'fromkeys',\n",
              " 'get',\n",
              " 'items',\n",
              " 'keys',\n",
              " 'pop',\n",
              " 'popitem',\n",
              " 'setdefault',\n",
              " 'update',\n",
              " 'values']"
            ]
          },
          "metadata": {},
          "execution_count": 232
        }
      ]
    },
    {
      "cell_type": "code",
      "source": [
        "help(dict.keys)"
      ],
      "metadata": {
        "colab": {
          "base_uri": "https://localhost:8080/"
        },
        "id": "PqE2U5V2WUHX",
        "outputId": "72f927b0-53f5-45e9-a23b-34f876cf61a6"
      },
      "execution_count": 233,
      "outputs": [
        {
          "output_type": "stream",
          "name": "stdout",
          "text": [
            "Help on method_descriptor:\n",
            "\n",
            "keys(...)\n",
            "    D.keys() -> a set-like object providing a view on D's keys\n",
            "\n"
          ]
        }
      ]
    },
    {
      "cell_type": "markdown",
      "source": [
        "**Preguntas?**"
      ],
      "metadata": {
        "id": "j5Lvy7X7aRKq"
      }
    },
    {
      "cell_type": "markdown",
      "source": [
        "![green-divider](https://user-images.githubusercontent.com/7065401/52071924-c003ad80-2562-11e9-8297-1c6595f8a7ff.png)\n",
        "\n",
        "#### Ejercicios"
      ],
      "metadata": {
        "id": "OQ7wWSgySGIB"
      }
    },
    {
      "cell_type": "markdown",
      "source": [
        "Descripción de la actividad.\n",
        "\n",
        "Escribir un programa que guarde en una variable en un diccionario {'Dolar':'$','Euro':'€', 'Libra':'£'}.\n",
        "\n",
        "Luego se le deberá solicitar al usuario que ingrese la divisa que desea visualizar.\n",
        "\n",
        "En el caso de ingresar una divisa no existente en nuestro diccionario, deberemos indicarle con un mensaje de notificación que la divisa no se encuentra disponible.\n"
      ],
      "metadata": {
        "id": "xjWnu-fMeZaS"
      }
    },
    {
      "cell_type": "code",
      "source": [
        "divisas = {'Dolar':'$','Euro':'€', 'Libra':'£'}\n"
      ],
      "metadata": {
        "id": "S1YQ_so1ep7p"
      },
      "execution_count": 235,
      "outputs": []
    },
    {
      "cell_type": "code",
      "source": [
        "divisas.get(\"Euros\", \"No tiene esa divisa\")"
      ],
      "metadata": {
        "colab": {
          "base_uri": "https://localhost:8080/",
          "height": 35
        },
        "id": "bY4wCKsjWhmO",
        "outputId": "dac17589-6cbb-4180-8e2f-67396394deff"
      },
      "execution_count": 237,
      "outputs": [
        {
          "output_type": "execute_result",
          "data": {
            "text/plain": [
              "'No tiene esa divisa'"
            ],
            "application/vnd.google.colaboratory.intrinsic+json": {
              "type": "string"
            }
          },
          "metadata": {},
          "execution_count": 237
        }
      ]
    },
    {
      "cell_type": "code",
      "source": [
        "divisas.keys()"
      ],
      "metadata": {
        "colab": {
          "base_uri": "https://localhost:8080/"
        },
        "id": "RqUgTr-MWuux",
        "outputId": "2491ce2f-fd7b-45e6-8507-005466b02c08"
      },
      "execution_count": 238,
      "outputs": [
        {
          "output_type": "execute_result",
          "data": {
            "text/plain": [
              "dict_keys(['Dolar', 'Euro', 'Libra'])"
            ]
          },
          "metadata": {},
          "execution_count": 238
        }
      ]
    },
    {
      "cell_type": "code",
      "source": [
        "divisas.values()"
      ],
      "metadata": {
        "colab": {
          "base_uri": "https://localhost:8080/"
        },
        "id": "sVq2k-y_WzfR",
        "outputId": "6a81941d-0fa1-4d02-d569-dcd855e0c41c"
      },
      "execution_count": 239,
      "outputs": [
        {
          "output_type": "execute_result",
          "data": {
            "text/plain": [
              "dict_values(['$', '€', '£'])"
            ]
          },
          "metadata": {},
          "execution_count": 239
        }
      ]
    },
    {
      "cell_type": "code",
      "source": [
        "divisas.items()"
      ],
      "metadata": {
        "colab": {
          "base_uri": "https://localhost:8080/"
        },
        "id": "lQ5bEBMgW2cy",
        "outputId": "e4dc6c91-8d08-45d3-8141-648a6485deab"
      },
      "execution_count": 240,
      "outputs": [
        {
          "output_type": "execute_result",
          "data": {
            "text/plain": [
              "dict_items([('Dolar', '$'), ('Euro', '€'), ('Libra', '£')])"
            ]
          },
          "metadata": {},
          "execution_count": 240
        }
      ]
    },
    {
      "cell_type": "code",
      "source": [
        "divisa = input(\"ingresar la divisa a buscar: \")\n",
        "\n",
        "\n",
        "if divisas.get(divisa, \"\") == \"\":\n",
        "  print(\"la divisa seleccionada no esta disponible\")\n",
        "else:\n",
        "  print(divisas.get(divisa))"
      ],
      "metadata": {
        "colab": {
          "base_uri": "https://localhost:8080/"
        },
        "id": "AKJ2ChjvXHmj",
        "outputId": "29f41a34-c81f-4309-ffec-023e3ad058bb"
      },
      "execution_count": 245,
      "outputs": [
        {
          "output_type": "stream",
          "name": "stdout",
          "text": [
            "ingresar la divisa a buscar: Eurosssss\n",
            "la divisa seleccionada no esta disponible\n"
          ]
        }
      ]
    },
    {
      "cell_type": "markdown",
      "source": [
        "Consigna\n",
        "\n",
        "A partir de una lista realizar las siguientes tareas sin modificar la lista original:\n",
        "\n",
        "1. Borrar los elementos duplicados\n",
        "2. Ordenar la lista de mayor a menor\n",
        "3. Eliminar todos los números impares (  for ---- if (%2==1) ---- pop, remove   )\n",
        "4. Realizar una suma de todos los números que quedan (sum(lista))\n",
        "5. Añadir como primer elemento de la lista la suma realizada insert(0, suma)\n",
        "6. Devolver la lista modificada\n",
        "7. Finalmente, después de ejecutar la función, comprueba que la suma de todos los números a partir del segundo, concuerda con el primer número de la lista\n",
        "\n",
        "lista = [29, -5, -12, 17, 5, 24, 5, 12, 23, 16, 12, 5, -12, 17]\n",
        "\n",
        "Nota: Recuerda que para sumar todos los números de una lista puedes usar sum\n"
      ],
      "metadata": {
        "id": "o3Qreyy7e4MF"
      }
    },
    {
      "cell_type": "code",
      "source": [
        "lista = [29, -5, -12, 17, 5, 24, 5, 12, 23, 16, 12, 5, -12, 17]"
      ],
      "metadata": {
        "id": "5vB9LW_4e5g7"
      },
      "execution_count": null,
      "outputs": []
    }
  ]
}