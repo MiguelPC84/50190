{
  "nbformat": 4,
  "nbformat_minor": 0,
  "metadata": {
    "colab": {
      "provenance": []
    },
    "kernelspec": {
      "name": "python3",
      "display_name": "Python 3"
    },
    "language_info": {
      "name": "python"
    }
  },
  "cells": [
    {
      "cell_type": "markdown",
      "source": [
        "<font size=\"6\" color=\"rgb(128, 128, 0)\">Métodos de Colecciones</font>"
      ],
      "metadata": {
        "id": "7ZjuMppgHat0"
      }
    },
    {
      "cell_type": "markdown",
      "source": [
        "* Cadenas\n",
        "* Listas\n",
        "* Conjuntos\n",
        "* Diccionarios\n",
        "\n",
        "![purple-divider](https://user-images.githubusercontent.com/7065401/52071927-c1cd7100-2562-11e9-908a-dde91ba14e59.png)"
      ],
      "metadata": {
        "id": "soHTgkD0LXRk"
      }
    },
    {
      "cell_type": "markdown",
      "source": [
        "Objetivos\n",
        "\n",
        "* __Utilizar__ funciones avanzadas de cadenas, listas, conjuntos y diccionarios"
      ],
      "metadata": {
        "id": "Vuhn4waYahcE"
      }
    },
    {
      "cell_type": "markdown",
      "source": [
        "![green-divider](https://user-images.githubusercontent.com/7065401/52071924-c003ad80-2562-11e9-8297-1c6595f8a7ff.png)\n",
        "\n",
        "#### Cadenas"
      ],
      "metadata": {
        "id": "SZ8FPyiZVvBw"
      }
    },
    {
      "cell_type": "code",
      "source": [
        "cadena_prueba = \"eSta ES una cadena DE pRUEba, repito, una cadeNA DE PrueBA\""
      ],
      "metadata": {
        "id": "_1_Oe37c0CZZ"
      },
      "execution_count": null,
      "outputs": []
    },
    {
      "cell_type": "markdown",
      "source": [
        "*__upper__*\n",
        "\n",
        "Retorna una copia del string en mayusculas.\n",
        "\n"
      ],
      "metadata": {
        "id": "0rzr69nDlwz6"
      }
    },
    {
      "cell_type": "code",
      "execution_count": null,
      "metadata": {
        "id": "Slv7Di0mG1d1"
      },
      "outputs": [],
      "source": [
        "# upper(None)-> str\n"
      ]
    },
    {
      "cell_type": "code",
      "source": [
        "# Retorna!!!: guardar el resultado en una variable\n"
      ],
      "metadata": {
        "id": "WoXDdCfgBQt7"
      },
      "execution_count": null,
      "outputs": []
    },
    {
      "cell_type": "markdown",
      "source": [
        "*__lower__*\n",
        "\n",
        "Retorna una copia del string en minusculas.\n"
      ],
      "metadata": {
        "id": "C96bhpnul-Er"
      }
    },
    {
      "cell_type": "code",
      "source": [
        "# lower(None)-> str\n"
      ],
      "metadata": {
        "id": "OzPMOxr0divM"
      },
      "execution_count": null,
      "outputs": []
    },
    {
      "cell_type": "markdown",
      "source": [
        "*__capitalize__*\n",
        "\n",
        "Retorna una copia del string, convirtiendo el primer caracter del string en mayuscula y el resto en minusculas.\n",
        "\n"
      ],
      "metadata": {
        "id": "oRhuPQWwmKdR"
      }
    },
    {
      "cell_type": "code",
      "source": [
        "# capitalize(None)-> str\n"
      ],
      "metadata": {
        "id": "SLc5hZ0Odqyx"
      },
      "execution_count": null,
      "outputs": []
    },
    {
      "cell_type": "markdown",
      "source": [
        "*__title__*\n",
        "\n",
        "Retorna una copia del string, con la primera letra de cada palabra en mayuscula.\n"
      ],
      "metadata": {
        "id": "3eQ55NT2oth0"
      }
    },
    {
      "cell_type": "code",
      "source": [
        "# title(None)-> str\n"
      ],
      "metadata": {
        "id": "hWnO9c4aer3B"
      },
      "execution_count": null,
      "outputs": []
    },
    {
      "cell_type": "markdown",
      "source": [
        "*__count__*\n",
        "\n",
        "Retorna cuantas veces aparece una **subcadena** dentro de la misma cadena.\n"
      ],
      "metadata": {
        "id": "oBXfI93moqOF"
      }
    },
    {
      "cell_type": "code",
      "source": [
        "cadena_prueba"
      ],
      "metadata": {
        "id": "eq7CRtIMp_RG"
      },
      "execution_count": null,
      "outputs": []
    },
    {
      "cell_type": "code",
      "source": [
        "# count(str)-> int\n",
        "# Un caracter\n"
      ],
      "metadata": {
        "id": "cibp6oe9h7VH"
      },
      "execution_count": null,
      "outputs": []
    },
    {
      "cell_type": "code",
      "source": [
        "# una sub-cadena\n"
      ],
      "metadata": {
        "id": "kkKpW3fS027x"
      },
      "execution_count": null,
      "outputs": []
    },
    {
      "cell_type": "code",
      "source": [
        "# si no esta\n"
      ],
      "metadata": {
        "id": "gwYnDnS4G7Yf"
      },
      "execution_count": null,
      "outputs": []
    },
    {
      "cell_type": "markdown",
      "source": [
        "*__find__*\n",
        "\n",
        "Retorna el índice en el que aparece una subcadena dentro de la misma cadena.\n",
        "\n",
        "Si no encuentra la cadena devuelve un -1.\n"
      ],
      "metadata": {
        "id": "58bmIO9PwfiS"
      }
    },
    {
      "cell_type": "code",
      "source": [
        "cadena_prueba"
      ],
      "metadata": {
        "id": "c0QuYFI7qHat"
      },
      "execution_count": null,
      "outputs": []
    },
    {
      "cell_type": "code",
      "source": [
        "# find(str)-> int\n",
        "# un caracter\n"
      ],
      "metadata": {
        "id": "5tgx-9xUiEE8"
      },
      "execution_count": null,
      "outputs": []
    },
    {
      "cell_type": "code",
      "source": [
        "# una subcadena\n"
      ],
      "metadata": {
        "id": "ugHUfhkn3ICx"
      },
      "execution_count": null,
      "outputs": []
    },
    {
      "cell_type": "code",
      "source": [
        "# verificacion -- print\n",
        "# print(f\"{cadena_prueba[xx]} {cadena_prueba[xx]} {cadena_prueba[xx]}\")"
      ],
      "metadata": {
        "id": "IUv-juBd3Py0"
      },
      "execution_count": null,
      "outputs": []
    },
    {
      "cell_type": "code",
      "source": [
        "# si no esta\n"
      ],
      "metadata": {
        "id": "-Y72TePG3cmF"
      },
      "execution_count": null,
      "outputs": []
    },
    {
      "cell_type": "markdown",
      "source": [
        "*__rfind__*\n",
        "\n",
        "Es exactamente igual al método find, los diferencia en que rfind devuelve el índice, pero de la última ocurrencia de la subcadena, es decir, la última vez que aparece en la cadena.\n",
        "\n",
        "Si no encuentra la cadena devuelve un -1.\n"
      ],
      "metadata": {
        "id": "wqffATr_z7ir"
      }
    },
    {
      "cell_type": "code",
      "source": [
        "cadena_prueba"
      ],
      "metadata": {
        "id": "v4GZgUuhqVuO"
      },
      "execution_count": null,
      "outputs": []
    },
    {
      "cell_type": "code",
      "source": [
        "# rfind(str)-> int  -- \"una\"\n",
        ""
      ],
      "metadata": {
        "id": "1YsCZXiTiX_Z"
      },
      "execution_count": null,
      "outputs": []
    },
    {
      "cell_type": "code",
      "source": [
        "# verificacion -- print\n",
        "# print(f\"{cadena_prueba[38]} {cadena_prueba[39]} {cadena_prueba[40]}\")"
      ],
      "metadata": {
        "id": "LOM7lYaD4p2R"
      },
      "execution_count": null,
      "outputs": []
    },
    {
      "cell_type": "code",
      "source": [
        "# si no esta\n"
      ],
      "metadata": {
        "id": "mR6UOZ1P4lBh"
      },
      "execution_count": null,
      "outputs": []
    },
    {
      "cell_type": "code",
      "source": [
        "# find igual a rfind\n"
      ],
      "metadata": {
        "id": "0_SjiG6Z440x"
      },
      "execution_count": null,
      "outputs": []
    },
    {
      "cell_type": "markdown",
      "source": [
        "*__split__*\n",
        "\n",
        "Retorna una **lista** con la cadena de caracteres separada segun un prefijo.\n",
        "\n",
        "Si no se indica alguna cadena para separar separa por “espacios”."
      ],
      "metadata": {
        "id": "2Nc2sJTf1e3Z"
      }
    },
    {
      "cell_type": "code",
      "source": [
        "# split(str)-> list\n",
        "# espacios\n"
      ],
      "metadata": {
        "id": "rF8k01SR3rcQ"
      },
      "execution_count": null,
      "outputs": []
    },
    {
      "cell_type": "code",
      "source": [
        "# subcadena - \"una\"\n"
      ],
      "metadata": {
        "id": "wTAeRMv23wkV"
      },
      "execution_count": null,
      "outputs": []
    },
    {
      "cell_type": "code",
      "source": [
        "# csv -- campos separados por coma\n",
        "# Formato: Nombre,Nota,Materia\n",
        "linea = \"Pedro,9,Matematica\"\n"
      ],
      "metadata": {
        "id": "Vew5XAWU8grR"
      },
      "execution_count": null,
      "outputs": []
    },
    {
      "cell_type": "markdown",
      "source": [
        "*__join__*\n",
        "\n",
        "Retorna el iterable que se pasa como argumento unido por el string."
      ],
      "metadata": {
        "id": "XthoYz3x33TN"
      }
    },
    {
      "cell_type": "code",
      "source": [
        "# lista - \",\"\n",
        "lista = [\"Hola\", \"me\", \"llamo\", \"Juan\"]\n",
        "\n"
      ],
      "metadata": {
        "id": "hnnfJ33MKkQP"
      },
      "execution_count": null,
      "outputs": []
    },
    {
      "cell_type": "code",
      "source": [
        "# join(iterable)-> str\n",
        "# str\n"
      ],
      "metadata": {
        "id": "LKqMqZE953pu"
      },
      "execution_count": null,
      "outputs": []
    },
    {
      "cell_type": "code",
      "source": [
        "# lista - \" \"\n"
      ],
      "metadata": {
        "id": "v5wQQaQUKzzO"
      },
      "execution_count": null,
      "outputs": []
    },
    {
      "cell_type": "markdown",
      "source": [
        "*__strip__*\n",
        "\n",
        "Retorna una copia del string, borrando todos los caracteres que se envian como argumento, de adelante y de atras del string.\n",
        "\n",
        "Nota: Si no se especifica el carácter elimina los espacios\n"
      ],
      "metadata": {
        "id": "HRnxBSYa6ung"
      }
    },
    {
      "cell_type": "code",
      "source": [
        "linea = \"*-banana-*\""
      ],
      "metadata": {
        "id": "Y4nw7qNnO5xA"
      },
      "execution_count": null,
      "outputs": []
    },
    {
      "cell_type": "code",
      "source": [
        "# strip(str)-> str\n",
        "# un caracter\n"
      ],
      "metadata": {
        "id": "mDChdIco7yfK"
      },
      "execution_count": null,
      "outputs": []
    },
    {
      "cell_type": "code",
      "source": [
        "# mas de un caracter\n"
      ],
      "metadata": {
        "id": "eI8rXG71O-rN"
      },
      "execution_count": null,
      "outputs": []
    },
    {
      "cell_type": "code",
      "source": [
        "# espacios"
      ],
      "metadata": {
        "id": "VVr1kiaIrawq"
      },
      "execution_count": null,
      "outputs": []
    },
    {
      "cell_type": "markdown",
      "source": [
        "*__replace__*\n",
        "\n",
        "Retorna una copia del string reemplazando los sub caracteres indicados.\n",
        "\n",
        "\n",
        "También podemos indicar cuantas veces lo reemplazaremos utilizando un índice.\n"
      ],
      "metadata": {
        "id": "1cb6cIXK9eCC"
      }
    },
    {
      "cell_type": "code",
      "source": [
        "cadena_prueba"
      ],
      "metadata": {
        "id": "XjKz9qBdQtwT"
      },
      "execution_count": null,
      "outputs": []
    },
    {
      "cell_type": "code",
      "source": [
        "# replace(str_old: str, str_new: str)-> str\n"
      ],
      "metadata": {
        "id": "k8xbF6jg-Bbp"
      },
      "execution_count": null,
      "outputs": []
    },
    {
      "cell_type": "code",
      "source": [
        "# cantidad de veces a reemplazar\n",
        "# replace(str_old: str, str_new: str, count: int)-> str\n"
      ],
      "metadata": {
        "id": "pDpa1KaD-Q0k"
      },
      "execution_count": null,
      "outputs": []
    },
    {
      "cell_type": "markdown",
      "source": [
        "*__isdecimal__*\n",
        "\n",
        "Retorna verdadero si todos los caracteres del string son numeros del 0-9."
      ],
      "metadata": {
        "id": "0RAVM47Fqg1w"
      }
    },
    {
      "cell_type": "code",
      "source": [
        "# isdecimal(None)-> bool\n"
      ],
      "metadata": {
        "id": "4GOVu2HsqfPp"
      },
      "execution_count": null,
      "outputs": []
    },
    {
      "cell_type": "code",
      "source": [
        "# float ?"
      ],
      "metadata": {
        "id": "wFyndoQFUQNO"
      },
      "execution_count": null,
      "outputs": []
    },
    {
      "cell_type": "markdown",
      "source": [
        "**Preguntas???**"
      ],
      "metadata": {
        "id": "ZiKXVbJzBddd"
      }
    },
    {
      "cell_type": "markdown",
      "source": [
        "![green-divider](https://user-images.githubusercontent.com/7065401/52071924-c003ad80-2562-11e9-8297-1c6595f8a7ff.png)\n",
        "\n",
        "#### Listas"
      ],
      "metadata": {
        "id": "RffoOCZu-gvI"
      }
    },
    {
      "cell_type": "markdown",
      "source": [
        "*__clear__*\n",
        "\n",
        "Este metodo elimina todos los elementos de una lista.\n"
      ],
      "metadata": {
        "id": "KfrpA5lH-ppy"
      }
    },
    {
      "cell_type": "code",
      "source": [
        "# clear(None)-> None\n"
      ],
      "metadata": {
        "id": "XbUaFlxeddp0"
      },
      "execution_count": null,
      "outputs": []
    },
    {
      "cell_type": "code",
      "source": [
        "# clear es igual a limpiar con [] ?\n"
      ],
      "metadata": {
        "id": "uVEpmi1fFhk-"
      },
      "execution_count": null,
      "outputs": []
    },
    {
      "cell_type": "markdown",
      "source": [
        "*__extend__*\n",
        "\n",
        "Une una lista con otra (iterable)"
      ],
      "metadata": {
        "id": "dLNRcMykFsup"
      }
    },
    {
      "cell_type": "code",
      "source": [
        "# extend(iterable)-> None\n",
        "# lista\n"
      ],
      "metadata": {
        "id": "-oedHO7SjWqm"
      },
      "execution_count": null,
      "outputs": []
    },
    {
      "cell_type": "code",
      "source": [
        "# extend con un str"
      ],
      "metadata": {
        "id": "tHs4Y0yztKj3"
      },
      "execution_count": null,
      "outputs": []
    },
    {
      "cell_type": "markdown",
      "source": [
        "*__insert__*\n",
        "\n",
        "Agregar un elemento a la lista en un indice específico."
      ],
      "metadata": {
        "id": "kT1oOE6lION1"
      }
    },
    {
      "cell_type": "code",
      "source": [
        "# insert(index: int, object)-> None\n"
      ],
      "metadata": {
        "id": "VfJOsufTkfDQ"
      },
      "execution_count": null,
      "outputs": []
    },
    {
      "cell_type": "markdown",
      "source": [
        "*__reverse__*\n",
        "\n",
        "Da vuelta una lista.\n",
        "\n",
        "Nota: Las cadenas no tienen la función reverse, pero se puede simular haciendo una conversión a lista y después usando el join\n"
      ],
      "metadata": {
        "id": "eQW4iKE8IrGa"
      }
    },
    {
      "cell_type": "code",
      "source": [
        "# reverse()-> None\n"
      ],
      "metadata": {
        "id": "J2K9EDdflJhc"
      },
      "execution_count": null,
      "outputs": []
    },
    {
      "cell_type": "code",
      "source": [
        "# string reverse\n",
        "frase = \"HOLA\"\n"
      ],
      "metadata": {
        "id": "ZEATU7Zble8Y"
      },
      "execution_count": null,
      "outputs": []
    },
    {
      "cell_type": "markdown",
      "source": [
        "*__sort__*\n",
        "\n",
        "Ordenar una lista por valor, de menor a mayor.\n"
      ],
      "metadata": {
        "id": "QVw0hokWJB3K"
      }
    },
    {
      "cell_type": "code",
      "source": [
        "# sort() --> de menor a mayor -- default\n",
        "\n"
      ],
      "metadata": {
        "id": "N3Gh9LCmmEJs"
      },
      "execution_count": null,
      "outputs": []
    },
    {
      "cell_type": "code",
      "source": [
        "# sort(reverse:bool=True) --> de mayor a menor\n"
      ],
      "metadata": {
        "id": "tLe6-_p9qMM0"
      },
      "execution_count": null,
      "outputs": []
    },
    {
      "cell_type": "markdown",
      "source": [
        "*__pop__*\n",
        "\n",
        "Retorna y elimina de la lista el ultimo elemento.\n",
        "\n",
        "Nota: Si la lista esta vacia da un error (IndexError)."
      ],
      "metadata": {
        "id": "rwLQ_K45qrYd"
      }
    },
    {
      "cell_type": "code",
      "source": [
        "# pop()-> object\n"
      ],
      "metadata": {
        "id": "7Ovl7g94rdii"
      },
      "execution_count": null,
      "outputs": []
    },
    {
      "cell_type": "code",
      "source": [
        "# pop(index: int) -> objet\n"
      ],
      "metadata": {
        "id": "CAUh8Z2LsLly"
      },
      "execution_count": null,
      "outputs": []
    },
    {
      "cell_type": "code",
      "source": [
        "# lista vacia\n"
      ],
      "metadata": {
        "id": "o14U7HhhsHl-"
      },
      "execution_count": null,
      "outputs": []
    },
    {
      "cell_type": "markdown",
      "source": [
        "Para ver todas las funciones"
      ],
      "metadata": {
        "id": "x4nSy3vjtAMI"
      }
    },
    {
      "cell_type": "code",
      "source": [
        "dir(list)"
      ],
      "metadata": {
        "id": "zoYJkRKtszgv"
      },
      "execution_count": null,
      "outputs": []
    },
    {
      "cell_type": "markdown",
      "source": [
        "**Preguntas???**"
      ],
      "metadata": {
        "id": "5r49xfX-uGKJ"
      }
    },
    {
      "cell_type": "markdown",
      "source": [
        "![green-divider](https://user-images.githubusercontent.com/7065401/52071924-c003ad80-2562-11e9-8297-1c6595f8a7ff.png)\n",
        "\n",
        "#### Ejercicio"
      ],
      "metadata": {
        "id": "qAOTEUdEt6Fo"
      }
    },
    {
      "cell_type": "markdown",
      "source": [
        "Descripción de la actividad.\n",
        "\n",
        "Utilizando todo lo que sabes sobre cadenas, listas y sus métodos internos, transforma este texto:\n",
        "\n",
        "gordon lanzó su curva&strawberry ha fallado por un pie! -gritó Joe Castiglione&dos pies -le corrigió Troop&strawberry menea la cabeza como disgustado… -agrega el comentarista\n",
        "\n",
        ">Gordon lanzó su curva...\n",
        " - Strawberry ha fallado por un pie! -gritó Joe Castiglione.\n",
        " - Dos pies le corrigió Troop.\n",
        " - Strawberry menea la cabeza como disgustado… -agrega el comentarista.\n",
        "\n"
      ],
      "metadata": {
        "id": "9vs6I7bgtwo0"
      }
    },
    {
      "cell_type": "code",
      "source": [
        "texto = \"gordon lanzó su curva&strawberry ha fallado por un pie! -gritó\\\n",
        "  Joe Castiglione&dos pies le corrigió Troop&strawberry menea la cabeza\\\n",
        "  como disgustado… -agrega el comentarista\"\n",
        "\n",
        "print(texto)\n",
        "\n",
        "# Transformar a:\n",
        "# Gordon lanzó su curva...\n",
        "# - Strawberry ha fallado por un pie! -gritó Joe Castiglione.\n",
        "# - Dos pies le corrigió Troop.\n",
        "# - Strawberry menea la cabeza como disgustado… -agrega el comentarista.\n",
        "\n",
        "\n",
        "\n"
      ],
      "metadata": {
        "id": "GW_mMwvB0Xkj"
      },
      "execution_count": null,
      "outputs": []
    },
    {
      "cell_type": "markdown",
      "source": [
        "![green-divider](https://user-images.githubusercontent.com/7065401/52071924-c003ad80-2562-11e9-8297-1c6595f8a7ff.png)\n",
        "\n",
        "#### Conjuntos"
      ],
      "metadata": {
        "id": "H0nl5MWC-kWK"
      }
    },
    {
      "cell_type": "code",
      "source": [
        "# sets de prueba\n",
        "set1 = {1, 2, 3}\n",
        "set2 = {4, 5, 6}\n",
        "set3 = {1, 7, 8}\n",
        "set4 = {1,2,3,4,5,6,7,8,9}"
      ],
      "metadata": {
        "id": "AtL2z0leSjAn"
      },
      "execution_count": null,
      "outputs": []
    },
    {
      "cell_type": "markdown",
      "source": [
        "*__copy__*\n",
        "\n",
        "Retorna una copia del conjunto (set)."
      ],
      "metadata": {
        "id": "6fu0t8yFvTw9"
      }
    },
    {
      "cell_type": "code",
      "source": [
        "# copy(None)-> set\n"
      ],
      "metadata": {
        "id": "oQ2kaGHZwKEN"
      },
      "execution_count": null,
      "outputs": []
    },
    {
      "cell_type": "markdown",
      "source": [
        "*__isdisjoint__*\n",
        "\n",
        "Esta función comprueba si el set es distinto a otro set, es decir, si no hay ningún ítem en común entre ellos.\n",
        "\n",
        "La interseccion entre los dos conjuntos es conjunto vacio -> True.\n"
      ],
      "metadata": {
        "id": "G4wEG-pKSVYe"
      }
    },
    {
      "cell_type": "code",
      "source": [
        "# isdisjoint(set)-> bool\n",
        "# True\n"
      ],
      "metadata": {
        "id": "3afkAdLHSzLk"
      },
      "execution_count": null,
      "outputs": []
    },
    {
      "cell_type": "code",
      "source": [
        "# False\n"
      ],
      "metadata": {
        "id": "44gPgdlLS1yp"
      },
      "execution_count": null,
      "outputs": []
    },
    {
      "cell_type": "markdown",
      "source": [
        "*__issubset__*\n",
        "\n",
        "Esta función comprueba si el set es subset de otro set, es decir, si todos sus ítems están en el otro conjunto.\n",
        "\n"
      ],
      "metadata": {
        "id": "pgmdyiGxTCcq"
      }
    },
    {
      "cell_type": "code",
      "source": [
        "# issubset(set)-> bool\n",
        "#True\n"
      ],
      "metadata": {
        "id": "geU0OdF7TPsZ"
      },
      "execution_count": null,
      "outputs": []
    },
    {
      "cell_type": "code",
      "source": [
        "# False\n"
      ],
      "metadata": {
        "id": "Wwb-tF2CTcIh"
      },
      "execution_count": null,
      "outputs": []
    },
    {
      "cell_type": "markdown",
      "source": [
        "*__issuperset__*\n",
        "\n",
        "Esta función es muy similar al issubset, la diferencia es que esta comprueba si el set es contenedor de otro set, es decir, si contiene todos los ítems de otro set."
      ],
      "metadata": {
        "id": "84JapEkBT6Qh"
      }
    },
    {
      "cell_type": "code",
      "source": [
        "# issuperset(set)-> bool\n",
        "# True\n"
      ],
      "metadata": {
        "id": "Kf21YcIlT2qV"
      },
      "execution_count": null,
      "outputs": []
    },
    {
      "cell_type": "code",
      "source": [
        "# False\n"
      ],
      "metadata": {
        "id": "IIo3ptGJjjDf"
      },
      "execution_count": null,
      "outputs": []
    },
    {
      "cell_type": "markdown",
      "source": [
        "*__union__*\n",
        "\n",
        "Esta función une un set con otro, y devuelve el resultado en un nuevo set."
      ],
      "metadata": {
        "id": "RbJ7n0aQUUnT"
      }
    },
    {
      "cell_type": "code",
      "source": [
        "# union(set)-> set\n"
      ],
      "metadata": {
        "id": "I71OmyWsU90f"
      },
      "execution_count": null,
      "outputs": []
    },
    {
      "cell_type": "markdown",
      "source": [
        "*__difference__*\n",
        "\n",
        "Esta función encuentra todos los elementos no comunes entre dos set, es decir, nos devuelve un set de ítems diferentes entre cada set.\n"
      ],
      "metadata": {
        "id": "3UbmVsRrVN1O"
      }
    },
    {
      "cell_type": "code",
      "source": [
        "# diference(set)-> set (los elementos del set1 que no estan en el set2)\n"
      ],
      "metadata": {
        "id": "cfS9OiIeVSt6"
      },
      "execution_count": null,
      "outputs": []
    },
    {
      "cell_type": "markdown",
      "source": [
        "*__difference_update__*\n",
        "\n",
        "Similar al difference, pero esta función nos guarda los ítems del set que se pasa como argumento en el set1."
      ],
      "metadata": {
        "id": "vgGKfMuCVjOz"
      }
    },
    {
      "cell_type": "code",
      "source": [
        "# difference_update(set)-> None\n"
      ],
      "metadata": {
        "id": "WpJvYaTgVqTC"
      },
      "execution_count": null,
      "outputs": []
    },
    {
      "cell_type": "markdown",
      "source": [
        "que diferencia hay con union?"
      ],
      "metadata": {
        "id": "cUqob12MxoZ-"
      }
    },
    {
      "cell_type": "markdown",
      "source": [
        "*__intersection__*\n",
        "\n",
        "Esta función devuelve un set con todos los elementos comunes entre dos set, es decir, nos devuelve un set de ítems iguales entre cada set.\n",
        "\n",
        "\n"
      ],
      "metadata": {
        "id": "H3UssTStV2Bm"
      }
    },
    {
      "cell_type": "code",
      "source": [
        "# intersection(set)-> set\n"
      ],
      "metadata": {
        "id": "O36nHqvcV8wx"
      },
      "execution_count": null,
      "outputs": []
    },
    {
      "cell_type": "markdown",
      "source": [
        "*__intersection_update__*\n",
        "\n",
        "Es exactamente igual al intersection, pero esta función actualiza el set original, es decir, le asigna como nuevo valor los ítems en común.\n",
        "\n",
        "Nota: Ahora set1 vale los ítems en común con set2\n"
      ],
      "metadata": {
        "id": "jxMyRorLWHBV"
      }
    },
    {
      "cell_type": "code",
      "source": [
        "# intersection_update(set)-> None\n"
      ],
      "metadata": {
        "id": "T5wRss6DWI86"
      },
      "execution_count": null,
      "outputs": []
    },
    {
      "cell_type": "markdown",
      "source": [
        "**Preguntas?**"
      ],
      "metadata": {
        "id": "Bwg9v9LMaFJw"
      }
    },
    {
      "cell_type": "markdown",
      "source": [
        "![green-divider](https://user-images.githubusercontent.com/7065401/52071924-c003ad80-2562-11e9-8297-1c6595f8a7ff.png)\n",
        "\n",
        "#### Ejercicios"
      ],
      "metadata": {
        "id": "o5m-fabFWSYm"
      }
    },
    {
      "cell_type": "markdown",
      "source": [
        "**Ejemplo 1:**\n",
        "\n",
        "* my_set_1 = set([1, 2, 3])\n",
        "* my_set_2 = set([3, 4, 5])\n",
        "* my_new_set = my_set_1.union(my_set_2)\n",
        "* print(my_new_set)\n",
        "\n",
        "**Ejemplo 2:**\n",
        "\n",
        "* my_set_1 = set([1, 2, 3])\n",
        "* my_set_2 = set([3, 4, 5])\n",
        "* my_new_set = my_set_1.intersection(my_set_2)\n",
        "* print(my_new_set)\n",
        "\n",
        "**Ejemplo 3:**\n",
        "\n",
        "* my_set_1 = set([1, 2, 3])\n",
        "* my_set_2 = set([3, 4, 5])\n",
        "* my_new_set = my_set_1.difference(my_set_2)\n",
        "* print(my_new_set)\n"
      ],
      "metadata": {
        "id": "F-UC8rC_-_Pl"
      }
    },
    {
      "cell_type": "code",
      "source": [],
      "metadata": {
        "id": "FFRA47BJXN2m"
      },
      "execution_count": null,
      "outputs": []
    },
    {
      "cell_type": "markdown",
      "source": [
        "![green-divider](https://user-images.githubusercontent.com/7065401/52071924-c003ad80-2562-11e9-8297-1c6595f8a7ff.png)\n",
        "\n",
        "#### Diccionarios"
      ],
      "metadata": {
        "id": "auaEztXr-muW"
      }
    },
    {
      "cell_type": "code",
      "source": [
        "colores = { \"amarillo\":\"yellow\", \"azul\":\"blue\", \"verde\":\"green\" }"
      ],
      "metadata": {
        "id": "nzRu16Ncc5dm"
      },
      "execution_count": null,
      "outputs": []
    },
    {
      "cell_type": "markdown",
      "source": [
        "*__get__*\n",
        "\n",
        "La función get sirve para poder buscar un elemento a partir de su key, en el caso de no encontrar devuelve un valor por defecto que le indicamos nosotros.\n",
        "\n"
      ],
      "metadata": {
        "id": "UQqb8nH31U-g"
      }
    },
    {
      "cell_type": "code",
      "source": [
        "# get(key, default_value)-> key_value/ default_value\n",
        "# la key esta\n"
      ],
      "metadata": {
        "id": "_TrK_S5o1t1B"
      },
      "execution_count": null,
      "outputs": []
    },
    {
      "cell_type": "code",
      "source": [
        "# la key no esta, con default\n"
      ],
      "metadata": {
        "id": "bMgLu3oWdMnu"
      },
      "execution_count": null,
      "outputs": []
    },
    {
      "cell_type": "code",
      "source": [
        "# si no indicamos un valor default"
      ],
      "metadata": {
        "id": "lVULxqCSZbPj"
      },
      "execution_count": null,
      "outputs": []
    },
    {
      "cell_type": "markdown",
      "source": [
        "*__keys__*\n",
        "\n",
        "La función key sirve para poder traer todas las claves de un diccionario en el caso de desconocerlas.\n"
      ],
      "metadata": {
        "id": "WY_9mZHt2Kca"
      }
    },
    {
      "cell_type": "code",
      "source": [
        "# keys(None)-> dict_keys\n"
      ],
      "metadata": {
        "id": "Gnz8rStw2UFc"
      },
      "execution_count": null,
      "outputs": []
    },
    {
      "cell_type": "code",
      "source": [
        "# iterar sobre las claves\n"
      ],
      "metadata": {
        "id": "PP5jvZU02Y-P"
      },
      "execution_count": null,
      "outputs": []
    },
    {
      "cell_type": "markdown",
      "source": [
        "*__values__*\n",
        "\n",
        "La función values es similar a keys, pero esta sirve para poder traer todos los valores de un diccionario.\n"
      ],
      "metadata": {
        "id": "OO7fv91FP3io"
      }
    },
    {
      "cell_type": "code",
      "source": [
        "# values(None)-> dict_values\n"
      ],
      "metadata": {
        "id": "iUReVHgnP9YG"
      },
      "execution_count": null,
      "outputs": []
    },
    {
      "cell_type": "code",
      "source": [
        "# iterar sobre los valores\n"
      ],
      "metadata": {
        "id": "T5UYloloQB81"
      },
      "execution_count": null,
      "outputs": []
    },
    {
      "cell_type": "markdown",
      "source": [
        "*__items__*\n",
        "\n",
        "La función items es similar a keys y values, pero esta crea una lista con clave y valor de los ítems de un diccionario."
      ],
      "metadata": {
        "id": "_2PSQN-IQMCb"
      }
    },
    {
      "cell_type": "code",
      "source": [
        "# items(None)-> dict_items (list)\n"
      ],
      "metadata": {
        "id": "vXZtvoLBQQme"
      },
      "execution_count": null,
      "outputs": []
    },
    {
      "cell_type": "code",
      "source": [
        "# iterar por los valores clave-valor\n"
      ],
      "metadata": {
        "id": "zWwUpKvVQd8N"
      },
      "execution_count": null,
      "outputs": []
    },
    {
      "cell_type": "markdown",
      "source": [
        "**Preguntas?**"
      ],
      "metadata": {
        "id": "j5Lvy7X7aRKq"
      }
    },
    {
      "cell_type": "markdown",
      "source": [
        "![green-divider](https://user-images.githubusercontent.com/7065401/52071924-c003ad80-2562-11e9-8297-1c6595f8a7ff.png)\n",
        "\n",
        "#### Ejercicios"
      ],
      "metadata": {
        "id": "OQ7wWSgySGIB"
      }
    },
    {
      "cell_type": "markdown",
      "source": [
        "Descripción de la actividad.\n",
        "\n",
        "Escribir un programa que guarde en una variable en un diccionario {'Dolar':'$','Euro':'€', 'Libra':'£'}.\n",
        "\n",
        "Luego se le deberá solicitar al usuario que ingrese la divisa que desea visualizar.\n",
        "\n",
        "En el caso de ingresar una divisa no existente en nuestro diccionario, deberemos indicarle con un mensaje de notificación que la divisa no se encuentra disponible.\n"
      ],
      "metadata": {
        "id": "xjWnu-fMeZaS"
      }
    },
    {
      "cell_type": "code",
      "source": [
        "divisas = {'Dolar':'$','Euro':'€', 'Libra':'£'}\n"
      ],
      "metadata": {
        "id": "S1YQ_so1ep7p"
      },
      "execution_count": null,
      "outputs": []
    },
    {
      "cell_type": "markdown",
      "source": [
        "Consigna\n",
        "\n",
        "A partir de una lista realizar las siguientes tareas sin modificar la lista original:\n",
        "\n",
        "1. Borrar los elementos duplicados\n",
        "2. Ordenar la lista de mayor a menor\n",
        "3. Eliminar todos los números impares (  for ---- if (%2==1) ---- pop, remove   )\n",
        "4. Realizar una suma de todos los números que quedan (sum(lista))\n",
        "5. Añadir como primer elemento de la lista la suma realizada insert(0, suma)\n",
        "6. Devolver la lista modificada\n",
        "7. Finalmente, después de ejecutar la función, comprueba que la suma de todos los números a partir del segundo, concuerda con el primer número de la lista\n",
        "\n",
        "lista = [29, -5, -12, 17, 5, 24, 5, 12, 23, 16, 12, 5, -12, 17]\n",
        "\n",
        "Nota: Recuerda que para sumar todos los números de una lista puedes usar sum\n"
      ],
      "metadata": {
        "id": "o3Qreyy7e4MF"
      }
    },
    {
      "cell_type": "code",
      "source": [
        "lista = [29, -5, -12, 17, 5, 24, 5, 12, 23, 16, 12, 5, -12, 17]"
      ],
      "metadata": {
        "id": "5vB9LW_4e5g7"
      },
      "execution_count": null,
      "outputs": []
    }
  ]
}