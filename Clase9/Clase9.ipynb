{
  "nbformat": 4,
  "nbformat_minor": 0,
  "metadata": {
    "colab": {
      "provenance": []
    },
    "kernelspec": {
      "name": "python3",
      "display_name": "Python 3"
    },
    "language_info": {
      "name": "python"
    }
  },
  "cells": [
    {
      "cell_type": "markdown",
      "source": [
        "<font size=\"6\" color=\"rgb(128, 128, 0)\">Funciones I</font>"
      ],
      "metadata": {
        "id": "LPxKRukaDBOp"
      }
    },
    {
      "cell_type": "markdown",
      "source": [
        "* Funciones\n",
        "* Retornando valores\n",
        "* Enviando valores\n",
        "\n",
        "![purple-divider](https://user-images.githubusercontent.com/7065401/52071927-c1cd7100-2562-11e9-908a-dde91ba14e59.png)"
      ],
      "metadata": {
        "id": "u1Y3ZN0YEykx"
      }
    },
    {
      "cell_type": "markdown",
      "source": [
        "![green-divider](https://user-images.githubusercontent.com/7065401/52071924-c003ad80-2562-11e9-8297-1c6595f8a7ff.png)\n",
        "\n",
        "### Objetivos"
      ],
      "metadata": {
        "id": "tMkHDtfTFE0K"
      }
    },
    {
      "cell_type": "markdown",
      "source": [
        "* Crear funciones\n",
        "* Retornar valores\n",
        "* Enviar valores"
      ],
      "metadata": {
        "id": "7mBsfZ7-H3Sx"
      }
    },
    {
      "cell_type": "markdown",
      "source": [
        "![green-divider](https://user-images.githubusercontent.com/7065401/52071924-c003ad80-2562-11e9-8297-1c6595f8a7ff.png)\n",
        "\n",
        "### Funciones"
      ],
      "metadata": {
        "id": "WKjJE4ETJVxa"
      }
    },
    {
      "cell_type": "markdown",
      "source": [
        "\n",
        "¿que piensan que es una funcion?"
      ],
      "metadata": {
        "id": "OWVFfHJ6NDZF"
      }
    },
    {
      "cell_type": "markdown",
      "source": [
        "*"
      ],
      "metadata": {
        "id": "qRhPdgLENMZV"
      }
    },
    {
      "cell_type": "code",
      "source": [
        "lista = [0,1,2,3,4,5,6]\n",
        "\n",
        "contador = 0\n",
        "\n",
        "for valor in lista:\n",
        "  contador += 1\n",
        "\n",
        "\n",
        "print(f\"La cantidad de elementos en la lista es {contador}\")\n",
        "\n",
        "\n",
        "lista.pop()\n",
        "\n",
        "lista.pop()\n",
        "\n",
        "contador = 0\n",
        "for datos in lista:\n",
        "  contador += 1\n",
        "\n",
        "\n",
        "print(f\"La cantidad de elementos en la lista ahora es {contador}\")\n",
        "\n"
      ],
      "metadata": {
        "id": "LhaYPAnNNPHM"
      },
      "execution_count": null,
      "outputs": []
    },
    {
      "cell_type": "markdown",
      "source": [
        "Cuando creamos nuestros propios programas nos damos cuenta de que muchas de las tareas que implementamos se repiten o se presentan de forma similar pero con algunos cambios.\n",
        "\n",
        "Entonces aparece la necesidad de agrupar este código repetido o similar, a las **agrupaciones de código** se les denomina **funciones** las cuales se pueden ejecutar múltiples veces gracias a un nombre único que las identifica."
      ],
      "metadata": {
        "id": "-XVRQcIuNN75"
      }
    },
    {
      "cell_type": "markdown",
      "source": [
        "Para comunicarse con nuestro proceso principal, las funciones pueden recibir y devolver datos manipulados. Un ejemplo de una función que conocemos es len() que nos permite saber la cantidad de elementos de una colección.\n",
        "\n",
        "Recordemos que a esta función hay que pasarle el elemento del cual queremos saber la longitud y devuelve un valor entero con la longitud, a este valor se le denomina valor de retorno.\n"
      ],
      "metadata": {
        "id": "2OfjRZwGNike"
      }
    },
    {
      "cell_type": "code",
      "source": [
        "argumento = \"HOLA\"\n",
        "\n",
        "retorno = len(argumento)\n",
        "\n",
        "print(retorno)"
      ],
      "metadata": {
        "id": "j-hZ7xjnL9rk",
        "colab": {
          "base_uri": "https://localhost:8080/"
        },
        "outputId": "6244dc0a-6fcd-4793-cda8-7228d0bd5234"
      },
      "execution_count": null,
      "outputs": [
        {
          "output_type": "stream",
          "name": "stdout",
          "text": [
            "4\n"
          ]
        }
      ]
    },
    {
      "cell_type": "code",
      "source": [
        "# Que otras funciones estuvimos usando?\n",
        "# https://docs.python.org/es/3/library/functions.html\n",
        "\n"
      ],
      "metadata": {
        "id": "XRAySg5pfITc"
      },
      "execution_count": null,
      "outputs": []
    },
    {
      "cell_type": "markdown",
      "source": [
        "#### Sintaxis para una definición de función"
      ],
      "metadata": {
        "id": "fjNx18Y7f_tV"
      }
    },
    {
      "cell_type": "markdown",
      "source": [
        "__def__\n",
        "\n",
        "La sentencia _def_ sirve para crear funciones definidas por el usuario. Una definición de función es una sentencia ejecutable."
      ],
      "metadata": {
        "id": "Ga2VkerOC6JA"
      }
    },
    {
      "cell_type": "markdown",
      "source": [
        "~~~\n",
        "def NOMBRE_FUNCION(PARÁMETROS):\n",
        "    SENTENCIAS\n",
        "    return [EXPRESIÓN]\n",
        "~~~\n",
        "* __Nombre__: Es el nombre de la función\n",
        "* __Parámetro__: En las funciones, cuando recibe argumentos, se les denominan parámetros.\n",
        "* __Sentencias__: Es el bloque del código que ejecuta la función.\n",
        "* __Return__: Es una sentencia de Python, le indica a la función qué devolver cuando llamamos a la función\n",
        "* __Expresión__: Es lo que devuelve la funcion.\n"
      ],
      "metadata": {
        "id": "oznW-NCGgA9w"
      }
    },
    {
      "cell_type": "code",
      "source": [
        "# Definimos la funcion -- saludar\n",
        "def saludar():\n",
        "  print(\"Hola mundo!\")\n",
        "  return\n",
        "\n",
        "\n",
        "saludar()"
      ],
      "metadata": {
        "id": "ClXwaBMWp2xS"
      },
      "execution_count": null,
      "outputs": []
    },
    {
      "cell_type": "code",
      "source": [
        "# definimos la funcion -- despedirse"
      ],
      "metadata": {
        "id": "B6gR_ASpevoF"
      },
      "execution_count": null,
      "outputs": []
    },
    {
      "cell_type": "code",
      "source": [
        "# definir funciones avanzadas\n",
        "\n",
        "def saludar(nombre):\n",
        "  print(f\"Hola {nombre}, bienvenido!!!!\")\n",
        "  return"
      ],
      "metadata": {
        "id": "aBfYHP3bquVI"
      },
      "execution_count": null,
      "outputs": []
    },
    {
      "cell_type": "code",
      "source": [
        "# llamo a la funcion\n",
        "\n",
        "saludar(\"pepe\")"
      ],
      "metadata": {
        "id": "XXeMZla1q8Fy"
      },
      "execution_count": null,
      "outputs": []
    },
    {
      "cell_type": "markdown",
      "source": [
        "Recomendaciones al nombrar una función\n",
        "\n",
        "* Utilizar minusculas en el nombre de la función.\n",
        "\n",
        "* Las palabras se separan con guiones bajos.\n",
        "\n",
        "* Utilizar nombres autoexplicativos.\n",
        "\n",
        "* Usar nombres que definan la función.\n"
      ],
      "metadata": {
        "id": "ZGxizfk5DOJa"
      }
    },
    {
      "cell_type": "markdown",
      "source": [
        "Preguntas????"
      ],
      "metadata": {
        "id": "k85-Qwzne_KI"
      }
    },
    {
      "cell_type": "markdown",
      "source": [
        "#### Variables y funciones\n",
        "\n",
        "Vamos a ver el alcance que tiene una variable en python\n"
      ],
      "metadata": {
        "id": "w3PDWss5FuM7"
      }
    },
    {
      "cell_type": "markdown",
      "source": [
        "VSCODE\n",
        "\n",
        "* var_global.py\n",
        "* var_local.py"
      ],
      "metadata": {
        "id": "UbKVBPoghRzw"
      }
    },
    {
      "cell_type": "code",
      "source": [
        "# Variable local\n",
        "\n",
        "def test():\n",
        "  nombre_funcion = \"Juan\"\n",
        "  print(nombre)\n",
        "  return\n",
        "\n",
        "\n",
        "test()\n",
        "print(nombre_funcion)"
      ],
      "metadata": {
        "id": "O6cUxDiyH56v"
      },
      "execution_count": null,
      "outputs": []
    },
    {
      "cell_type": "code",
      "source": [
        "# variable Global\n",
        "nombre = \"Juan\"\n",
        "\n",
        "def test():\n",
        "  print(nombre)\n",
        "  return\n",
        "\n",
        "\n",
        "test()\n",
        "print(nombre)"
      ],
      "metadata": {
        "id": "CrwkL_MRHiuc"
      },
      "execution_count": null,
      "outputs": []
    },
    {
      "cell_type": "markdown",
      "source": [
        "PARA RECORDAR:\n",
        "\n",
        "Las variables creadas en una función no existen fuera de la misma, de decir son variables locales.\n"
      ],
      "metadata": {
        "id": "RCRGlNavIUWn"
      }
    },
    {
      "cell_type": "markdown",
      "source": [
        "Puede una variable global tener el mismo nombre que una variable local?"
      ],
      "metadata": {
        "id": "Ui15boPqJItr"
      }
    },
    {
      "cell_type": "code",
      "source": [
        "# Verificar\n",
        "\n"
      ],
      "metadata": {
        "id": "gf_gqQECgfQA"
      },
      "execution_count": null,
      "outputs": []
    },
    {
      "cell_type": "markdown",
      "source": [
        "Preguntas????"
      ],
      "metadata": {
        "id": "Kfl_C9mHmcZT"
      }
    },
    {
      "cell_type": "markdown",
      "source": [
        "### Momentos de una funcion"
      ],
      "metadata": {
        "id": "aC34jyoNxEii"
      }
    },
    {
      "cell_type": "markdown",
      "source": [
        "Podemos diferenciar dos momentos:\n",
        "\n",
        "* la definicion de la funcion\n",
        "\n",
        "* la llamada a la funcion"
      ],
      "metadata": {
        "id": "z4FTSooUx6-s"
      }
    },
    {
      "cell_type": "code",
      "source": [
        "# definicion"
      ],
      "metadata": {
        "id": "fk3c7b9Jxi8d"
      },
      "execution_count": null,
      "outputs": []
    },
    {
      "cell_type": "markdown",
      "source": [
        "Durante la definición de la función, las variables o valores se denominan parámetros"
      ],
      "metadata": {
        "id": "gQpQ-I4D_d9V"
      }
    },
    {
      "cell_type": "code",
      "source": [
        "# llamada"
      ],
      "metadata": {
        "id": "Q0jyq4OAxqPl"
      },
      "execution_count": null,
      "outputs": []
    },
    {
      "cell_type": "markdown",
      "source": [
        "Y durante la llamada se denominan argumentos."
      ],
      "metadata": {
        "id": "qQlFbl1sB4re"
      }
    },
    {
      "cell_type": "markdown",
      "source": [
        "VSCODE\n",
        "\n",
        "* momento.py"
      ],
      "metadata": {
        "id": "PjoUPGuui-fK"
      }
    },
    {
      "cell_type": "markdown",
      "source": [
        "Preguntas????"
      ],
      "metadata": {
        "id": "5yccKm9umgF8"
      }
    },
    {
      "cell_type": "markdown",
      "source": [
        "![green-divider](https://user-images.githubusercontent.com/7065401/52071924-c003ad80-2562-11e9-8297-1c6595f8a7ff.png)\n",
        "\n",
        "### Retornando valores"
      ],
      "metadata": {
        "id": "JeGnup3qbsQJ"
      }
    },
    {
      "cell_type": "markdown",
      "source": [
        "Las funciones pueden comunicarse con el exterior de las mismas, al proceso principal del programa usando la sentencia **return**. La comunicación con el exterior se hace devolviendo valores.\n"
      ],
      "metadata": {
        "id": "IZkdxvKVcFER"
      }
    },
    {
      "cell_type": "code",
      "source": [
        "# retornar un valor\n",
        "\n",
        "def saludar_con_nombre(nombre):\n",
        "  saludando = f\"Hola {nombre}\"\n",
        "  return saludando\n",
        "\n",
        "\n",
        "mensaje = saludar_con_nombre(\"Juan\")\n",
        "\n",
        "print(mensaje)\n",
        "\n",
        "# Que tipo de dato retorna?"
      ],
      "metadata": {
        "id": "4zVkdLzJbuyA"
      },
      "execution_count": null,
      "outputs": []
    },
    {
      "cell_type": "code",
      "source": [
        "# mas ejemplos\n",
        "# perimetro cuadrado\n"
      ],
      "metadata": {
        "id": "X1wLsHuPpFYt"
      },
      "execution_count": null,
      "outputs": []
    },
    {
      "cell_type": "code",
      "source": [
        "# perimetro y superficie\n"
      ],
      "metadata": {
        "id": "dVLQS1yhp3LC"
      },
      "execution_count": null,
      "outputs": []
    },
    {
      "cell_type": "code",
      "source": [
        "# por defecto retornan None\n",
        "\n"
      ],
      "metadata": {
        "id": "_gV131bySPqA"
      },
      "execution_count": null,
      "outputs": []
    },
    {
      "cell_type": "code",
      "source": [
        "# Que pasa si escribimos codigo despues del return?"
      ],
      "metadata": {
        "id": "Yc_cj-IkcgVh"
      },
      "execution_count": null,
      "outputs": []
    },
    {
      "cell_type": "markdown",
      "source": [
        "Sin embargo, hay que tener en cuenta que la función termina al devolver un valor, es decir, lo que escribamos después no se ejecutará:\n"
      ],
      "metadata": {
        "id": "mqRBo5hEcedC"
      }
    },
    {
      "cell_type": "code",
      "source": [
        "# Que pasa si no ponemos return ?"
      ],
      "metadata": {
        "id": "2lyw2eDJlvSz"
      },
      "execution_count": null,
      "outputs": []
    },
    {
      "cell_type": "markdown",
      "source": [
        "Preguntas???"
      ],
      "metadata": {
        "id": "jrPF9gKYmjh5"
      }
    },
    {
      "cell_type": "markdown",
      "source": [
        "![green-divider](https://user-images.githubusercontent.com/7065401/52071924-c003ad80-2562-11e9-8297-1c6595f8a7ff.png)\n",
        "\n",
        "### Enviando valores"
      ],
      "metadata": {
        "id": "RCs2yrJjv4Zi"
      }
    },
    {
      "cell_type": "markdown",
      "source": [
        "Vimos como devolver valores y así comunicar una función con el exterior, ahora enviar información desde el exterior a la función.\n",
        "\n",
        "Para entender los conceptos más fácilmente vamos a trabajar alrededor de un caso de estudio típico: crear una función que sume dos números y retorne su resultado.\n"
      ],
      "metadata": {
        "id": "5se85tuJKZoP"
      }
    },
    {
      "cell_type": "code",
      "source": [
        "# Definir la funcion\n",
        "\n"
      ],
      "metadata": {
        "id": "Pyp1AXBlCLt2"
      },
      "execution_count": null,
      "outputs": []
    },
    {
      "cell_type": "code",
      "source": [
        "# Llamada a la funcion\n",
        "\n"
      ],
      "metadata": {
        "id": "ndU23k4bCZyq"
      },
      "execution_count": null,
      "outputs": []
    },
    {
      "cell_type": "markdown",
      "source": [
        "VSCODE\n",
        "\n",
        "* resta.py"
      ],
      "metadata": {
        "id": "bsb-UB1asRsa"
      }
    },
    {
      "cell_type": "markdown",
      "source": [
        "![green-divider](https://user-images.githubusercontent.com/7065401/52071924-c003ad80-2562-11e9-8297-1c6595f8a7ff.png)\n",
        "\n",
        "### Ejercicios"
      ],
      "metadata": {
        "id": "yJ0rPRycyDoB"
      }
    },
    {
      "cell_type": "markdown",
      "source": [
        "#### Welcome"
      ],
      "metadata": {
        "id": "Io6AjPjNyyLO"
      }
    },
    {
      "cell_type": "markdown",
      "source": [
        "Escribir una función a la que se le pase una cadena del nombre de una ciudad ciudad y muestre por pantalla el saludo: ¡hola bienvenidx a {nombre}!.\n"
      ],
      "metadata": {
        "id": "Cwkou7g_751B"
      }
    },
    {
      "cell_type": "code",
      "source": [],
      "metadata": {
        "id": "8Frlh1Qj8BNd"
      },
      "execution_count": null,
      "outputs": []
    },
    {
      "cell_type": "markdown",
      "source": [
        "#### Media"
      ],
      "metadata": {
        "id": "BSyks-_a8Prl"
      }
    },
    {
      "cell_type": "markdown",
      "source": [
        "Escribir una función que reciba una muestra de números en una lista y devuelva su media."
      ],
      "metadata": {
        "id": "uFZUk0VE8VRg"
      }
    },
    {
      "cell_type": "code",
      "source": [],
      "metadata": {
        "id": "1au5mtk48pBL"
      },
      "execution_count": null,
      "outputs": []
    },
    {
      "cell_type": "markdown",
      "source": [
        "#### Multiplo"
      ],
      "metadata": {
        "id": "VlJOvYXE8zHk"
      }
    },
    {
      "cell_type": "markdown",
      "source": [
        "Crea un programa que le pida dos números enteros al usuario y diga por consola, si alguno de ellos es múltiplo del otro. La función debe llamarse es_multiplo()."
      ],
      "metadata": {
        "id": "gZ0mkxnA8wKy"
      }
    },
    {
      "cell_type": "markdown",
      "source": [
        "###![purple-divider](https://user-images.githubusercontent.com/7065401/52071927-c1cd7100-2562-11e9-908a-dde91ba14e59.png)"
      ],
      "metadata": {
        "id": "6LulNAL5KViI"
      }
    }
  ]
}